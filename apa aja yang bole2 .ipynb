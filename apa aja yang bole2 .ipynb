{
 "cells": [
  {
   "cell_type": "code",
   "execution_count": 1,
   "metadata": {},
   "outputs": [],
   "source": [
    "import pandas as pd\n",
    "import plotly.express as px\n",
    "import plotly.graph_objects as go\n",
    "import plotly.io as pio\n",
    "pio.templates.default = \"plotly_white\"\n",
    "data = pd.read_csv(\"https://raw.githubusercontent.com/joh4nnes/MLData/main/Instagramdata.csv\", encoding='latin-1')"
   ]
  },
  {
   "cell_type": "code",
   "execution_count": 2,
   "metadata": {},
   "outputs": [
    {
     "data": {
      "text/plain": [
       "(119, 13)"
      ]
     },
     "execution_count": 2,
     "metadata": {},
     "output_type": "execute_result"
    }
   ],
   "source": [
    "#1. Find the dimensions of the dataset\n",
    "data.shape"
   ]
  },
  {
   "cell_type": "code",
   "execution_count": 3,
   "metadata": {},
   "outputs": [
    {
     "data": {
      "text/html": [
       "<div>\n",
       "<style scoped>\n",
       "    .dataframe tbody tr th:only-of-type {\n",
       "        vertical-align: middle;\n",
       "    }\n",
       "\n",
       "    .dataframe tbody tr th {\n",
       "        vertical-align: top;\n",
       "    }\n",
       "\n",
       "    .dataframe thead th {\n",
       "        text-align: right;\n",
       "    }\n",
       "</style>\n",
       "<table border=\"1\" class=\"dataframe\">\n",
       "  <thead>\n",
       "    <tr style=\"text-align: right;\">\n",
       "      <th></th>\n",
       "      <th>Impressions</th>\n",
       "      <th>From Home</th>\n",
       "      <th>From Hashtags</th>\n",
       "      <th>From Explore</th>\n",
       "      <th>From Other</th>\n",
       "      <th>Saves</th>\n",
       "      <th>Comments</th>\n",
       "      <th>Shares</th>\n",
       "      <th>Likes</th>\n",
       "      <th>Profile Visits</th>\n",
       "      <th>Follows</th>\n",
       "      <th>Caption</th>\n",
       "      <th>Hashtags</th>\n",
       "    </tr>\n",
       "  </thead>\n",
       "  <tbody>\n",
       "    <tr>\n",
       "      <th>0</th>\n",
       "      <td>3920</td>\n",
       "      <td>2586</td>\n",
       "      <td>1028</td>\n",
       "      <td>619</td>\n",
       "      <td>56</td>\n",
       "      <td>98</td>\n",
       "      <td>9</td>\n",
       "      <td>5</td>\n",
       "      <td>162</td>\n",
       "      <td>35</td>\n",
       "      <td>2</td>\n",
       "      <td>Here are some of the most important data visua...</td>\n",
       "      <td>#finance #money #business #investing #investme...</td>\n",
       "    </tr>\n",
       "    <tr>\n",
       "      <th>1</th>\n",
       "      <td>5394</td>\n",
       "      <td>2727</td>\n",
       "      <td>1838</td>\n",
       "      <td>1174</td>\n",
       "      <td>78</td>\n",
       "      <td>194</td>\n",
       "      <td>7</td>\n",
       "      <td>14</td>\n",
       "      <td>224</td>\n",
       "      <td>48</td>\n",
       "      <td>10</td>\n",
       "      <td>Here are some of the best data science project...</td>\n",
       "      <td>#healthcare #health #covid #data #datascience ...</td>\n",
       "    </tr>\n",
       "    <tr>\n",
       "      <th>2</th>\n",
       "      <td>4021</td>\n",
       "      <td>2085</td>\n",
       "      <td>1188</td>\n",
       "      <td>0</td>\n",
       "      <td>533</td>\n",
       "      <td>41</td>\n",
       "      <td>11</td>\n",
       "      <td>1</td>\n",
       "      <td>131</td>\n",
       "      <td>62</td>\n",
       "      <td>12</td>\n",
       "      <td>Learn how to train a machine learning model an...</td>\n",
       "      <td>#data #datascience #dataanalysis #dataanalytic...</td>\n",
       "    </tr>\n",
       "    <tr>\n",
       "      <th>3</th>\n",
       "      <td>4528</td>\n",
       "      <td>2700</td>\n",
       "      <td>621</td>\n",
       "      <td>932</td>\n",
       "      <td>73</td>\n",
       "      <td>172</td>\n",
       "      <td>10</td>\n",
       "      <td>7</td>\n",
       "      <td>213</td>\n",
       "      <td>23</td>\n",
       "      <td>8</td>\n",
       "      <td>Heres how you can write a Python program to d...</td>\n",
       "      <td>#python #pythonprogramming #pythonprojects #py...</td>\n",
       "    </tr>\n",
       "    <tr>\n",
       "      <th>4</th>\n",
       "      <td>2518</td>\n",
       "      <td>1704</td>\n",
       "      <td>255</td>\n",
       "      <td>279</td>\n",
       "      <td>37</td>\n",
       "      <td>96</td>\n",
       "      <td>5</td>\n",
       "      <td>4</td>\n",
       "      <td>123</td>\n",
       "      <td>8</td>\n",
       "      <td>0</td>\n",
       "      <td>Plotting annotations while visualizing your da...</td>\n",
       "      <td>#datavisualization #datascience #data #dataana...</td>\n",
       "    </tr>\n",
       "  </tbody>\n",
       "</table>\n",
       "</div>"
      ],
      "text/plain": [
       "   Impressions  From Home  From Hashtags  From Explore  From Other  Saves  \\\n",
       "0         3920       2586           1028           619          56     98   \n",
       "1         5394       2727           1838          1174          78    194   \n",
       "2         4021       2085           1188             0         533     41   \n",
       "3         4528       2700            621           932          73    172   \n",
       "4         2518       1704            255           279          37     96   \n",
       "\n",
       "   Comments  Shares  Likes  Profile Visits  Follows  \\\n",
       "0         9       5    162              35        2   \n",
       "1         7      14    224              48       10   \n",
       "2        11       1    131              62       12   \n",
       "3        10       7    213              23        8   \n",
       "4         5       4    123               8        0   \n",
       "\n",
       "                                             Caption  \\\n",
       "0  Here are some of the most important data visua...   \n",
       "1  Here are some of the best data science project...   \n",
       "2  Learn how to train a machine learning model an...   \n",
       "3  Heres how you can write a Python program to d...   \n",
       "4  Plotting annotations while visualizing your da...   \n",
       "\n",
       "                                            Hashtags  \n",
       "0  #finance #money #business #investing #investme...  \n",
       "1  #healthcare #health #covid #data #datascience ...  \n",
       "2  #data #datascience #dataanalysis #dataanalytic...  \n",
       "3  #python #pythonprogramming #pythonprojects #py...  \n",
       "4  #datavisualization #datascience #data #dataana...  "
      ]
     },
     "execution_count": 3,
     "metadata": {},
     "output_type": "execute_result"
    }
   ],
   "source": [
    "data.head()"
   ]
  },
  {
   "cell_type": "code",
   "execution_count": 4,
   "metadata": {},
   "outputs": [
    {
     "name": "stdout",
     "output_type": "stream",
     "text": [
      "<class 'pandas.core.frame.DataFrame'>\n",
      "RangeIndex: 119 entries, 0 to 118\n",
      "Data columns (total 13 columns):\n",
      " #   Column          Non-Null Count  Dtype \n",
      "---  ------          --------------  ----- \n",
      " 0   Impressions     119 non-null    int64 \n",
      " 1   From Home       119 non-null    int64 \n",
      " 2   From Hashtags   119 non-null    int64 \n",
      " 3   From Explore    119 non-null    int64 \n",
      " 4   From Other      119 non-null    int64 \n",
      " 5   Saves           119 non-null    int64 \n",
      " 6   Comments        119 non-null    int64 \n",
      " 7   Shares          119 non-null    int64 \n",
      " 8   Likes           119 non-null    int64 \n",
      " 9   Profile Visits  119 non-null    int64 \n",
      " 10  Follows         119 non-null    int64 \n",
      " 11  Caption         119 non-null    object\n",
      " 12  Hashtags        119 non-null    object\n",
      "dtypes: int64(11), object(2)\n",
      "memory usage: 12.2+ KB\n",
      "None\n"
     ]
    }
   ],
   "source": [
    "print(data.info())"
   ]
  },
  {
   "cell_type": "code",
   "execution_count": 5,
   "metadata": {},
   "outputs": [
    {
     "name": "stdout",
     "output_type": "stream",
     "text": [
      "        Impressions     From Home  From Hashtags  From Explore   From Other  \\\n",
      "count    119.000000    119.000000     119.000000    119.000000   119.000000   \n",
      "mean    5703.991597   2475.789916    1887.512605   1078.100840   171.092437   \n",
      "std     4843.780105   1489.386348    1884.361443   2613.026132   289.431031   \n",
      "min     1941.000000   1133.000000     116.000000      0.000000     9.000000   \n",
      "25%     3467.000000   1945.000000     726.000000    157.500000    38.000000   \n",
      "50%     4289.000000   2207.000000    1278.000000    326.000000    74.000000   \n",
      "75%     6138.000000   2602.500000    2363.500000    689.500000   196.000000   \n",
      "max    36919.000000  13473.000000   11817.000000  17414.000000  2547.000000   \n",
      "\n",
      "             Saves    Comments      Shares       Likes  Profile Visits  \\\n",
      "count   119.000000  119.000000  119.000000  119.000000      119.000000   \n",
      "mean    153.310924    6.663866    9.361345  173.781513       50.621849   \n",
      "std     156.317731    3.544576   10.089205   82.378947       87.088402   \n",
      "min      22.000000    0.000000    0.000000   72.000000        4.000000   \n",
      "25%      65.000000    4.000000    3.000000  121.500000       15.000000   \n",
      "50%     109.000000    6.000000    6.000000  151.000000       23.000000   \n",
      "75%     169.000000    8.000000   13.500000  204.000000       42.000000   \n",
      "max    1095.000000   19.000000   75.000000  549.000000      611.000000   \n",
      "\n",
      "          Follows  \n",
      "count  119.000000  \n",
      "mean    20.756303  \n",
      "std     40.921580  \n",
      "min      0.000000  \n",
      "25%      4.000000  \n",
      "50%      8.000000  \n",
      "75%     18.000000  \n",
      "max    260.000000  \n"
     ]
    }
   ],
   "source": [
    "print(data.describe())"
   ]
  },
  {
   "cell_type": "code",
   "execution_count": 6,
   "metadata": {},
   "outputs": [
    {
     "name": "stdout",
     "output_type": "stream",
     "text": [
      "Impressions       0\n",
      "From Home         0\n",
      "From Hashtags     0\n",
      "From Explore      0\n",
      "From Other        0\n",
      "Saves             0\n",
      "Comments          0\n",
      "Shares            0\n",
      "Likes             0\n",
      "Profile Visits    0\n",
      "Follows           0\n",
      "Caption           0\n",
      "Hashtags          0\n",
      "dtype: int64\n"
     ]
    }
   ],
   "source": [
    "print(data.isnull().sum())"
   ]
  },
  {
   "cell_type": "code",
   "execution_count": 7,
   "metadata": {},
   "outputs": [
    {
     "data": {
      "application/vnd.plotly.v1+json": {
       "config": {
        "plotlyServerURL": "https://plot.ly"
       },
       "data": [
        {
         "alignmentgroup": "True",
         "bingroup": "x",
         "hovertemplate": "Impressions=%{x}<br>count=%{y}<extra></extra>",
         "legendgroup": "",
         "marker": {
          "color": "#636efa",
          "pattern": {
           "shape": ""
          }
         },
         "name": "",
         "nbinsx": 10,
         "offsetgroup": "",
         "orientation": "v",
         "showlegend": false,
         "type": "histogram",
         "x": [
          3920,
          5394,
          4021,
          4528,
          2518,
          3884,
          2621,
          3541,
          3749,
          4115,
          2218,
          3234,
          4344,
          3216,
          9453,
          5055,
          4002,
          3169,
          6168,
          2407,
          2064,
          3973,
          7281,
          3052,
          4628,
          4082,
          5394,
          2766,
          3924,
          3015,
          6666,
          3854,
          4355,
          4343,
          6108,
          2523,
          2327,
          3990,
          2191,
          1941,
          16062,
          4998,
          4289,
          3880,
          3786,
          4298,
          3630,
          2826,
          7407,
          10386,
          2998,
          7018,
          2941,
          6432,
          10667,
          3988,
          4978,
          3388,
          4467,
          3246,
          5072,
          6339,
          4239,
          3454,
          7571,
          3333,
          3818,
          10933,
          5058,
          3601,
          3480,
          3525,
          3606,
          5542,
          6559,
          3623,
          10493,
          4446,
          2957,
          5538,
          4681,
          5273,
          5055,
          4002,
          3169,
          6168,
          2407,
          3630,
          2826,
          7407,
          10386,
          2998,
          3052,
          4628,
          4082,
          5394,
          2766,
          3924,
          3015,
          5409,
          5323,
          8001,
          4150,
          4609,
          6348,
          11068,
          7231,
          17396,
          6814,
          17713,
          5563,
          4842,
          11149,
          10206,
          13700,
          5731,
          4139,
          32695,
          36919
         ],
         "xaxis": "x",
         "yaxis": "y"
        }
       ],
       "layout": {
        "barmode": "relative",
        "legend": {
         "tracegroupgap": 0
        },
        "template": {
         "data": {
          "bar": [
           {
            "error_x": {
             "color": "#2a3f5f"
            },
            "error_y": {
             "color": "#2a3f5f"
            },
            "marker": {
             "line": {
              "color": "white",
              "width": 0.5
             },
             "pattern": {
              "fillmode": "overlay",
              "size": 10,
              "solidity": 0.2
             }
            },
            "type": "bar"
           }
          ],
          "barpolar": [
           {
            "marker": {
             "line": {
              "color": "white",
              "width": 0.5
             },
             "pattern": {
              "fillmode": "overlay",
              "size": 10,
              "solidity": 0.2
             }
            },
            "type": "barpolar"
           }
          ],
          "carpet": [
           {
            "aaxis": {
             "endlinecolor": "#2a3f5f",
             "gridcolor": "#C8D4E3",
             "linecolor": "#C8D4E3",
             "minorgridcolor": "#C8D4E3",
             "startlinecolor": "#2a3f5f"
            },
            "baxis": {
             "endlinecolor": "#2a3f5f",
             "gridcolor": "#C8D4E3",
             "linecolor": "#C8D4E3",
             "minorgridcolor": "#C8D4E3",
             "startlinecolor": "#2a3f5f"
            },
            "type": "carpet"
           }
          ],
          "choropleth": [
           {
            "colorbar": {
             "outlinewidth": 0,
             "ticks": ""
            },
            "type": "choropleth"
           }
          ],
          "contour": [
           {
            "colorbar": {
             "outlinewidth": 0,
             "ticks": ""
            },
            "colorscale": [
             [
              0,
              "#0d0887"
             ],
             [
              0.1111111111111111,
              "#46039f"
             ],
             [
              0.2222222222222222,
              "#7201a8"
             ],
             [
              0.3333333333333333,
              "#9c179e"
             ],
             [
              0.4444444444444444,
              "#bd3786"
             ],
             [
              0.5555555555555556,
              "#d8576b"
             ],
             [
              0.6666666666666666,
              "#ed7953"
             ],
             [
              0.7777777777777778,
              "#fb9f3a"
             ],
             [
              0.8888888888888888,
              "#fdca26"
             ],
             [
              1,
              "#f0f921"
             ]
            ],
            "type": "contour"
           }
          ],
          "contourcarpet": [
           {
            "colorbar": {
             "outlinewidth": 0,
             "ticks": ""
            },
            "type": "contourcarpet"
           }
          ],
          "heatmap": [
           {
            "colorbar": {
             "outlinewidth": 0,
             "ticks": ""
            },
            "colorscale": [
             [
              0,
              "#0d0887"
             ],
             [
              0.1111111111111111,
              "#46039f"
             ],
             [
              0.2222222222222222,
              "#7201a8"
             ],
             [
              0.3333333333333333,
              "#9c179e"
             ],
             [
              0.4444444444444444,
              "#bd3786"
             ],
             [
              0.5555555555555556,
              "#d8576b"
             ],
             [
              0.6666666666666666,
              "#ed7953"
             ],
             [
              0.7777777777777778,
              "#fb9f3a"
             ],
             [
              0.8888888888888888,
              "#fdca26"
             ],
             [
              1,
              "#f0f921"
             ]
            ],
            "type": "heatmap"
           }
          ],
          "heatmapgl": [
           {
            "colorbar": {
             "outlinewidth": 0,
             "ticks": ""
            },
            "colorscale": [
             [
              0,
              "#0d0887"
             ],
             [
              0.1111111111111111,
              "#46039f"
             ],
             [
              0.2222222222222222,
              "#7201a8"
             ],
             [
              0.3333333333333333,
              "#9c179e"
             ],
             [
              0.4444444444444444,
              "#bd3786"
             ],
             [
              0.5555555555555556,
              "#d8576b"
             ],
             [
              0.6666666666666666,
              "#ed7953"
             ],
             [
              0.7777777777777778,
              "#fb9f3a"
             ],
             [
              0.8888888888888888,
              "#fdca26"
             ],
             [
              1,
              "#f0f921"
             ]
            ],
            "type": "heatmapgl"
           }
          ],
          "histogram": [
           {
            "marker": {
             "pattern": {
              "fillmode": "overlay",
              "size": 10,
              "solidity": 0.2
             }
            },
            "type": "histogram"
           }
          ],
          "histogram2d": [
           {
            "colorbar": {
             "outlinewidth": 0,
             "ticks": ""
            },
            "colorscale": [
             [
              0,
              "#0d0887"
             ],
             [
              0.1111111111111111,
              "#46039f"
             ],
             [
              0.2222222222222222,
              "#7201a8"
             ],
             [
              0.3333333333333333,
              "#9c179e"
             ],
             [
              0.4444444444444444,
              "#bd3786"
             ],
             [
              0.5555555555555556,
              "#d8576b"
             ],
             [
              0.6666666666666666,
              "#ed7953"
             ],
             [
              0.7777777777777778,
              "#fb9f3a"
             ],
             [
              0.8888888888888888,
              "#fdca26"
             ],
             [
              1,
              "#f0f921"
             ]
            ],
            "type": "histogram2d"
           }
          ],
          "histogram2dcontour": [
           {
            "colorbar": {
             "outlinewidth": 0,
             "ticks": ""
            },
            "colorscale": [
             [
              0,
              "#0d0887"
             ],
             [
              0.1111111111111111,
              "#46039f"
             ],
             [
              0.2222222222222222,
              "#7201a8"
             ],
             [
              0.3333333333333333,
              "#9c179e"
             ],
             [
              0.4444444444444444,
              "#bd3786"
             ],
             [
              0.5555555555555556,
              "#d8576b"
             ],
             [
              0.6666666666666666,
              "#ed7953"
             ],
             [
              0.7777777777777778,
              "#fb9f3a"
             ],
             [
              0.8888888888888888,
              "#fdca26"
             ],
             [
              1,
              "#f0f921"
             ]
            ],
            "type": "histogram2dcontour"
           }
          ],
          "mesh3d": [
           {
            "colorbar": {
             "outlinewidth": 0,
             "ticks": ""
            },
            "type": "mesh3d"
           }
          ],
          "parcoords": [
           {
            "line": {
             "colorbar": {
              "outlinewidth": 0,
              "ticks": ""
             }
            },
            "type": "parcoords"
           }
          ],
          "pie": [
           {
            "automargin": true,
            "type": "pie"
           }
          ],
          "scatter": [
           {
            "fillpattern": {
             "fillmode": "overlay",
             "size": 10,
             "solidity": 0.2
            },
            "type": "scatter"
           }
          ],
          "scatter3d": [
           {
            "line": {
             "colorbar": {
              "outlinewidth": 0,
              "ticks": ""
             }
            },
            "marker": {
             "colorbar": {
              "outlinewidth": 0,
              "ticks": ""
             }
            },
            "type": "scatter3d"
           }
          ],
          "scattercarpet": [
           {
            "marker": {
             "colorbar": {
              "outlinewidth": 0,
              "ticks": ""
             }
            },
            "type": "scattercarpet"
           }
          ],
          "scattergeo": [
           {
            "marker": {
             "colorbar": {
              "outlinewidth": 0,
              "ticks": ""
             }
            },
            "type": "scattergeo"
           }
          ],
          "scattergl": [
           {
            "marker": {
             "colorbar": {
              "outlinewidth": 0,
              "ticks": ""
             }
            },
            "type": "scattergl"
           }
          ],
          "scattermapbox": [
           {
            "marker": {
             "colorbar": {
              "outlinewidth": 0,
              "ticks": ""
             }
            },
            "type": "scattermapbox"
           }
          ],
          "scatterpolar": [
           {
            "marker": {
             "colorbar": {
              "outlinewidth": 0,
              "ticks": ""
             }
            },
            "type": "scatterpolar"
           }
          ],
          "scatterpolargl": [
           {
            "marker": {
             "colorbar": {
              "outlinewidth": 0,
              "ticks": ""
             }
            },
            "type": "scatterpolargl"
           }
          ],
          "scatterternary": [
           {
            "marker": {
             "colorbar": {
              "outlinewidth": 0,
              "ticks": ""
             }
            },
            "type": "scatterternary"
           }
          ],
          "surface": [
           {
            "colorbar": {
             "outlinewidth": 0,
             "ticks": ""
            },
            "colorscale": [
             [
              0,
              "#0d0887"
             ],
             [
              0.1111111111111111,
              "#46039f"
             ],
             [
              0.2222222222222222,
              "#7201a8"
             ],
             [
              0.3333333333333333,
              "#9c179e"
             ],
             [
              0.4444444444444444,
              "#bd3786"
             ],
             [
              0.5555555555555556,
              "#d8576b"
             ],
             [
              0.6666666666666666,
              "#ed7953"
             ],
             [
              0.7777777777777778,
              "#fb9f3a"
             ],
             [
              0.8888888888888888,
              "#fdca26"
             ],
             [
              1,
              "#f0f921"
             ]
            ],
            "type": "surface"
           }
          ],
          "table": [
           {
            "cells": {
             "fill": {
              "color": "#EBF0F8"
             },
             "line": {
              "color": "white"
             }
            },
            "header": {
             "fill": {
              "color": "#C8D4E3"
             },
             "line": {
              "color": "white"
             }
            },
            "type": "table"
           }
          ]
         },
         "layout": {
          "annotationdefaults": {
           "arrowcolor": "#2a3f5f",
           "arrowhead": 0,
           "arrowwidth": 1
          },
          "autotypenumbers": "strict",
          "coloraxis": {
           "colorbar": {
            "outlinewidth": 0,
            "ticks": ""
           }
          },
          "colorscale": {
           "diverging": [
            [
             0,
             "#8e0152"
            ],
            [
             0.1,
             "#c51b7d"
            ],
            [
             0.2,
             "#de77ae"
            ],
            [
             0.3,
             "#f1b6da"
            ],
            [
             0.4,
             "#fde0ef"
            ],
            [
             0.5,
             "#f7f7f7"
            ],
            [
             0.6,
             "#e6f5d0"
            ],
            [
             0.7,
             "#b8e186"
            ],
            [
             0.8,
             "#7fbc41"
            ],
            [
             0.9,
             "#4d9221"
            ],
            [
             1,
             "#276419"
            ]
           ],
           "sequential": [
            [
             0,
             "#0d0887"
            ],
            [
             0.1111111111111111,
             "#46039f"
            ],
            [
             0.2222222222222222,
             "#7201a8"
            ],
            [
             0.3333333333333333,
             "#9c179e"
            ],
            [
             0.4444444444444444,
             "#bd3786"
            ],
            [
             0.5555555555555556,
             "#d8576b"
            ],
            [
             0.6666666666666666,
             "#ed7953"
            ],
            [
             0.7777777777777778,
             "#fb9f3a"
            ],
            [
             0.8888888888888888,
             "#fdca26"
            ],
            [
             1,
             "#f0f921"
            ]
           ],
           "sequentialminus": [
            [
             0,
             "#0d0887"
            ],
            [
             0.1111111111111111,
             "#46039f"
            ],
            [
             0.2222222222222222,
             "#7201a8"
            ],
            [
             0.3333333333333333,
             "#9c179e"
            ],
            [
             0.4444444444444444,
             "#bd3786"
            ],
            [
             0.5555555555555556,
             "#d8576b"
            ],
            [
             0.6666666666666666,
             "#ed7953"
            ],
            [
             0.7777777777777778,
             "#fb9f3a"
            ],
            [
             0.8888888888888888,
             "#fdca26"
            ],
            [
             1,
             "#f0f921"
            ]
           ]
          },
          "colorway": [
           "#636efa",
           "#EF553B",
           "#00cc96",
           "#ab63fa",
           "#FFA15A",
           "#19d3f3",
           "#FF6692",
           "#B6E880",
           "#FF97FF",
           "#FECB52"
          ],
          "font": {
           "color": "#2a3f5f"
          },
          "geo": {
           "bgcolor": "white",
           "lakecolor": "white",
           "landcolor": "white",
           "showlakes": true,
           "showland": true,
           "subunitcolor": "#C8D4E3"
          },
          "hoverlabel": {
           "align": "left"
          },
          "hovermode": "closest",
          "mapbox": {
           "style": "light"
          },
          "paper_bgcolor": "white",
          "plot_bgcolor": "white",
          "polar": {
           "angularaxis": {
            "gridcolor": "#EBF0F8",
            "linecolor": "#EBF0F8",
            "ticks": ""
           },
           "bgcolor": "white",
           "radialaxis": {
            "gridcolor": "#EBF0F8",
            "linecolor": "#EBF0F8",
            "ticks": ""
           }
          },
          "scene": {
           "xaxis": {
            "backgroundcolor": "white",
            "gridcolor": "#DFE8F3",
            "gridwidth": 2,
            "linecolor": "#EBF0F8",
            "showbackground": true,
            "ticks": "",
            "zerolinecolor": "#EBF0F8"
           },
           "yaxis": {
            "backgroundcolor": "white",
            "gridcolor": "#DFE8F3",
            "gridwidth": 2,
            "linecolor": "#EBF0F8",
            "showbackground": true,
            "ticks": "",
            "zerolinecolor": "#EBF0F8"
           },
           "zaxis": {
            "backgroundcolor": "white",
            "gridcolor": "#DFE8F3",
            "gridwidth": 2,
            "linecolor": "#EBF0F8",
            "showbackground": true,
            "ticks": "",
            "zerolinecolor": "#EBF0F8"
           }
          },
          "shapedefaults": {
           "line": {
            "color": "#2a3f5f"
           }
          },
          "ternary": {
           "aaxis": {
            "gridcolor": "#DFE8F3",
            "linecolor": "#A2B1C6",
            "ticks": ""
           },
           "baxis": {
            "gridcolor": "#DFE8F3",
            "linecolor": "#A2B1C6",
            "ticks": ""
           },
           "bgcolor": "white",
           "caxis": {
            "gridcolor": "#DFE8F3",
            "linecolor": "#A2B1C6",
            "ticks": ""
           }
          },
          "title": {
           "x": 0.05
          },
          "xaxis": {
           "automargin": true,
           "gridcolor": "#EBF0F8",
           "linecolor": "#EBF0F8",
           "ticks": "",
           "title": {
            "standoff": 15
           },
           "zerolinecolor": "#EBF0F8",
           "zerolinewidth": 2
          },
          "yaxis": {
           "automargin": true,
           "gridcolor": "#EBF0F8",
           "linecolor": "#EBF0F8",
           "ticks": "",
           "title": {
            "standoff": 15
           },
           "zerolinecolor": "#EBF0F8",
           "zerolinewidth": 2
          }
         }
        },
        "title": {
         "text": "Distribution of Impressions"
        },
        "xaxis": {
         "anchor": "y",
         "domain": [
          0,
          1
         ],
         "title": {
          "text": "Impressions"
         }
        },
        "yaxis": {
         "anchor": "x",
         "domain": [
          0,
          1
         ],
         "title": {
          "text": "count"
         }
        }
       }
      }
     },
     "metadata": {},
     "output_type": "display_data"
    }
   ],
   "source": [
    "fig = px.histogram(data, x ='Impressions',nbins=10, title = 'Distribution of Impressions')\n",
    "fig.show()"
   ]
  },
  {
   "cell_type": "code",
   "execution_count": 8,
   "metadata": {},
   "outputs": [
    {
     "data": {
      "application/vnd.plotly.v1+json": {
       "config": {
        "plotlyServerURL": "https://plot.ly"
       },
       "data": [
        {
         "hovertemplate": "index=%{x}<br>Impressions=%{y}<extra></extra>",
         "legendgroup": "",
         "line": {
          "color": "#636efa",
          "dash": "solid"
         },
         "marker": {
          "symbol": "circle"
         },
         "mode": "lines",
         "name": "",
         "orientation": "v",
         "showlegend": false,
         "type": "scatter",
         "x": [
          0,
          1,
          2,
          3,
          4,
          5,
          6,
          7,
          8,
          9,
          10,
          11,
          12,
          13,
          14,
          15,
          16,
          17,
          18,
          19,
          20,
          21,
          22,
          23,
          24,
          25,
          26,
          27,
          28,
          29,
          30,
          31,
          32,
          33,
          34,
          35,
          36,
          37,
          38,
          39,
          40,
          41,
          42,
          43,
          44,
          45,
          46,
          47,
          48,
          49,
          50,
          51,
          52,
          53,
          54,
          55,
          56,
          57,
          58,
          59,
          60,
          61,
          62,
          63,
          64,
          65,
          66,
          67,
          68,
          69,
          70,
          71,
          72,
          73,
          74,
          75,
          76,
          77,
          78,
          79,
          80,
          81,
          82,
          83,
          84,
          85,
          86,
          87,
          88,
          89,
          90,
          91,
          92,
          93,
          94,
          95,
          96,
          97,
          98,
          99,
          100,
          101,
          102,
          103,
          104,
          105,
          106,
          107,
          108,
          109,
          110,
          111,
          112,
          113,
          114,
          115,
          116,
          117,
          118
         ],
         "xaxis": "x",
         "y": [
          3920,
          5394,
          4021,
          4528,
          2518,
          3884,
          2621,
          3541,
          3749,
          4115,
          2218,
          3234,
          4344,
          3216,
          9453,
          5055,
          4002,
          3169,
          6168,
          2407,
          2064,
          3973,
          7281,
          3052,
          4628,
          4082,
          5394,
          2766,
          3924,
          3015,
          6666,
          3854,
          4355,
          4343,
          6108,
          2523,
          2327,
          3990,
          2191,
          1941,
          16062,
          4998,
          4289,
          3880,
          3786,
          4298,
          3630,
          2826,
          7407,
          10386,
          2998,
          7018,
          2941,
          6432,
          10667,
          3988,
          4978,
          3388,
          4467,
          3246,
          5072,
          6339,
          4239,
          3454,
          7571,
          3333,
          3818,
          10933,
          5058,
          3601,
          3480,
          3525,
          3606,
          5542,
          6559,
          3623,
          10493,
          4446,
          2957,
          5538,
          4681,
          5273,
          5055,
          4002,
          3169,
          6168,
          2407,
          3630,
          2826,
          7407,
          10386,
          2998,
          3052,
          4628,
          4082,
          5394,
          2766,
          3924,
          3015,
          5409,
          5323,
          8001,
          4150,
          4609,
          6348,
          11068,
          7231,
          17396,
          6814,
          17713,
          5563,
          4842,
          11149,
          10206,
          13700,
          5731,
          4139,
          32695,
          36919
         ],
         "yaxis": "y"
        }
       ],
       "layout": {
        "legend": {
         "tracegroupgap": 0
        },
        "template": {
         "data": {
          "bar": [
           {
            "error_x": {
             "color": "#2a3f5f"
            },
            "error_y": {
             "color": "#2a3f5f"
            },
            "marker": {
             "line": {
              "color": "white",
              "width": 0.5
             },
             "pattern": {
              "fillmode": "overlay",
              "size": 10,
              "solidity": 0.2
             }
            },
            "type": "bar"
           }
          ],
          "barpolar": [
           {
            "marker": {
             "line": {
              "color": "white",
              "width": 0.5
             },
             "pattern": {
              "fillmode": "overlay",
              "size": 10,
              "solidity": 0.2
             }
            },
            "type": "barpolar"
           }
          ],
          "carpet": [
           {
            "aaxis": {
             "endlinecolor": "#2a3f5f",
             "gridcolor": "#C8D4E3",
             "linecolor": "#C8D4E3",
             "minorgridcolor": "#C8D4E3",
             "startlinecolor": "#2a3f5f"
            },
            "baxis": {
             "endlinecolor": "#2a3f5f",
             "gridcolor": "#C8D4E3",
             "linecolor": "#C8D4E3",
             "minorgridcolor": "#C8D4E3",
             "startlinecolor": "#2a3f5f"
            },
            "type": "carpet"
           }
          ],
          "choropleth": [
           {
            "colorbar": {
             "outlinewidth": 0,
             "ticks": ""
            },
            "type": "choropleth"
           }
          ],
          "contour": [
           {
            "colorbar": {
             "outlinewidth": 0,
             "ticks": ""
            },
            "colorscale": [
             [
              0,
              "#0d0887"
             ],
             [
              0.1111111111111111,
              "#46039f"
             ],
             [
              0.2222222222222222,
              "#7201a8"
             ],
             [
              0.3333333333333333,
              "#9c179e"
             ],
             [
              0.4444444444444444,
              "#bd3786"
             ],
             [
              0.5555555555555556,
              "#d8576b"
             ],
             [
              0.6666666666666666,
              "#ed7953"
             ],
             [
              0.7777777777777778,
              "#fb9f3a"
             ],
             [
              0.8888888888888888,
              "#fdca26"
             ],
             [
              1,
              "#f0f921"
             ]
            ],
            "type": "contour"
           }
          ],
          "contourcarpet": [
           {
            "colorbar": {
             "outlinewidth": 0,
             "ticks": ""
            },
            "type": "contourcarpet"
           }
          ],
          "heatmap": [
           {
            "colorbar": {
             "outlinewidth": 0,
             "ticks": ""
            },
            "colorscale": [
             [
              0,
              "#0d0887"
             ],
             [
              0.1111111111111111,
              "#46039f"
             ],
             [
              0.2222222222222222,
              "#7201a8"
             ],
             [
              0.3333333333333333,
              "#9c179e"
             ],
             [
              0.4444444444444444,
              "#bd3786"
             ],
             [
              0.5555555555555556,
              "#d8576b"
             ],
             [
              0.6666666666666666,
              "#ed7953"
             ],
             [
              0.7777777777777778,
              "#fb9f3a"
             ],
             [
              0.8888888888888888,
              "#fdca26"
             ],
             [
              1,
              "#f0f921"
             ]
            ],
            "type": "heatmap"
           }
          ],
          "heatmapgl": [
           {
            "colorbar": {
             "outlinewidth": 0,
             "ticks": ""
            },
            "colorscale": [
             [
              0,
              "#0d0887"
             ],
             [
              0.1111111111111111,
              "#46039f"
             ],
             [
              0.2222222222222222,
              "#7201a8"
             ],
             [
              0.3333333333333333,
              "#9c179e"
             ],
             [
              0.4444444444444444,
              "#bd3786"
             ],
             [
              0.5555555555555556,
              "#d8576b"
             ],
             [
              0.6666666666666666,
              "#ed7953"
             ],
             [
              0.7777777777777778,
              "#fb9f3a"
             ],
             [
              0.8888888888888888,
              "#fdca26"
             ],
             [
              1,
              "#f0f921"
             ]
            ],
            "type": "heatmapgl"
           }
          ],
          "histogram": [
           {
            "marker": {
             "pattern": {
              "fillmode": "overlay",
              "size": 10,
              "solidity": 0.2
             }
            },
            "type": "histogram"
           }
          ],
          "histogram2d": [
           {
            "colorbar": {
             "outlinewidth": 0,
             "ticks": ""
            },
            "colorscale": [
             [
              0,
              "#0d0887"
             ],
             [
              0.1111111111111111,
              "#46039f"
             ],
             [
              0.2222222222222222,
              "#7201a8"
             ],
             [
              0.3333333333333333,
              "#9c179e"
             ],
             [
              0.4444444444444444,
              "#bd3786"
             ],
             [
              0.5555555555555556,
              "#d8576b"
             ],
             [
              0.6666666666666666,
              "#ed7953"
             ],
             [
              0.7777777777777778,
              "#fb9f3a"
             ],
             [
              0.8888888888888888,
              "#fdca26"
             ],
             [
              1,
              "#f0f921"
             ]
            ],
            "type": "histogram2d"
           }
          ],
          "histogram2dcontour": [
           {
            "colorbar": {
             "outlinewidth": 0,
             "ticks": ""
            },
            "colorscale": [
             [
              0,
              "#0d0887"
             ],
             [
              0.1111111111111111,
              "#46039f"
             ],
             [
              0.2222222222222222,
              "#7201a8"
             ],
             [
              0.3333333333333333,
              "#9c179e"
             ],
             [
              0.4444444444444444,
              "#bd3786"
             ],
             [
              0.5555555555555556,
              "#d8576b"
             ],
             [
              0.6666666666666666,
              "#ed7953"
             ],
             [
              0.7777777777777778,
              "#fb9f3a"
             ],
             [
              0.8888888888888888,
              "#fdca26"
             ],
             [
              1,
              "#f0f921"
             ]
            ],
            "type": "histogram2dcontour"
           }
          ],
          "mesh3d": [
           {
            "colorbar": {
             "outlinewidth": 0,
             "ticks": ""
            },
            "type": "mesh3d"
           }
          ],
          "parcoords": [
           {
            "line": {
             "colorbar": {
              "outlinewidth": 0,
              "ticks": ""
             }
            },
            "type": "parcoords"
           }
          ],
          "pie": [
           {
            "automargin": true,
            "type": "pie"
           }
          ],
          "scatter": [
           {
            "fillpattern": {
             "fillmode": "overlay",
             "size": 10,
             "solidity": 0.2
            },
            "type": "scatter"
           }
          ],
          "scatter3d": [
           {
            "line": {
             "colorbar": {
              "outlinewidth": 0,
              "ticks": ""
             }
            },
            "marker": {
             "colorbar": {
              "outlinewidth": 0,
              "ticks": ""
             }
            },
            "type": "scatter3d"
           }
          ],
          "scattercarpet": [
           {
            "marker": {
             "colorbar": {
              "outlinewidth": 0,
              "ticks": ""
             }
            },
            "type": "scattercarpet"
           }
          ],
          "scattergeo": [
           {
            "marker": {
             "colorbar": {
              "outlinewidth": 0,
              "ticks": ""
             }
            },
            "type": "scattergeo"
           }
          ],
          "scattergl": [
           {
            "marker": {
             "colorbar": {
              "outlinewidth": 0,
              "ticks": ""
             }
            },
            "type": "scattergl"
           }
          ],
          "scattermapbox": [
           {
            "marker": {
             "colorbar": {
              "outlinewidth": 0,
              "ticks": ""
             }
            },
            "type": "scattermapbox"
           }
          ],
          "scatterpolar": [
           {
            "marker": {
             "colorbar": {
              "outlinewidth": 0,
              "ticks": ""
             }
            },
            "type": "scatterpolar"
           }
          ],
          "scatterpolargl": [
           {
            "marker": {
             "colorbar": {
              "outlinewidth": 0,
              "ticks": ""
             }
            },
            "type": "scatterpolargl"
           }
          ],
          "scatterternary": [
           {
            "marker": {
             "colorbar": {
              "outlinewidth": 0,
              "ticks": ""
             }
            },
            "type": "scatterternary"
           }
          ],
          "surface": [
           {
            "colorbar": {
             "outlinewidth": 0,
             "ticks": ""
            },
            "colorscale": [
             [
              0,
              "#0d0887"
             ],
             [
              0.1111111111111111,
              "#46039f"
             ],
             [
              0.2222222222222222,
              "#7201a8"
             ],
             [
              0.3333333333333333,
              "#9c179e"
             ],
             [
              0.4444444444444444,
              "#bd3786"
             ],
             [
              0.5555555555555556,
              "#d8576b"
             ],
             [
              0.6666666666666666,
              "#ed7953"
             ],
             [
              0.7777777777777778,
              "#fb9f3a"
             ],
             [
              0.8888888888888888,
              "#fdca26"
             ],
             [
              1,
              "#f0f921"
             ]
            ],
            "type": "surface"
           }
          ],
          "table": [
           {
            "cells": {
             "fill": {
              "color": "#EBF0F8"
             },
             "line": {
              "color": "white"
             }
            },
            "header": {
             "fill": {
              "color": "#C8D4E3"
             },
             "line": {
              "color": "white"
             }
            },
            "type": "table"
           }
          ]
         },
         "layout": {
          "annotationdefaults": {
           "arrowcolor": "#2a3f5f",
           "arrowhead": 0,
           "arrowwidth": 1
          },
          "autotypenumbers": "strict",
          "coloraxis": {
           "colorbar": {
            "outlinewidth": 0,
            "ticks": ""
           }
          },
          "colorscale": {
           "diverging": [
            [
             0,
             "#8e0152"
            ],
            [
             0.1,
             "#c51b7d"
            ],
            [
             0.2,
             "#de77ae"
            ],
            [
             0.3,
             "#f1b6da"
            ],
            [
             0.4,
             "#fde0ef"
            ],
            [
             0.5,
             "#f7f7f7"
            ],
            [
             0.6,
             "#e6f5d0"
            ],
            [
             0.7,
             "#b8e186"
            ],
            [
             0.8,
             "#7fbc41"
            ],
            [
             0.9,
             "#4d9221"
            ],
            [
             1,
             "#276419"
            ]
           ],
           "sequential": [
            [
             0,
             "#0d0887"
            ],
            [
             0.1111111111111111,
             "#46039f"
            ],
            [
             0.2222222222222222,
             "#7201a8"
            ],
            [
             0.3333333333333333,
             "#9c179e"
            ],
            [
             0.4444444444444444,
             "#bd3786"
            ],
            [
             0.5555555555555556,
             "#d8576b"
            ],
            [
             0.6666666666666666,
             "#ed7953"
            ],
            [
             0.7777777777777778,
             "#fb9f3a"
            ],
            [
             0.8888888888888888,
             "#fdca26"
            ],
            [
             1,
             "#f0f921"
            ]
           ],
           "sequentialminus": [
            [
             0,
             "#0d0887"
            ],
            [
             0.1111111111111111,
             "#46039f"
            ],
            [
             0.2222222222222222,
             "#7201a8"
            ],
            [
             0.3333333333333333,
             "#9c179e"
            ],
            [
             0.4444444444444444,
             "#bd3786"
            ],
            [
             0.5555555555555556,
             "#d8576b"
            ],
            [
             0.6666666666666666,
             "#ed7953"
            ],
            [
             0.7777777777777778,
             "#fb9f3a"
            ],
            [
             0.8888888888888888,
             "#fdca26"
            ],
            [
             1,
             "#f0f921"
            ]
           ]
          },
          "colorway": [
           "#636efa",
           "#EF553B",
           "#00cc96",
           "#ab63fa",
           "#FFA15A",
           "#19d3f3",
           "#FF6692",
           "#B6E880",
           "#FF97FF",
           "#FECB52"
          ],
          "font": {
           "color": "#2a3f5f"
          },
          "geo": {
           "bgcolor": "white",
           "lakecolor": "white",
           "landcolor": "white",
           "showlakes": true,
           "showland": true,
           "subunitcolor": "#C8D4E3"
          },
          "hoverlabel": {
           "align": "left"
          },
          "hovermode": "closest",
          "mapbox": {
           "style": "light"
          },
          "paper_bgcolor": "white",
          "plot_bgcolor": "white",
          "polar": {
           "angularaxis": {
            "gridcolor": "#EBF0F8",
            "linecolor": "#EBF0F8",
            "ticks": ""
           },
           "bgcolor": "white",
           "radialaxis": {
            "gridcolor": "#EBF0F8",
            "linecolor": "#EBF0F8",
            "ticks": ""
           }
          },
          "scene": {
           "xaxis": {
            "backgroundcolor": "white",
            "gridcolor": "#DFE8F3",
            "gridwidth": 2,
            "linecolor": "#EBF0F8",
            "showbackground": true,
            "ticks": "",
            "zerolinecolor": "#EBF0F8"
           },
           "yaxis": {
            "backgroundcolor": "white",
            "gridcolor": "#DFE8F3",
            "gridwidth": 2,
            "linecolor": "#EBF0F8",
            "showbackground": true,
            "ticks": "",
            "zerolinecolor": "#EBF0F8"
           },
           "zaxis": {
            "backgroundcolor": "white",
            "gridcolor": "#DFE8F3",
            "gridwidth": 2,
            "linecolor": "#EBF0F8",
            "showbackground": true,
            "ticks": "",
            "zerolinecolor": "#EBF0F8"
           }
          },
          "shapedefaults": {
           "line": {
            "color": "#2a3f5f"
           }
          },
          "ternary": {
           "aaxis": {
            "gridcolor": "#DFE8F3",
            "linecolor": "#A2B1C6",
            "ticks": ""
           },
           "baxis": {
            "gridcolor": "#DFE8F3",
            "linecolor": "#A2B1C6",
            "ticks": ""
           },
           "bgcolor": "white",
           "caxis": {
            "gridcolor": "#DFE8F3",
            "linecolor": "#A2B1C6",
            "ticks": ""
           }
          },
          "title": {
           "x": 0.05
          },
          "xaxis": {
           "automargin": true,
           "gridcolor": "#EBF0F8",
           "linecolor": "#EBF0F8",
           "ticks": "",
           "title": {
            "standoff": 15
           },
           "zerolinecolor": "#EBF0F8",
           "zerolinewidth": 2
          },
          "yaxis": {
           "automargin": true,
           "gridcolor": "#EBF0F8",
           "linecolor": "#EBF0F8",
           "ticks": "",
           "title": {
            "standoff": 15
           },
           "zerolinecolor": "#EBF0F8",
           "zerolinewidth": 2
          }
         }
        },
        "title": {
         "text": "Impressions over time"
        },
        "xaxis": {
         "anchor": "y",
         "domain": [
          0,
          1
         ],
         "title": {
          "text": "index"
         }
        },
        "yaxis": {
         "anchor": "x",
         "domain": [
          0,
          1
         ],
         "title": {
          "text": "Impressions"
         }
        }
       }
      }
     },
     "metadata": {},
     "output_type": "display_data"
    }
   ],
   "source": [
    "fig = px.line(data, x=data.index, y='Impressions', title = 'Impressions over time')\n",
    "fig.show()"
   ]
  },
  {
   "cell_type": "code",
   "execution_count": 10,
   "metadata": {},
   "outputs": [
    {
     "data": {
      "application/vnd.plotly.v1+json": {
       "config": {
        "plotlyServerURL": "https://plot.ly"
       },
       "data": [
        {
         "name": "Likes",
         "type": "scatter",
         "x": [
          0,
          1,
          2,
          3,
          4,
          5,
          6,
          7,
          8,
          9,
          10,
          11,
          12,
          13,
          14,
          15,
          16,
          17,
          18,
          19,
          20,
          21,
          22,
          23,
          24,
          25,
          26,
          27,
          28,
          29,
          30,
          31,
          32,
          33,
          34,
          35,
          36,
          37,
          38,
          39,
          40,
          41,
          42,
          43,
          44,
          45,
          46,
          47,
          48,
          49,
          50,
          51,
          52,
          53,
          54,
          55,
          56,
          57,
          58,
          59,
          60,
          61,
          62,
          63,
          64,
          65,
          66,
          67,
          68,
          69,
          70,
          71,
          72,
          73,
          74,
          75,
          76,
          77,
          78,
          79,
          80,
          81,
          82,
          83,
          84,
          85,
          86,
          87,
          88,
          89,
          90,
          91,
          92,
          93,
          94,
          95,
          96,
          97,
          98,
          99,
          100,
          101,
          102,
          103,
          104,
          105,
          106,
          107,
          108,
          109,
          110,
          111,
          112,
          113,
          114,
          115,
          116,
          117,
          118
         ],
         "y": [
          162,
          224,
          131,
          213,
          123,
          144,
          76,
          124,
          159,
          191,
          81,
          151,
          162,
          142,
          294,
          159,
          205,
          121,
          151,
          72,
          76,
          91,
          195,
          129,
          160,
          175,
          147,
          114,
          151,
          92,
          214,
          150,
          122,
          152,
          196,
          86,
          85,
          156,
          72,
          82,
          416,
          180,
          150,
          127,
          167,
          225,
          137,
          114,
          263,
          328,
          126,
          236,
          99,
          212,
          297,
          142,
          186,
          112,
          149,
          132,
          115,
          248,
          178,
          107,
          269,
          96,
          134,
          301,
          187,
          94,
          114,
          96,
          138,
          122,
          257,
          95,
          244,
          190,
          118,
          178,
          170,
          250,
          159,
          205,
          121,
          151,
          72,
          137,
          114,
          263,
          328,
          126,
          129,
          160,
          175,
          147,
          114,
          151,
          92,
          275,
          192,
          203,
          145,
          168,
          194,
          250,
          171,
          416,
          249,
          308,
          163,
          86,
          210,
          172,
          373,
          148,
          92,
          549,
          443
         ]
        },
        {
         "name": "Saves",
         "type": "scatter",
         "x": [
          0,
          1,
          2,
          3,
          4,
          5,
          6,
          7,
          8,
          9,
          10,
          11,
          12,
          13,
          14,
          15,
          16,
          17,
          18,
          19,
          20,
          21,
          22,
          23,
          24,
          25,
          26,
          27,
          28,
          29,
          30,
          31,
          32,
          33,
          34,
          35,
          36,
          37,
          38,
          39,
          40,
          41,
          42,
          43,
          44,
          45,
          46,
          47,
          48,
          49,
          50,
          51,
          52,
          53,
          54,
          55,
          56,
          57,
          58,
          59,
          60,
          61,
          62,
          63,
          64,
          65,
          66,
          67,
          68,
          69,
          70,
          71,
          72,
          73,
          74,
          75,
          76,
          77,
          78,
          79,
          80,
          81,
          82,
          83,
          84,
          85,
          86,
          87,
          88,
          89,
          90,
          91,
          92,
          93,
          94,
          95,
          96,
          97,
          98,
          99,
          100,
          101,
          102,
          103,
          104,
          105,
          106,
          107,
          108,
          109,
          110,
          111,
          112,
          113,
          114,
          115,
          116,
          117,
          118
         ],
         "y": [
          98,
          194,
          41,
          172,
          96,
          74,
          22,
          135,
          155,
          122,
          28,
          122,
          119,
          121,
          100,
          101,
          111,
          106,
          82,
          40,
          49,
          72,
          167,
          63,
          144,
          135,
          61,
          40,
          139,
          52,
          84,
          81,
          79,
          105,
          90,
          34,
          45,
          98,
          35,
          49,
          252,
          167,
          111,
          90,
          144,
          263,
          137,
          67,
          288,
          668,
          42,
          342,
          48,
          250,
          219,
          118,
          143,
          99,
          89,
          148,
          42,
          171,
          109,
          38,
          421,
          38,
          116,
          225,
          144,
          51,
          104,
          33,
          174,
          46,
          179,
          34,
          99,
          174,
          70,
          149,
          207,
          318,
          101,
          111,
          106,
          82,
          40,
          137,
          67,
          288,
          668,
          42,
          63,
          144,
          135,
          61,
          40,
          139,
          52,
          393,
          152,
          83,
          74,
          94,
          188,
          214,
          73,
          285,
          469,
          504,
          149,
          55,
          273,
          182,
          573,
          135,
          36,
          1095,
          653
         ]
        },
        {
         "name": "Follows",
         "type": "scatter",
         "x": [
          0,
          1,
          2,
          3,
          4,
          5,
          6,
          7,
          8,
          9,
          10,
          11,
          12,
          13,
          14,
          15,
          16,
          17,
          18,
          19,
          20,
          21,
          22,
          23,
          24,
          25,
          26,
          27,
          28,
          29,
          30,
          31,
          32,
          33,
          34,
          35,
          36,
          37,
          38,
          39,
          40,
          41,
          42,
          43,
          44,
          45,
          46,
          47,
          48,
          49,
          50,
          51,
          52,
          53,
          54,
          55,
          56,
          57,
          58,
          59,
          60,
          61,
          62,
          63,
          64,
          65,
          66,
          67,
          68,
          69,
          70,
          71,
          72,
          73,
          74,
          75,
          76,
          77,
          78,
          79,
          80,
          81,
          82,
          83,
          84,
          85,
          86,
          87,
          88,
          89,
          90,
          91,
          92,
          93,
          94,
          95,
          96,
          97,
          98,
          99,
          100,
          101,
          102,
          103,
          104,
          105,
          106,
          107,
          108,
          109,
          110,
          111,
          112,
          113,
          114,
          115,
          116,
          117,
          118
         ],
         "y": [
          2,
          10,
          12,
          8,
          0,
          2,
          0,
          6,
          4,
          6,
          4,
          0,
          2,
          4,
          42,
          6,
          2,
          2,
          30,
          0,
          0,
          24,
          100,
          2,
          4,
          6,
          6,
          6,
          2,
          2,
          20,
          2,
          4,
          8,
          26,
          2,
          2,
          4,
          0,
          2,
          94,
          8,
          18,
          10,
          4,
          4,
          4,
          4,
          18,
          38,
          10,
          12,
          4,
          4,
          74,
          0,
          6,
          6,
          0,
          6,
          12,
          10,
          8,
          8,
          46,
          12,
          10,
          94,
          6,
          10,
          6,
          4,
          12,
          16,
          12,
          8,
          32,
          8,
          16,
          6,
          10,
          10,
          6,
          2,
          2,
          30,
          0,
          4,
          4,
          18,
          38,
          10,
          2,
          4,
          6,
          6,
          6,
          2,
          2,
          14,
          8,
          14,
          28,
          18,
          12,
          34,
          26,
          260,
          16,
          96,
          20,
          30,
          58,
          100,
          80,
          18,
          10,
          214,
          228
         ]
        }
       ],
       "layout": {
        "template": {
         "data": {
          "bar": [
           {
            "error_x": {
             "color": "#2a3f5f"
            },
            "error_y": {
             "color": "#2a3f5f"
            },
            "marker": {
             "line": {
              "color": "white",
              "width": 0.5
             },
             "pattern": {
              "fillmode": "overlay",
              "size": 10,
              "solidity": 0.2
             }
            },
            "type": "bar"
           }
          ],
          "barpolar": [
           {
            "marker": {
             "line": {
              "color": "white",
              "width": 0.5
             },
             "pattern": {
              "fillmode": "overlay",
              "size": 10,
              "solidity": 0.2
             }
            },
            "type": "barpolar"
           }
          ],
          "carpet": [
           {
            "aaxis": {
             "endlinecolor": "#2a3f5f",
             "gridcolor": "#C8D4E3",
             "linecolor": "#C8D4E3",
             "minorgridcolor": "#C8D4E3",
             "startlinecolor": "#2a3f5f"
            },
            "baxis": {
             "endlinecolor": "#2a3f5f",
             "gridcolor": "#C8D4E3",
             "linecolor": "#C8D4E3",
             "minorgridcolor": "#C8D4E3",
             "startlinecolor": "#2a3f5f"
            },
            "type": "carpet"
           }
          ],
          "choropleth": [
           {
            "colorbar": {
             "outlinewidth": 0,
             "ticks": ""
            },
            "type": "choropleth"
           }
          ],
          "contour": [
           {
            "colorbar": {
             "outlinewidth": 0,
             "ticks": ""
            },
            "colorscale": [
             [
              0,
              "#0d0887"
             ],
             [
              0.1111111111111111,
              "#46039f"
             ],
             [
              0.2222222222222222,
              "#7201a8"
             ],
             [
              0.3333333333333333,
              "#9c179e"
             ],
             [
              0.4444444444444444,
              "#bd3786"
             ],
             [
              0.5555555555555556,
              "#d8576b"
             ],
             [
              0.6666666666666666,
              "#ed7953"
             ],
             [
              0.7777777777777778,
              "#fb9f3a"
             ],
             [
              0.8888888888888888,
              "#fdca26"
             ],
             [
              1,
              "#f0f921"
             ]
            ],
            "type": "contour"
           }
          ],
          "contourcarpet": [
           {
            "colorbar": {
             "outlinewidth": 0,
             "ticks": ""
            },
            "type": "contourcarpet"
           }
          ],
          "heatmap": [
           {
            "colorbar": {
             "outlinewidth": 0,
             "ticks": ""
            },
            "colorscale": [
             [
              0,
              "#0d0887"
             ],
             [
              0.1111111111111111,
              "#46039f"
             ],
             [
              0.2222222222222222,
              "#7201a8"
             ],
             [
              0.3333333333333333,
              "#9c179e"
             ],
             [
              0.4444444444444444,
              "#bd3786"
             ],
             [
              0.5555555555555556,
              "#d8576b"
             ],
             [
              0.6666666666666666,
              "#ed7953"
             ],
             [
              0.7777777777777778,
              "#fb9f3a"
             ],
             [
              0.8888888888888888,
              "#fdca26"
             ],
             [
              1,
              "#f0f921"
             ]
            ],
            "type": "heatmap"
           }
          ],
          "heatmapgl": [
           {
            "colorbar": {
             "outlinewidth": 0,
             "ticks": ""
            },
            "colorscale": [
             [
              0,
              "#0d0887"
             ],
             [
              0.1111111111111111,
              "#46039f"
             ],
             [
              0.2222222222222222,
              "#7201a8"
             ],
             [
              0.3333333333333333,
              "#9c179e"
             ],
             [
              0.4444444444444444,
              "#bd3786"
             ],
             [
              0.5555555555555556,
              "#d8576b"
             ],
             [
              0.6666666666666666,
              "#ed7953"
             ],
             [
              0.7777777777777778,
              "#fb9f3a"
             ],
             [
              0.8888888888888888,
              "#fdca26"
             ],
             [
              1,
              "#f0f921"
             ]
            ],
            "type": "heatmapgl"
           }
          ],
          "histogram": [
           {
            "marker": {
             "pattern": {
              "fillmode": "overlay",
              "size": 10,
              "solidity": 0.2
             }
            },
            "type": "histogram"
           }
          ],
          "histogram2d": [
           {
            "colorbar": {
             "outlinewidth": 0,
             "ticks": ""
            },
            "colorscale": [
             [
              0,
              "#0d0887"
             ],
             [
              0.1111111111111111,
              "#46039f"
             ],
             [
              0.2222222222222222,
              "#7201a8"
             ],
             [
              0.3333333333333333,
              "#9c179e"
             ],
             [
              0.4444444444444444,
              "#bd3786"
             ],
             [
              0.5555555555555556,
              "#d8576b"
             ],
             [
              0.6666666666666666,
              "#ed7953"
             ],
             [
              0.7777777777777778,
              "#fb9f3a"
             ],
             [
              0.8888888888888888,
              "#fdca26"
             ],
             [
              1,
              "#f0f921"
             ]
            ],
            "type": "histogram2d"
           }
          ],
          "histogram2dcontour": [
           {
            "colorbar": {
             "outlinewidth": 0,
             "ticks": ""
            },
            "colorscale": [
             [
              0,
              "#0d0887"
             ],
             [
              0.1111111111111111,
              "#46039f"
             ],
             [
              0.2222222222222222,
              "#7201a8"
             ],
             [
              0.3333333333333333,
              "#9c179e"
             ],
             [
              0.4444444444444444,
              "#bd3786"
             ],
             [
              0.5555555555555556,
              "#d8576b"
             ],
             [
              0.6666666666666666,
              "#ed7953"
             ],
             [
              0.7777777777777778,
              "#fb9f3a"
             ],
             [
              0.8888888888888888,
              "#fdca26"
             ],
             [
              1,
              "#f0f921"
             ]
            ],
            "type": "histogram2dcontour"
           }
          ],
          "mesh3d": [
           {
            "colorbar": {
             "outlinewidth": 0,
             "ticks": ""
            },
            "type": "mesh3d"
           }
          ],
          "parcoords": [
           {
            "line": {
             "colorbar": {
              "outlinewidth": 0,
              "ticks": ""
             }
            },
            "type": "parcoords"
           }
          ],
          "pie": [
           {
            "automargin": true,
            "type": "pie"
           }
          ],
          "scatter": [
           {
            "fillpattern": {
             "fillmode": "overlay",
             "size": 10,
             "solidity": 0.2
            },
            "type": "scatter"
           }
          ],
          "scatter3d": [
           {
            "line": {
             "colorbar": {
              "outlinewidth": 0,
              "ticks": ""
             }
            },
            "marker": {
             "colorbar": {
              "outlinewidth": 0,
              "ticks": ""
             }
            },
            "type": "scatter3d"
           }
          ],
          "scattercarpet": [
           {
            "marker": {
             "colorbar": {
              "outlinewidth": 0,
              "ticks": ""
             }
            },
            "type": "scattercarpet"
           }
          ],
          "scattergeo": [
           {
            "marker": {
             "colorbar": {
              "outlinewidth": 0,
              "ticks": ""
             }
            },
            "type": "scattergeo"
           }
          ],
          "scattergl": [
           {
            "marker": {
             "colorbar": {
              "outlinewidth": 0,
              "ticks": ""
             }
            },
            "type": "scattergl"
           }
          ],
          "scattermapbox": [
           {
            "marker": {
             "colorbar": {
              "outlinewidth": 0,
              "ticks": ""
             }
            },
            "type": "scattermapbox"
           }
          ],
          "scatterpolar": [
           {
            "marker": {
             "colorbar": {
              "outlinewidth": 0,
              "ticks": ""
             }
            },
            "type": "scatterpolar"
           }
          ],
          "scatterpolargl": [
           {
            "marker": {
             "colorbar": {
              "outlinewidth": 0,
              "ticks": ""
             }
            },
            "type": "scatterpolargl"
           }
          ],
          "scatterternary": [
           {
            "marker": {
             "colorbar": {
              "outlinewidth": 0,
              "ticks": ""
             }
            },
            "type": "scatterternary"
           }
          ],
          "surface": [
           {
            "colorbar": {
             "outlinewidth": 0,
             "ticks": ""
            },
            "colorscale": [
             [
              0,
              "#0d0887"
             ],
             [
              0.1111111111111111,
              "#46039f"
             ],
             [
              0.2222222222222222,
              "#7201a8"
             ],
             [
              0.3333333333333333,
              "#9c179e"
             ],
             [
              0.4444444444444444,
              "#bd3786"
             ],
             [
              0.5555555555555556,
              "#d8576b"
             ],
             [
              0.6666666666666666,
              "#ed7953"
             ],
             [
              0.7777777777777778,
              "#fb9f3a"
             ],
             [
              0.8888888888888888,
              "#fdca26"
             ],
             [
              1,
              "#f0f921"
             ]
            ],
            "type": "surface"
           }
          ],
          "table": [
           {
            "cells": {
             "fill": {
              "color": "#EBF0F8"
             },
             "line": {
              "color": "white"
             }
            },
            "header": {
             "fill": {
              "color": "#C8D4E3"
             },
             "line": {
              "color": "white"
             }
            },
            "type": "table"
           }
          ]
         },
         "layout": {
          "annotationdefaults": {
           "arrowcolor": "#2a3f5f",
           "arrowhead": 0,
           "arrowwidth": 1
          },
          "autotypenumbers": "strict",
          "coloraxis": {
           "colorbar": {
            "outlinewidth": 0,
            "ticks": ""
           }
          },
          "colorscale": {
           "diverging": [
            [
             0,
             "#8e0152"
            ],
            [
             0.1,
             "#c51b7d"
            ],
            [
             0.2,
             "#de77ae"
            ],
            [
             0.3,
             "#f1b6da"
            ],
            [
             0.4,
             "#fde0ef"
            ],
            [
             0.5,
             "#f7f7f7"
            ],
            [
             0.6,
             "#e6f5d0"
            ],
            [
             0.7,
             "#b8e186"
            ],
            [
             0.8,
             "#7fbc41"
            ],
            [
             0.9,
             "#4d9221"
            ],
            [
             1,
             "#276419"
            ]
           ],
           "sequential": [
            [
             0,
             "#0d0887"
            ],
            [
             0.1111111111111111,
             "#46039f"
            ],
            [
             0.2222222222222222,
             "#7201a8"
            ],
            [
             0.3333333333333333,
             "#9c179e"
            ],
            [
             0.4444444444444444,
             "#bd3786"
            ],
            [
             0.5555555555555556,
             "#d8576b"
            ],
            [
             0.6666666666666666,
             "#ed7953"
            ],
            [
             0.7777777777777778,
             "#fb9f3a"
            ],
            [
             0.8888888888888888,
             "#fdca26"
            ],
            [
             1,
             "#f0f921"
            ]
           ],
           "sequentialminus": [
            [
             0,
             "#0d0887"
            ],
            [
             0.1111111111111111,
             "#46039f"
            ],
            [
             0.2222222222222222,
             "#7201a8"
            ],
            [
             0.3333333333333333,
             "#9c179e"
            ],
            [
             0.4444444444444444,
             "#bd3786"
            ],
            [
             0.5555555555555556,
             "#d8576b"
            ],
            [
             0.6666666666666666,
             "#ed7953"
            ],
            [
             0.7777777777777778,
             "#fb9f3a"
            ],
            [
             0.8888888888888888,
             "#fdca26"
            ],
            [
             1,
             "#f0f921"
            ]
           ]
          },
          "colorway": [
           "#636efa",
           "#EF553B",
           "#00cc96",
           "#ab63fa",
           "#FFA15A",
           "#19d3f3",
           "#FF6692",
           "#B6E880",
           "#FF97FF",
           "#FECB52"
          ],
          "font": {
           "color": "#2a3f5f"
          },
          "geo": {
           "bgcolor": "white",
           "lakecolor": "white",
           "landcolor": "white",
           "showlakes": true,
           "showland": true,
           "subunitcolor": "#C8D4E3"
          },
          "hoverlabel": {
           "align": "left"
          },
          "hovermode": "closest",
          "mapbox": {
           "style": "light"
          },
          "paper_bgcolor": "white",
          "plot_bgcolor": "white",
          "polar": {
           "angularaxis": {
            "gridcolor": "#EBF0F8",
            "linecolor": "#EBF0F8",
            "ticks": ""
           },
           "bgcolor": "white",
           "radialaxis": {
            "gridcolor": "#EBF0F8",
            "linecolor": "#EBF0F8",
            "ticks": ""
           }
          },
          "scene": {
           "xaxis": {
            "backgroundcolor": "white",
            "gridcolor": "#DFE8F3",
            "gridwidth": 2,
            "linecolor": "#EBF0F8",
            "showbackground": true,
            "ticks": "",
            "zerolinecolor": "#EBF0F8"
           },
           "yaxis": {
            "backgroundcolor": "white",
            "gridcolor": "#DFE8F3",
            "gridwidth": 2,
            "linecolor": "#EBF0F8",
            "showbackground": true,
            "ticks": "",
            "zerolinecolor": "#EBF0F8"
           },
           "zaxis": {
            "backgroundcolor": "white",
            "gridcolor": "#DFE8F3",
            "gridwidth": 2,
            "linecolor": "#EBF0F8",
            "showbackground": true,
            "ticks": "",
            "zerolinecolor": "#EBF0F8"
           }
          },
          "shapedefaults": {
           "line": {
            "color": "#2a3f5f"
           }
          },
          "ternary": {
           "aaxis": {
            "gridcolor": "#DFE8F3",
            "linecolor": "#A2B1C6",
            "ticks": ""
           },
           "baxis": {
            "gridcolor": "#DFE8F3",
            "linecolor": "#A2B1C6",
            "ticks": ""
           },
           "bgcolor": "white",
           "caxis": {
            "gridcolor": "#DFE8F3",
            "linecolor": "#A2B1C6",
            "ticks": ""
           }
          },
          "title": {
           "x": 0.05
          },
          "xaxis": {
           "automargin": true,
           "gridcolor": "#EBF0F8",
           "linecolor": "#EBF0F8",
           "ticks": "",
           "title": {
            "standoff": 15
           },
           "zerolinecolor": "#EBF0F8",
           "zerolinewidth": 2
          },
          "yaxis": {
           "automargin": true,
           "gridcolor": "#EBF0F8",
           "linecolor": "#EBF0F8",
           "ticks": "",
           "title": {
            "standoff": 15
           },
           "zerolinecolor": "#EBF0F8",
           "zerolinewidth": 2
          }
         }
        },
        "title": {
         "text": "Metrics Over Time"
        },
        "xaxis": {
         "title": {
          "text": "Date"
         }
        },
        "yaxis": {
         "title": {
          "text": "Count"
         }
        }
       }
      }
     },
     "metadata": {},
     "output_type": "display_data"
    }
   ],
   "source": [
    "fig = go.Figure()\n",
    "fig.add_trace(go.Scatter(x=data.index, y=data['Likes'], name='Likes')) \n",
    "fig.add_trace(go.Scatter(x=data.index, y=data['Saves'], name='Saves'))\n",
    "fig.add_trace(go.Scatter(x=data.index, y=data['Follows'], name='Follows'))\n",
    "fig.update_layout(title='Metrics Over Time', xaxis_title='Date',yaxis_title='Count')\n",
    "fig.show()"
   ]
  },
  {
   "cell_type": "code",
   "execution_count": 14,
   "metadata": {},
   "outputs": [
    {
     "data": {
      "application/vnd.plotly.v1+json": {
       "config": {
        "plotlyServerURL": "https://plot.ly"
       },
       "data": [
        {
         "domain": {
          "x": [
           0,
           1
          ],
          "y": [
           0,
           1
          ]
         },
         "hovertemplate": "label=%{label}<br>value=%{value}<extra></extra>",
         "labels": [
          "From Home",
          "From Hashtags",
          "From Explore",
          "From Other"
         ],
         "legendgroup": "",
         "name": "",
         "showlegend": true,
         "type": "pie",
         "values": [
          294619,
          224614,
          128294,
          20360
         ]
        }
       ],
       "layout": {
        "legend": {
         "tracegroupgap": 0
        },
        "piecolorway": [
         "#FFB6C1",
         "#87CEFA",
         "#90EE90",
         "#FFDAB9"
        ],
        "template": {
         "data": {
          "bar": [
           {
            "error_x": {
             "color": "#2a3f5f"
            },
            "error_y": {
             "color": "#2a3f5f"
            },
            "marker": {
             "line": {
              "color": "white",
              "width": 0.5
             },
             "pattern": {
              "fillmode": "overlay",
              "size": 10,
              "solidity": 0.2
             }
            },
            "type": "bar"
           }
          ],
          "barpolar": [
           {
            "marker": {
             "line": {
              "color": "white",
              "width": 0.5
             },
             "pattern": {
              "fillmode": "overlay",
              "size": 10,
              "solidity": 0.2
             }
            },
            "type": "barpolar"
           }
          ],
          "carpet": [
           {
            "aaxis": {
             "endlinecolor": "#2a3f5f",
             "gridcolor": "#C8D4E3",
             "linecolor": "#C8D4E3",
             "minorgridcolor": "#C8D4E3",
             "startlinecolor": "#2a3f5f"
            },
            "baxis": {
             "endlinecolor": "#2a3f5f",
             "gridcolor": "#C8D4E3",
             "linecolor": "#C8D4E3",
             "minorgridcolor": "#C8D4E3",
             "startlinecolor": "#2a3f5f"
            },
            "type": "carpet"
           }
          ],
          "choropleth": [
           {
            "colorbar": {
             "outlinewidth": 0,
             "ticks": ""
            },
            "type": "choropleth"
           }
          ],
          "contour": [
           {
            "colorbar": {
             "outlinewidth": 0,
             "ticks": ""
            },
            "colorscale": [
             [
              0,
              "#0d0887"
             ],
             [
              0.1111111111111111,
              "#46039f"
             ],
             [
              0.2222222222222222,
              "#7201a8"
             ],
             [
              0.3333333333333333,
              "#9c179e"
             ],
             [
              0.4444444444444444,
              "#bd3786"
             ],
             [
              0.5555555555555556,
              "#d8576b"
             ],
             [
              0.6666666666666666,
              "#ed7953"
             ],
             [
              0.7777777777777778,
              "#fb9f3a"
             ],
             [
              0.8888888888888888,
              "#fdca26"
             ],
             [
              1,
              "#f0f921"
             ]
            ],
            "type": "contour"
           }
          ],
          "contourcarpet": [
           {
            "colorbar": {
             "outlinewidth": 0,
             "ticks": ""
            },
            "type": "contourcarpet"
           }
          ],
          "heatmap": [
           {
            "colorbar": {
             "outlinewidth": 0,
             "ticks": ""
            },
            "colorscale": [
             [
              0,
              "#0d0887"
             ],
             [
              0.1111111111111111,
              "#46039f"
             ],
             [
              0.2222222222222222,
              "#7201a8"
             ],
             [
              0.3333333333333333,
              "#9c179e"
             ],
             [
              0.4444444444444444,
              "#bd3786"
             ],
             [
              0.5555555555555556,
              "#d8576b"
             ],
             [
              0.6666666666666666,
              "#ed7953"
             ],
             [
              0.7777777777777778,
              "#fb9f3a"
             ],
             [
              0.8888888888888888,
              "#fdca26"
             ],
             [
              1,
              "#f0f921"
             ]
            ],
            "type": "heatmap"
           }
          ],
          "heatmapgl": [
           {
            "colorbar": {
             "outlinewidth": 0,
             "ticks": ""
            },
            "colorscale": [
             [
              0,
              "#0d0887"
             ],
             [
              0.1111111111111111,
              "#46039f"
             ],
             [
              0.2222222222222222,
              "#7201a8"
             ],
             [
              0.3333333333333333,
              "#9c179e"
             ],
             [
              0.4444444444444444,
              "#bd3786"
             ],
             [
              0.5555555555555556,
              "#d8576b"
             ],
             [
              0.6666666666666666,
              "#ed7953"
             ],
             [
              0.7777777777777778,
              "#fb9f3a"
             ],
             [
              0.8888888888888888,
              "#fdca26"
             ],
             [
              1,
              "#f0f921"
             ]
            ],
            "type": "heatmapgl"
           }
          ],
          "histogram": [
           {
            "marker": {
             "pattern": {
              "fillmode": "overlay",
              "size": 10,
              "solidity": 0.2
             }
            },
            "type": "histogram"
           }
          ],
          "histogram2d": [
           {
            "colorbar": {
             "outlinewidth": 0,
             "ticks": ""
            },
            "colorscale": [
             [
              0,
              "#0d0887"
             ],
             [
              0.1111111111111111,
              "#46039f"
             ],
             [
              0.2222222222222222,
              "#7201a8"
             ],
             [
              0.3333333333333333,
              "#9c179e"
             ],
             [
              0.4444444444444444,
              "#bd3786"
             ],
             [
              0.5555555555555556,
              "#d8576b"
             ],
             [
              0.6666666666666666,
              "#ed7953"
             ],
             [
              0.7777777777777778,
              "#fb9f3a"
             ],
             [
              0.8888888888888888,
              "#fdca26"
             ],
             [
              1,
              "#f0f921"
             ]
            ],
            "type": "histogram2d"
           }
          ],
          "histogram2dcontour": [
           {
            "colorbar": {
             "outlinewidth": 0,
             "ticks": ""
            },
            "colorscale": [
             [
              0,
              "#0d0887"
             ],
             [
              0.1111111111111111,
              "#46039f"
             ],
             [
              0.2222222222222222,
              "#7201a8"
             ],
             [
              0.3333333333333333,
              "#9c179e"
             ],
             [
              0.4444444444444444,
              "#bd3786"
             ],
             [
              0.5555555555555556,
              "#d8576b"
             ],
             [
              0.6666666666666666,
              "#ed7953"
             ],
             [
              0.7777777777777778,
              "#fb9f3a"
             ],
             [
              0.8888888888888888,
              "#fdca26"
             ],
             [
              1,
              "#f0f921"
             ]
            ],
            "type": "histogram2dcontour"
           }
          ],
          "mesh3d": [
           {
            "colorbar": {
             "outlinewidth": 0,
             "ticks": ""
            },
            "type": "mesh3d"
           }
          ],
          "parcoords": [
           {
            "line": {
             "colorbar": {
              "outlinewidth": 0,
              "ticks": ""
             }
            },
            "type": "parcoords"
           }
          ],
          "pie": [
           {
            "automargin": true,
            "type": "pie"
           }
          ],
          "scatter": [
           {
            "fillpattern": {
             "fillmode": "overlay",
             "size": 10,
             "solidity": 0.2
            },
            "type": "scatter"
           }
          ],
          "scatter3d": [
           {
            "line": {
             "colorbar": {
              "outlinewidth": 0,
              "ticks": ""
             }
            },
            "marker": {
             "colorbar": {
              "outlinewidth": 0,
              "ticks": ""
             }
            },
            "type": "scatter3d"
           }
          ],
          "scattercarpet": [
           {
            "marker": {
             "colorbar": {
              "outlinewidth": 0,
              "ticks": ""
             }
            },
            "type": "scattercarpet"
           }
          ],
          "scattergeo": [
           {
            "marker": {
             "colorbar": {
              "outlinewidth": 0,
              "ticks": ""
             }
            },
            "type": "scattergeo"
           }
          ],
          "scattergl": [
           {
            "marker": {
             "colorbar": {
              "outlinewidth": 0,
              "ticks": ""
             }
            },
            "type": "scattergl"
           }
          ],
          "scattermapbox": [
           {
            "marker": {
             "colorbar": {
              "outlinewidth": 0,
              "ticks": ""
             }
            },
            "type": "scattermapbox"
           }
          ],
          "scatterpolar": [
           {
            "marker": {
             "colorbar": {
              "outlinewidth": 0,
              "ticks": ""
             }
            },
            "type": "scatterpolar"
           }
          ],
          "scatterpolargl": [
           {
            "marker": {
             "colorbar": {
              "outlinewidth": 0,
              "ticks": ""
             }
            },
            "type": "scatterpolargl"
           }
          ],
          "scatterternary": [
           {
            "marker": {
             "colorbar": {
              "outlinewidth": 0,
              "ticks": ""
             }
            },
            "type": "scatterternary"
           }
          ],
          "surface": [
           {
            "colorbar": {
             "outlinewidth": 0,
             "ticks": ""
            },
            "colorscale": [
             [
              0,
              "#0d0887"
             ],
             [
              0.1111111111111111,
              "#46039f"
             ],
             [
              0.2222222222222222,
              "#7201a8"
             ],
             [
              0.3333333333333333,
              "#9c179e"
             ],
             [
              0.4444444444444444,
              "#bd3786"
             ],
             [
              0.5555555555555556,
              "#d8576b"
             ],
             [
              0.6666666666666666,
              "#ed7953"
             ],
             [
              0.7777777777777778,
              "#fb9f3a"
             ],
             [
              0.8888888888888888,
              "#fdca26"
             ],
             [
              1,
              "#f0f921"
             ]
            ],
            "type": "surface"
           }
          ],
          "table": [
           {
            "cells": {
             "fill": {
              "color": "#EBF0F8"
             },
             "line": {
              "color": "white"
             }
            },
            "header": {
             "fill": {
              "color": "#C8D4E3"
             },
             "line": {
              "color": "white"
             }
            },
            "type": "table"
           }
          ]
         },
         "layout": {
          "annotationdefaults": {
           "arrowcolor": "#2a3f5f",
           "arrowhead": 0,
           "arrowwidth": 1
          },
          "autotypenumbers": "strict",
          "coloraxis": {
           "colorbar": {
            "outlinewidth": 0,
            "ticks": ""
           }
          },
          "colorscale": {
           "diverging": [
            [
             0,
             "#8e0152"
            ],
            [
             0.1,
             "#c51b7d"
            ],
            [
             0.2,
             "#de77ae"
            ],
            [
             0.3,
             "#f1b6da"
            ],
            [
             0.4,
             "#fde0ef"
            ],
            [
             0.5,
             "#f7f7f7"
            ],
            [
             0.6,
             "#e6f5d0"
            ],
            [
             0.7,
             "#b8e186"
            ],
            [
             0.8,
             "#7fbc41"
            ],
            [
             0.9,
             "#4d9221"
            ],
            [
             1,
             "#276419"
            ]
           ],
           "sequential": [
            [
             0,
             "#0d0887"
            ],
            [
             0.1111111111111111,
             "#46039f"
            ],
            [
             0.2222222222222222,
             "#7201a8"
            ],
            [
             0.3333333333333333,
             "#9c179e"
            ],
            [
             0.4444444444444444,
             "#bd3786"
            ],
            [
             0.5555555555555556,
             "#d8576b"
            ],
            [
             0.6666666666666666,
             "#ed7953"
            ],
            [
             0.7777777777777778,
             "#fb9f3a"
            ],
            [
             0.8888888888888888,
             "#fdca26"
            ],
            [
             1,
             "#f0f921"
            ]
           ],
           "sequentialminus": [
            [
             0,
             "#0d0887"
            ],
            [
             0.1111111111111111,
             "#46039f"
            ],
            [
             0.2222222222222222,
             "#7201a8"
            ],
            [
             0.3333333333333333,
             "#9c179e"
            ],
            [
             0.4444444444444444,
             "#bd3786"
            ],
            [
             0.5555555555555556,
             "#d8576b"
            ],
            [
             0.6666666666666666,
             "#ed7953"
            ],
            [
             0.7777777777777778,
             "#fb9f3a"
            ],
            [
             0.8888888888888888,
             "#fdca26"
            ],
            [
             1,
             "#f0f921"
            ]
           ]
          },
          "colorway": [
           "#636efa",
           "#EF553B",
           "#00cc96",
           "#ab63fa",
           "#FFA15A",
           "#19d3f3",
           "#FF6692",
           "#B6E880",
           "#FF97FF",
           "#FECB52"
          ],
          "font": {
           "color": "#2a3f5f"
          },
          "geo": {
           "bgcolor": "white",
           "lakecolor": "white",
           "landcolor": "white",
           "showlakes": true,
           "showland": true,
           "subunitcolor": "#C8D4E3"
          },
          "hoverlabel": {
           "align": "left"
          },
          "hovermode": "closest",
          "mapbox": {
           "style": "light"
          },
          "paper_bgcolor": "white",
          "plot_bgcolor": "white",
          "polar": {
           "angularaxis": {
            "gridcolor": "#EBF0F8",
            "linecolor": "#EBF0F8",
            "ticks": ""
           },
           "bgcolor": "white",
           "radialaxis": {
            "gridcolor": "#EBF0F8",
            "linecolor": "#EBF0F8",
            "ticks": ""
           }
          },
          "scene": {
           "xaxis": {
            "backgroundcolor": "white",
            "gridcolor": "#DFE8F3",
            "gridwidth": 2,
            "linecolor": "#EBF0F8",
            "showbackground": true,
            "ticks": "",
            "zerolinecolor": "#EBF0F8"
           },
           "yaxis": {
            "backgroundcolor": "white",
            "gridcolor": "#DFE8F3",
            "gridwidth": 2,
            "linecolor": "#EBF0F8",
            "showbackground": true,
            "ticks": "",
            "zerolinecolor": "#EBF0F8"
           },
           "zaxis": {
            "backgroundcolor": "white",
            "gridcolor": "#DFE8F3",
            "gridwidth": 2,
            "linecolor": "#EBF0F8",
            "showbackground": true,
            "ticks": "",
            "zerolinecolor": "#EBF0F8"
           }
          },
          "shapedefaults": {
           "line": {
            "color": "#2a3f5f"
           }
          },
          "ternary": {
           "aaxis": {
            "gridcolor": "#DFE8F3",
            "linecolor": "#A2B1C6",
            "ticks": ""
           },
           "baxis": {
            "gridcolor": "#DFE8F3",
            "linecolor": "#A2B1C6",
            "ticks": ""
           },
           "bgcolor": "white",
           "caxis": {
            "gridcolor": "#DFE8F3",
            "linecolor": "#A2B1C6",
            "ticks": ""
           }
          },
          "title": {
           "x": 0.05
          },
          "xaxis": {
           "automargin": true,
           "gridcolor": "#EBF0F8",
           "linecolor": "#EBF0F8",
           "ticks": "",
           "title": {
            "standoff": 15
           },
           "zerolinecolor": "#EBF0F8",
           "zerolinewidth": 2
          },
          "yaxis": {
           "automargin": true,
           "gridcolor": "#EBF0F8",
           "linecolor": "#EBF0F8",
           "ticks": "",
           "title": {
            "standoff": 15
           },
           "zerolinecolor": "#EBF0F8",
           "zerolinewidth": 2
          }
         }
        },
        "title": {
         "text": "Reach from Different Sources"
        }
       }
      }
     },
     "metadata": {},
     "output_type": "display_data"
    }
   ],
   "source": [
    "import plotly.express as px\n",
    "\n",
    "reach_sources = ['From Home', 'From Hashtags', 'From Explore', 'From Other'] \n",
    "reach_counts = [data[source].sum() for source in reach_sources]\n",
    "colors = ['#FFB6C1', '#87CEFA', '#90EE90', '#FFDAB9']\n",
    "\n",
    "fig = px.pie(data_frame=data, names=reach_sources, values=reach_counts, title='Reach from Different Sources',\n",
    "             color_discrete_sequence=colors)\n",
    "fig.show()\n"
   ]
  },
  {
   "cell_type": "code",
   "execution_count": 15,
   "metadata": {},
   "outputs": [
    {
     "data": {
      "application/vnd.plotly.v1+json": {
       "config": {
        "plotlyServerURL": "https://plot.ly"
       },
       "data": [
        {
         "domain": {
          "x": [
           0,
           1
          ],
          "y": [
           0,
           1
          ]
         },
         "hovertemplate": "label=%{label}<br>value=%{value}<extra></extra>",
         "labels": [
          "Saves",
          "Comments",
          "Shares",
          "Likes"
         ],
         "legendgroup": "",
         "name": "",
         "showlegend": true,
         "type": "pie",
         "values": [
          18244,
          793,
          1114,
          20680
         ]
        }
       ],
       "layout": {
        "legend": {
         "tracegroupgap": 0
        },
        "piecolorway": [
         "#FFB6C1",
         "#87CEFA",
         "#90EE90",
         "#FFDAB9"
        ],
        "template": {
         "data": {
          "bar": [
           {
            "error_x": {
             "color": "#2a3f5f"
            },
            "error_y": {
             "color": "#2a3f5f"
            },
            "marker": {
             "line": {
              "color": "white",
              "width": 0.5
             },
             "pattern": {
              "fillmode": "overlay",
              "size": 10,
              "solidity": 0.2
             }
            },
            "type": "bar"
           }
          ],
          "barpolar": [
           {
            "marker": {
             "line": {
              "color": "white",
              "width": 0.5
             },
             "pattern": {
              "fillmode": "overlay",
              "size": 10,
              "solidity": 0.2
             }
            },
            "type": "barpolar"
           }
          ],
          "carpet": [
           {
            "aaxis": {
             "endlinecolor": "#2a3f5f",
             "gridcolor": "#C8D4E3",
             "linecolor": "#C8D4E3",
             "minorgridcolor": "#C8D4E3",
             "startlinecolor": "#2a3f5f"
            },
            "baxis": {
             "endlinecolor": "#2a3f5f",
             "gridcolor": "#C8D4E3",
             "linecolor": "#C8D4E3",
             "minorgridcolor": "#C8D4E3",
             "startlinecolor": "#2a3f5f"
            },
            "type": "carpet"
           }
          ],
          "choropleth": [
           {
            "colorbar": {
             "outlinewidth": 0,
             "ticks": ""
            },
            "type": "choropleth"
           }
          ],
          "contour": [
           {
            "colorbar": {
             "outlinewidth": 0,
             "ticks": ""
            },
            "colorscale": [
             [
              0,
              "#0d0887"
             ],
             [
              0.1111111111111111,
              "#46039f"
             ],
             [
              0.2222222222222222,
              "#7201a8"
             ],
             [
              0.3333333333333333,
              "#9c179e"
             ],
             [
              0.4444444444444444,
              "#bd3786"
             ],
             [
              0.5555555555555556,
              "#d8576b"
             ],
             [
              0.6666666666666666,
              "#ed7953"
             ],
             [
              0.7777777777777778,
              "#fb9f3a"
             ],
             [
              0.8888888888888888,
              "#fdca26"
             ],
             [
              1,
              "#f0f921"
             ]
            ],
            "type": "contour"
           }
          ],
          "contourcarpet": [
           {
            "colorbar": {
             "outlinewidth": 0,
             "ticks": ""
            },
            "type": "contourcarpet"
           }
          ],
          "heatmap": [
           {
            "colorbar": {
             "outlinewidth": 0,
             "ticks": ""
            },
            "colorscale": [
             [
              0,
              "#0d0887"
             ],
             [
              0.1111111111111111,
              "#46039f"
             ],
             [
              0.2222222222222222,
              "#7201a8"
             ],
             [
              0.3333333333333333,
              "#9c179e"
             ],
             [
              0.4444444444444444,
              "#bd3786"
             ],
             [
              0.5555555555555556,
              "#d8576b"
             ],
             [
              0.6666666666666666,
              "#ed7953"
             ],
             [
              0.7777777777777778,
              "#fb9f3a"
             ],
             [
              0.8888888888888888,
              "#fdca26"
             ],
             [
              1,
              "#f0f921"
             ]
            ],
            "type": "heatmap"
           }
          ],
          "heatmapgl": [
           {
            "colorbar": {
             "outlinewidth": 0,
             "ticks": ""
            },
            "colorscale": [
             [
              0,
              "#0d0887"
             ],
             [
              0.1111111111111111,
              "#46039f"
             ],
             [
              0.2222222222222222,
              "#7201a8"
             ],
             [
              0.3333333333333333,
              "#9c179e"
             ],
             [
              0.4444444444444444,
              "#bd3786"
             ],
             [
              0.5555555555555556,
              "#d8576b"
             ],
             [
              0.6666666666666666,
              "#ed7953"
             ],
             [
              0.7777777777777778,
              "#fb9f3a"
             ],
             [
              0.8888888888888888,
              "#fdca26"
             ],
             [
              1,
              "#f0f921"
             ]
            ],
            "type": "heatmapgl"
           }
          ],
          "histogram": [
           {
            "marker": {
             "pattern": {
              "fillmode": "overlay",
              "size": 10,
              "solidity": 0.2
             }
            },
            "type": "histogram"
           }
          ],
          "histogram2d": [
           {
            "colorbar": {
             "outlinewidth": 0,
             "ticks": ""
            },
            "colorscale": [
             [
              0,
              "#0d0887"
             ],
             [
              0.1111111111111111,
              "#46039f"
             ],
             [
              0.2222222222222222,
              "#7201a8"
             ],
             [
              0.3333333333333333,
              "#9c179e"
             ],
             [
              0.4444444444444444,
              "#bd3786"
             ],
             [
              0.5555555555555556,
              "#d8576b"
             ],
             [
              0.6666666666666666,
              "#ed7953"
             ],
             [
              0.7777777777777778,
              "#fb9f3a"
             ],
             [
              0.8888888888888888,
              "#fdca26"
             ],
             [
              1,
              "#f0f921"
             ]
            ],
            "type": "histogram2d"
           }
          ],
          "histogram2dcontour": [
           {
            "colorbar": {
             "outlinewidth": 0,
             "ticks": ""
            },
            "colorscale": [
             [
              0,
              "#0d0887"
             ],
             [
              0.1111111111111111,
              "#46039f"
             ],
             [
              0.2222222222222222,
              "#7201a8"
             ],
             [
              0.3333333333333333,
              "#9c179e"
             ],
             [
              0.4444444444444444,
              "#bd3786"
             ],
             [
              0.5555555555555556,
              "#d8576b"
             ],
             [
              0.6666666666666666,
              "#ed7953"
             ],
             [
              0.7777777777777778,
              "#fb9f3a"
             ],
             [
              0.8888888888888888,
              "#fdca26"
             ],
             [
              1,
              "#f0f921"
             ]
            ],
            "type": "histogram2dcontour"
           }
          ],
          "mesh3d": [
           {
            "colorbar": {
             "outlinewidth": 0,
             "ticks": ""
            },
            "type": "mesh3d"
           }
          ],
          "parcoords": [
           {
            "line": {
             "colorbar": {
              "outlinewidth": 0,
              "ticks": ""
             }
            },
            "type": "parcoords"
           }
          ],
          "pie": [
           {
            "automargin": true,
            "type": "pie"
           }
          ],
          "scatter": [
           {
            "fillpattern": {
             "fillmode": "overlay",
             "size": 10,
             "solidity": 0.2
            },
            "type": "scatter"
           }
          ],
          "scatter3d": [
           {
            "line": {
             "colorbar": {
              "outlinewidth": 0,
              "ticks": ""
             }
            },
            "marker": {
             "colorbar": {
              "outlinewidth": 0,
              "ticks": ""
             }
            },
            "type": "scatter3d"
           }
          ],
          "scattercarpet": [
           {
            "marker": {
             "colorbar": {
              "outlinewidth": 0,
              "ticks": ""
             }
            },
            "type": "scattercarpet"
           }
          ],
          "scattergeo": [
           {
            "marker": {
             "colorbar": {
              "outlinewidth": 0,
              "ticks": ""
             }
            },
            "type": "scattergeo"
           }
          ],
          "scattergl": [
           {
            "marker": {
             "colorbar": {
              "outlinewidth": 0,
              "ticks": ""
             }
            },
            "type": "scattergl"
           }
          ],
          "scattermapbox": [
           {
            "marker": {
             "colorbar": {
              "outlinewidth": 0,
              "ticks": ""
             }
            },
            "type": "scattermapbox"
           }
          ],
          "scatterpolar": [
           {
            "marker": {
             "colorbar": {
              "outlinewidth": 0,
              "ticks": ""
             }
            },
            "type": "scatterpolar"
           }
          ],
          "scatterpolargl": [
           {
            "marker": {
             "colorbar": {
              "outlinewidth": 0,
              "ticks": ""
             }
            },
            "type": "scatterpolargl"
           }
          ],
          "scatterternary": [
           {
            "marker": {
             "colorbar": {
              "outlinewidth": 0,
              "ticks": ""
             }
            },
            "type": "scatterternary"
           }
          ],
          "surface": [
           {
            "colorbar": {
             "outlinewidth": 0,
             "ticks": ""
            },
            "colorscale": [
             [
              0,
              "#0d0887"
             ],
             [
              0.1111111111111111,
              "#46039f"
             ],
             [
              0.2222222222222222,
              "#7201a8"
             ],
             [
              0.3333333333333333,
              "#9c179e"
             ],
             [
              0.4444444444444444,
              "#bd3786"
             ],
             [
              0.5555555555555556,
              "#d8576b"
             ],
             [
              0.6666666666666666,
              "#ed7953"
             ],
             [
              0.7777777777777778,
              "#fb9f3a"
             ],
             [
              0.8888888888888888,
              "#fdca26"
             ],
             [
              1,
              "#f0f921"
             ]
            ],
            "type": "surface"
           }
          ],
          "table": [
           {
            "cells": {
             "fill": {
              "color": "#EBF0F8"
             },
             "line": {
              "color": "white"
             }
            },
            "header": {
             "fill": {
              "color": "#C8D4E3"
             },
             "line": {
              "color": "white"
             }
            },
            "type": "table"
           }
          ]
         },
         "layout": {
          "annotationdefaults": {
           "arrowcolor": "#2a3f5f",
           "arrowhead": 0,
           "arrowwidth": 1
          },
          "autotypenumbers": "strict",
          "coloraxis": {
           "colorbar": {
            "outlinewidth": 0,
            "ticks": ""
           }
          },
          "colorscale": {
           "diverging": [
            [
             0,
             "#8e0152"
            ],
            [
             0.1,
             "#c51b7d"
            ],
            [
             0.2,
             "#de77ae"
            ],
            [
             0.3,
             "#f1b6da"
            ],
            [
             0.4,
             "#fde0ef"
            ],
            [
             0.5,
             "#f7f7f7"
            ],
            [
             0.6,
             "#e6f5d0"
            ],
            [
             0.7,
             "#b8e186"
            ],
            [
             0.8,
             "#7fbc41"
            ],
            [
             0.9,
             "#4d9221"
            ],
            [
             1,
             "#276419"
            ]
           ],
           "sequential": [
            [
             0,
             "#0d0887"
            ],
            [
             0.1111111111111111,
             "#46039f"
            ],
            [
             0.2222222222222222,
             "#7201a8"
            ],
            [
             0.3333333333333333,
             "#9c179e"
            ],
            [
             0.4444444444444444,
             "#bd3786"
            ],
            [
             0.5555555555555556,
             "#d8576b"
            ],
            [
             0.6666666666666666,
             "#ed7953"
            ],
            [
             0.7777777777777778,
             "#fb9f3a"
            ],
            [
             0.8888888888888888,
             "#fdca26"
            ],
            [
             1,
             "#f0f921"
            ]
           ],
           "sequentialminus": [
            [
             0,
             "#0d0887"
            ],
            [
             0.1111111111111111,
             "#46039f"
            ],
            [
             0.2222222222222222,
             "#7201a8"
            ],
            [
             0.3333333333333333,
             "#9c179e"
            ],
            [
             0.4444444444444444,
             "#bd3786"
            ],
            [
             0.5555555555555556,
             "#d8576b"
            ],
            [
             0.6666666666666666,
             "#ed7953"
            ],
            [
             0.7777777777777778,
             "#fb9f3a"
            ],
            [
             0.8888888888888888,
             "#fdca26"
            ],
            [
             1,
             "#f0f921"
            ]
           ]
          },
          "colorway": [
           "#636efa",
           "#EF553B",
           "#00cc96",
           "#ab63fa",
           "#FFA15A",
           "#19d3f3",
           "#FF6692",
           "#B6E880",
           "#FF97FF",
           "#FECB52"
          ],
          "font": {
           "color": "#2a3f5f"
          },
          "geo": {
           "bgcolor": "white",
           "lakecolor": "white",
           "landcolor": "white",
           "showlakes": true,
           "showland": true,
           "subunitcolor": "#C8D4E3"
          },
          "hoverlabel": {
           "align": "left"
          },
          "hovermode": "closest",
          "mapbox": {
           "style": "light"
          },
          "paper_bgcolor": "white",
          "plot_bgcolor": "white",
          "polar": {
           "angularaxis": {
            "gridcolor": "#EBF0F8",
            "linecolor": "#EBF0F8",
            "ticks": ""
           },
           "bgcolor": "white",
           "radialaxis": {
            "gridcolor": "#EBF0F8",
            "linecolor": "#EBF0F8",
            "ticks": ""
           }
          },
          "scene": {
           "xaxis": {
            "backgroundcolor": "white",
            "gridcolor": "#DFE8F3",
            "gridwidth": 2,
            "linecolor": "#EBF0F8",
            "showbackground": true,
            "ticks": "",
            "zerolinecolor": "#EBF0F8"
           },
           "yaxis": {
            "backgroundcolor": "white",
            "gridcolor": "#DFE8F3",
            "gridwidth": 2,
            "linecolor": "#EBF0F8",
            "showbackground": true,
            "ticks": "",
            "zerolinecolor": "#EBF0F8"
           },
           "zaxis": {
            "backgroundcolor": "white",
            "gridcolor": "#DFE8F3",
            "gridwidth": 2,
            "linecolor": "#EBF0F8",
            "showbackground": true,
            "ticks": "",
            "zerolinecolor": "#EBF0F8"
           }
          },
          "shapedefaults": {
           "line": {
            "color": "#2a3f5f"
           }
          },
          "ternary": {
           "aaxis": {
            "gridcolor": "#DFE8F3",
            "linecolor": "#A2B1C6",
            "ticks": ""
           },
           "baxis": {
            "gridcolor": "#DFE8F3",
            "linecolor": "#A2B1C6",
            "ticks": ""
           },
           "bgcolor": "white",
           "caxis": {
            "gridcolor": "#DFE8F3",
            "linecolor": "#A2B1C6",
            "ticks": ""
           }
          },
          "title": {
           "x": 0.05
          },
          "xaxis": {
           "automargin": true,
           "gridcolor": "#EBF0F8",
           "linecolor": "#EBF0F8",
           "ticks": "",
           "title": {
            "standoff": 15
           },
           "zerolinecolor": "#EBF0F8",
           "zerolinewidth": 2
          },
          "yaxis": {
           "automargin": true,
           "gridcolor": "#EBF0F8",
           "linecolor": "#EBF0F8",
           "ticks": "",
           "title": {
            "standoff": 15
           },
           "zerolinecolor": "#EBF0F8",
           "zerolinewidth": 2
          }
         }
        },
        "title": {
         "text": "Engagement Sources"
        }
       }
      }
     },
     "metadata": {},
     "output_type": "display_data"
    }
   ],
   "source": [
    "import plotly.express as px\n",
    "\n",
    "engagement_metrics = ['Saves', 'Comments', 'Shares', 'Likes']\n",
    "engagement_counts = [data[metric].sum() for metric in engagement_metrics]\n",
    "colors = ['#FFB6C1', '#87CEFA', '#90EE90', '#FFDAB9']\n",
    "\n",
    "fig = px.pie(data_frame=data, names=engagement_metrics, values=engagement_counts, title='Engagement Sources',\n",
    "             color_discrete_sequence=colors)\n",
    "fig.show()\n"
   ]
  },
  {
   "cell_type": "code",
   "execution_count": 17,
   "metadata": {},
   "outputs": [
    {
     "data": {
      "application/vnd.plotly.v1+json": {
       "config": {
        "plotlyServerURL": "https://plot.ly"
       },
       "data": [
        {
         "hovertemplate": "Profile Visits=%{x}<br>Follows=%{y}<extra></extra>",
         "legendgroup": "",
         "marker": {
          "color": "#636efa",
          "symbol": "circle"
         },
         "mode": "markers",
         "name": "",
         "orientation": "v",
         "showlegend": false,
         "type": "scatter",
         "x": [
          35,
          48,
          62,
          23,
          8,
          9,
          26,
          12,
          36,
          31,
          29,
          15,
          8,
          20,
          181,
          17,
          16,
          21,
          77,
          10,
          9,
          11,
          144,
          14,
          10,
          19,
          69,
          11,
          19,
          9,
          57,
          13,
          11,
          24,
          81,
          4,
          7,
          14,
          18,
          8,
          330,
          21,
          19,
          32,
          19,
          21,
          14,
          30,
          39,
          42,
          31,
          20,
          12,
          22,
          306,
          13,
          26,
          16,
          15,
          15,
          39,
          21,
          8,
          45,
          50,
          37,
          25,
          347,
          26,
          48,
          16,
          26,
          17,
          52,
          22,
          41,
          155,
          12,
          22,
          20,
          23,
          25,
          17,
          16,
          21,
          77,
          10,
          14,
          30,
          39,
          42,
          31,
          14,
          10,
          19,
          69,
          11,
          19,
          9,
          38,
          42,
          92,
          75,
          21,
          26,
          39,
          74,
          467,
          24,
          70,
          22,
          46,
          61,
          237,
          73,
          20,
          34,
          148,
          611
         ],
         "xaxis": "x",
         "y": [
          2,
          10,
          12,
          8,
          0,
          2,
          0,
          6,
          4,
          6,
          4,
          0,
          2,
          4,
          42,
          6,
          2,
          2,
          30,
          0,
          0,
          24,
          100,
          2,
          4,
          6,
          6,
          6,
          2,
          2,
          20,
          2,
          4,
          8,
          26,
          2,
          2,
          4,
          0,
          2,
          94,
          8,
          18,
          10,
          4,
          4,
          4,
          4,
          18,
          38,
          10,
          12,
          4,
          4,
          74,
          0,
          6,
          6,
          0,
          6,
          12,
          10,
          8,
          8,
          46,
          12,
          10,
          94,
          6,
          10,
          6,
          4,
          12,
          16,
          12,
          8,
          32,
          8,
          16,
          6,
          10,
          10,
          6,
          2,
          2,
          30,
          0,
          4,
          4,
          18,
          38,
          10,
          2,
          4,
          6,
          6,
          6,
          2,
          2,
          14,
          8,
          14,
          28,
          18,
          12,
          34,
          26,
          260,
          16,
          96,
          20,
          30,
          58,
          100,
          80,
          18,
          10,
          214,
          228
         ],
         "yaxis": "y"
        },
        {
         "hovertemplate": "<b>OLS trendline</b><br>Follows = 0.400884 * Profile Visits + 0.46283<br>R<sup>2</sup>=0.727868<br><br>Profile Visits=%{x}<br>Follows=%{y} <b>(trend)</b><extra></extra>",
         "legendgroup": "",
         "marker": {
          "color": "#636efa",
          "symbol": "circle"
         },
         "mode": "lines",
         "name": "",
         "showlegend": false,
         "type": "scatter",
         "x": [
          4,
          7,
          8,
          8,
          8,
          8,
          9,
          9,
          9,
          9,
          10,
          10,
          10,
          10,
          11,
          11,
          11,
          11,
          12,
          12,
          12,
          13,
          13,
          14,
          14,
          14,
          14,
          14,
          15,
          15,
          15,
          16,
          16,
          16,
          16,
          17,
          17,
          17,
          18,
          19,
          19,
          19,
          19,
          19,
          19,
          20,
          20,
          20,
          20,
          21,
          21,
          21,
          21,
          21,
          21,
          22,
          22,
          22,
          22,
          23,
          23,
          24,
          24,
          25,
          25,
          26,
          26,
          26,
          26,
          26,
          29,
          30,
          30,
          31,
          31,
          31,
          32,
          34,
          35,
          36,
          37,
          38,
          39,
          39,
          39,
          39,
          41,
          42,
          42,
          42,
          45,
          46,
          48,
          48,
          50,
          52,
          57,
          61,
          62,
          69,
          69,
          70,
          73,
          74,
          75,
          77,
          77,
          81,
          92,
          144,
          148,
          155,
          181,
          237,
          306,
          330,
          347,
          467,
          611
         ],
         "xaxis": "x",
         "y": [
          2.066365070422533,
          3.269016056338026,
          3.669899718309857,
          3.669899718309857,
          3.669899718309857,
          3.669899718309857,
          4.0707833802816875,
          4.0707833802816875,
          4.0707833802816875,
          4.0707833802816875,
          4.471667042253519,
          4.471667042253519,
          4.471667042253519,
          4.471667042253519,
          4.87255070422535,
          4.87255070422535,
          4.87255070422535,
          4.87255070422535,
          5.273434366197181,
          5.273434366197181,
          5.273434366197181,
          5.6743180281690115,
          5.6743180281690115,
          6.075201690140843,
          6.075201690140843,
          6.075201690140843,
          6.075201690140843,
          6.075201690140843,
          6.476085352112674,
          6.476085352112674,
          6.476085352112674,
          6.876969014084505,
          6.876969014084505,
          6.876969014084505,
          6.876969014084505,
          7.277852676056336,
          7.277852676056336,
          7.277852676056336,
          7.678736338028167,
          8.079619999999998,
          8.079619999999998,
          8.079619999999998,
          8.079619999999998,
          8.079619999999998,
          8.079619999999998,
          8.480503661971829,
          8.480503661971829,
          8.480503661971829,
          8.480503661971829,
          8.88138732394366,
          8.88138732394366,
          8.88138732394366,
          8.88138732394366,
          8.88138732394366,
          8.88138732394366,
          9.282270985915492,
          9.282270985915492,
          9.282270985915492,
          9.282270985915492,
          9.683154647887322,
          9.683154647887322,
          10.084038309859153,
          10.084038309859153,
          10.484921971830984,
          10.484921971830984,
          10.885805633802814,
          10.885805633802814,
          10.885805633802814,
          10.885805633802814,
          10.885805633802814,
          12.088456619718308,
          12.48934028169014,
          12.48934028169014,
          12.89022394366197,
          12.89022394366197,
          12.89022394366197,
          13.291107605633801,
          14.092874929577462,
          14.493758591549295,
          14.894642253521125,
          15.295525915492956,
          15.696409577464788,
          16.097293239436617,
          16.097293239436617,
          16.097293239436617,
          16.097293239436617,
          16.89906056338028,
          17.29994422535211,
          17.29994422535211,
          17.29994422535211,
          18.502595211267604,
          18.903478873239436,
          19.705246197183097,
          19.705246197183097,
          20.50701352112676,
          21.30878084507042,
          23.313199154929578,
          24.9167338028169,
          25.317617464788732,
          28.123803098591548,
          28.123803098591548,
          28.52468676056338,
          29.727337746478874,
          30.128221408450703,
          30.529105070422535,
          31.330872394366196,
          31.330872394366196,
          32.934407042253525,
          37.34412732394367,
          58.19007774647888,
          59.79361239436619,
          62.59979802816902,
          73.02277323943662,
          95.47225830985916,
          123.13323098591549,
          132.75443887323945,
          139.56946112676056,
          187.6755005633803,
          245.40274788732395
         ],
         "yaxis": "y"
        }
       ],
       "layout": {
        "legend": {
         "tracegroupgap": 0
        },
        "template": {
         "data": {
          "bar": [
           {
            "error_x": {
             "color": "#2a3f5f"
            },
            "error_y": {
             "color": "#2a3f5f"
            },
            "marker": {
             "line": {
              "color": "white",
              "width": 0.5
             },
             "pattern": {
              "fillmode": "overlay",
              "size": 10,
              "solidity": 0.2
             }
            },
            "type": "bar"
           }
          ],
          "barpolar": [
           {
            "marker": {
             "line": {
              "color": "white",
              "width": 0.5
             },
             "pattern": {
              "fillmode": "overlay",
              "size": 10,
              "solidity": 0.2
             }
            },
            "type": "barpolar"
           }
          ],
          "carpet": [
           {
            "aaxis": {
             "endlinecolor": "#2a3f5f",
             "gridcolor": "#C8D4E3",
             "linecolor": "#C8D4E3",
             "minorgridcolor": "#C8D4E3",
             "startlinecolor": "#2a3f5f"
            },
            "baxis": {
             "endlinecolor": "#2a3f5f",
             "gridcolor": "#C8D4E3",
             "linecolor": "#C8D4E3",
             "minorgridcolor": "#C8D4E3",
             "startlinecolor": "#2a3f5f"
            },
            "type": "carpet"
           }
          ],
          "choropleth": [
           {
            "colorbar": {
             "outlinewidth": 0,
             "ticks": ""
            },
            "type": "choropleth"
           }
          ],
          "contour": [
           {
            "colorbar": {
             "outlinewidth": 0,
             "ticks": ""
            },
            "colorscale": [
             [
              0,
              "#0d0887"
             ],
             [
              0.1111111111111111,
              "#46039f"
             ],
             [
              0.2222222222222222,
              "#7201a8"
             ],
             [
              0.3333333333333333,
              "#9c179e"
             ],
             [
              0.4444444444444444,
              "#bd3786"
             ],
             [
              0.5555555555555556,
              "#d8576b"
             ],
             [
              0.6666666666666666,
              "#ed7953"
             ],
             [
              0.7777777777777778,
              "#fb9f3a"
             ],
             [
              0.8888888888888888,
              "#fdca26"
             ],
             [
              1,
              "#f0f921"
             ]
            ],
            "type": "contour"
           }
          ],
          "contourcarpet": [
           {
            "colorbar": {
             "outlinewidth": 0,
             "ticks": ""
            },
            "type": "contourcarpet"
           }
          ],
          "heatmap": [
           {
            "colorbar": {
             "outlinewidth": 0,
             "ticks": ""
            },
            "colorscale": [
             [
              0,
              "#0d0887"
             ],
             [
              0.1111111111111111,
              "#46039f"
             ],
             [
              0.2222222222222222,
              "#7201a8"
             ],
             [
              0.3333333333333333,
              "#9c179e"
             ],
             [
              0.4444444444444444,
              "#bd3786"
             ],
             [
              0.5555555555555556,
              "#d8576b"
             ],
             [
              0.6666666666666666,
              "#ed7953"
             ],
             [
              0.7777777777777778,
              "#fb9f3a"
             ],
             [
              0.8888888888888888,
              "#fdca26"
             ],
             [
              1,
              "#f0f921"
             ]
            ],
            "type": "heatmap"
           }
          ],
          "heatmapgl": [
           {
            "colorbar": {
             "outlinewidth": 0,
             "ticks": ""
            },
            "colorscale": [
             [
              0,
              "#0d0887"
             ],
             [
              0.1111111111111111,
              "#46039f"
             ],
             [
              0.2222222222222222,
              "#7201a8"
             ],
             [
              0.3333333333333333,
              "#9c179e"
             ],
             [
              0.4444444444444444,
              "#bd3786"
             ],
             [
              0.5555555555555556,
              "#d8576b"
             ],
             [
              0.6666666666666666,
              "#ed7953"
             ],
             [
              0.7777777777777778,
              "#fb9f3a"
             ],
             [
              0.8888888888888888,
              "#fdca26"
             ],
             [
              1,
              "#f0f921"
             ]
            ],
            "type": "heatmapgl"
           }
          ],
          "histogram": [
           {
            "marker": {
             "pattern": {
              "fillmode": "overlay",
              "size": 10,
              "solidity": 0.2
             }
            },
            "type": "histogram"
           }
          ],
          "histogram2d": [
           {
            "colorbar": {
             "outlinewidth": 0,
             "ticks": ""
            },
            "colorscale": [
             [
              0,
              "#0d0887"
             ],
             [
              0.1111111111111111,
              "#46039f"
             ],
             [
              0.2222222222222222,
              "#7201a8"
             ],
             [
              0.3333333333333333,
              "#9c179e"
             ],
             [
              0.4444444444444444,
              "#bd3786"
             ],
             [
              0.5555555555555556,
              "#d8576b"
             ],
             [
              0.6666666666666666,
              "#ed7953"
             ],
             [
              0.7777777777777778,
              "#fb9f3a"
             ],
             [
              0.8888888888888888,
              "#fdca26"
             ],
             [
              1,
              "#f0f921"
             ]
            ],
            "type": "histogram2d"
           }
          ],
          "histogram2dcontour": [
           {
            "colorbar": {
             "outlinewidth": 0,
             "ticks": ""
            },
            "colorscale": [
             [
              0,
              "#0d0887"
             ],
             [
              0.1111111111111111,
              "#46039f"
             ],
             [
              0.2222222222222222,
              "#7201a8"
             ],
             [
              0.3333333333333333,
              "#9c179e"
             ],
             [
              0.4444444444444444,
              "#bd3786"
             ],
             [
              0.5555555555555556,
              "#d8576b"
             ],
             [
              0.6666666666666666,
              "#ed7953"
             ],
             [
              0.7777777777777778,
              "#fb9f3a"
             ],
             [
              0.8888888888888888,
              "#fdca26"
             ],
             [
              1,
              "#f0f921"
             ]
            ],
            "type": "histogram2dcontour"
           }
          ],
          "mesh3d": [
           {
            "colorbar": {
             "outlinewidth": 0,
             "ticks": ""
            },
            "type": "mesh3d"
           }
          ],
          "parcoords": [
           {
            "line": {
             "colorbar": {
              "outlinewidth": 0,
              "ticks": ""
             }
            },
            "type": "parcoords"
           }
          ],
          "pie": [
           {
            "automargin": true,
            "type": "pie"
           }
          ],
          "scatter": [
           {
            "fillpattern": {
             "fillmode": "overlay",
             "size": 10,
             "solidity": 0.2
            },
            "type": "scatter"
           }
          ],
          "scatter3d": [
           {
            "line": {
             "colorbar": {
              "outlinewidth": 0,
              "ticks": ""
             }
            },
            "marker": {
             "colorbar": {
              "outlinewidth": 0,
              "ticks": ""
             }
            },
            "type": "scatter3d"
           }
          ],
          "scattercarpet": [
           {
            "marker": {
             "colorbar": {
              "outlinewidth": 0,
              "ticks": ""
             }
            },
            "type": "scattercarpet"
           }
          ],
          "scattergeo": [
           {
            "marker": {
             "colorbar": {
              "outlinewidth": 0,
              "ticks": ""
             }
            },
            "type": "scattergeo"
           }
          ],
          "scattergl": [
           {
            "marker": {
             "colorbar": {
              "outlinewidth": 0,
              "ticks": ""
             }
            },
            "type": "scattergl"
           }
          ],
          "scattermapbox": [
           {
            "marker": {
             "colorbar": {
              "outlinewidth": 0,
              "ticks": ""
             }
            },
            "type": "scattermapbox"
           }
          ],
          "scatterpolar": [
           {
            "marker": {
             "colorbar": {
              "outlinewidth": 0,
              "ticks": ""
             }
            },
            "type": "scatterpolar"
           }
          ],
          "scatterpolargl": [
           {
            "marker": {
             "colorbar": {
              "outlinewidth": 0,
              "ticks": ""
             }
            },
            "type": "scatterpolargl"
           }
          ],
          "scatterternary": [
           {
            "marker": {
             "colorbar": {
              "outlinewidth": 0,
              "ticks": ""
             }
            },
            "type": "scatterternary"
           }
          ],
          "surface": [
           {
            "colorbar": {
             "outlinewidth": 0,
             "ticks": ""
            },
            "colorscale": [
             [
              0,
              "#0d0887"
             ],
             [
              0.1111111111111111,
              "#46039f"
             ],
             [
              0.2222222222222222,
              "#7201a8"
             ],
             [
              0.3333333333333333,
              "#9c179e"
             ],
             [
              0.4444444444444444,
              "#bd3786"
             ],
             [
              0.5555555555555556,
              "#d8576b"
             ],
             [
              0.6666666666666666,
              "#ed7953"
             ],
             [
              0.7777777777777778,
              "#fb9f3a"
             ],
             [
              0.8888888888888888,
              "#fdca26"
             ],
             [
              1,
              "#f0f921"
             ]
            ],
            "type": "surface"
           }
          ],
          "table": [
           {
            "cells": {
             "fill": {
              "color": "#EBF0F8"
             },
             "line": {
              "color": "white"
             }
            },
            "header": {
             "fill": {
              "color": "#C8D4E3"
             },
             "line": {
              "color": "white"
             }
            },
            "type": "table"
           }
          ]
         },
         "layout": {
          "annotationdefaults": {
           "arrowcolor": "#2a3f5f",
           "arrowhead": 0,
           "arrowwidth": 1
          },
          "autotypenumbers": "strict",
          "coloraxis": {
           "colorbar": {
            "outlinewidth": 0,
            "ticks": ""
           }
          },
          "colorscale": {
           "diverging": [
            [
             0,
             "#8e0152"
            ],
            [
             0.1,
             "#c51b7d"
            ],
            [
             0.2,
             "#de77ae"
            ],
            [
             0.3,
             "#f1b6da"
            ],
            [
             0.4,
             "#fde0ef"
            ],
            [
             0.5,
             "#f7f7f7"
            ],
            [
             0.6,
             "#e6f5d0"
            ],
            [
             0.7,
             "#b8e186"
            ],
            [
             0.8,
             "#7fbc41"
            ],
            [
             0.9,
             "#4d9221"
            ],
            [
             1,
             "#276419"
            ]
           ],
           "sequential": [
            [
             0,
             "#0d0887"
            ],
            [
             0.1111111111111111,
             "#46039f"
            ],
            [
             0.2222222222222222,
             "#7201a8"
            ],
            [
             0.3333333333333333,
             "#9c179e"
            ],
            [
             0.4444444444444444,
             "#bd3786"
            ],
            [
             0.5555555555555556,
             "#d8576b"
            ],
            [
             0.6666666666666666,
             "#ed7953"
            ],
            [
             0.7777777777777778,
             "#fb9f3a"
            ],
            [
             0.8888888888888888,
             "#fdca26"
            ],
            [
             1,
             "#f0f921"
            ]
           ],
           "sequentialminus": [
            [
             0,
             "#0d0887"
            ],
            [
             0.1111111111111111,
             "#46039f"
            ],
            [
             0.2222222222222222,
             "#7201a8"
            ],
            [
             0.3333333333333333,
             "#9c179e"
            ],
            [
             0.4444444444444444,
             "#bd3786"
            ],
            [
             0.5555555555555556,
             "#d8576b"
            ],
            [
             0.6666666666666666,
             "#ed7953"
            ],
            [
             0.7777777777777778,
             "#fb9f3a"
            ],
            [
             0.8888888888888888,
             "#fdca26"
            ],
            [
             1,
             "#f0f921"
            ]
           ]
          },
          "colorway": [
           "#636efa",
           "#EF553B",
           "#00cc96",
           "#ab63fa",
           "#FFA15A",
           "#19d3f3",
           "#FF6692",
           "#B6E880",
           "#FF97FF",
           "#FECB52"
          ],
          "font": {
           "color": "#2a3f5f"
          },
          "geo": {
           "bgcolor": "white",
           "lakecolor": "white",
           "landcolor": "white",
           "showlakes": true,
           "showland": true,
           "subunitcolor": "#C8D4E3"
          },
          "hoverlabel": {
           "align": "left"
          },
          "hovermode": "closest",
          "mapbox": {
           "style": "light"
          },
          "paper_bgcolor": "white",
          "plot_bgcolor": "white",
          "polar": {
           "angularaxis": {
            "gridcolor": "#EBF0F8",
            "linecolor": "#EBF0F8",
            "ticks": ""
           },
           "bgcolor": "white",
           "radialaxis": {
            "gridcolor": "#EBF0F8",
            "linecolor": "#EBF0F8",
            "ticks": ""
           }
          },
          "scene": {
           "xaxis": {
            "backgroundcolor": "white",
            "gridcolor": "#DFE8F3",
            "gridwidth": 2,
            "linecolor": "#EBF0F8",
            "showbackground": true,
            "ticks": "",
            "zerolinecolor": "#EBF0F8"
           },
           "yaxis": {
            "backgroundcolor": "white",
            "gridcolor": "#DFE8F3",
            "gridwidth": 2,
            "linecolor": "#EBF0F8",
            "showbackground": true,
            "ticks": "",
            "zerolinecolor": "#EBF0F8"
           },
           "zaxis": {
            "backgroundcolor": "white",
            "gridcolor": "#DFE8F3",
            "gridwidth": 2,
            "linecolor": "#EBF0F8",
            "showbackground": true,
            "ticks": "",
            "zerolinecolor": "#EBF0F8"
           }
          },
          "shapedefaults": {
           "line": {
            "color": "#2a3f5f"
           }
          },
          "ternary": {
           "aaxis": {
            "gridcolor": "#DFE8F3",
            "linecolor": "#A2B1C6",
            "ticks": ""
           },
           "baxis": {
            "gridcolor": "#DFE8F3",
            "linecolor": "#A2B1C6",
            "ticks": ""
           },
           "bgcolor": "white",
           "caxis": {
            "gridcolor": "#DFE8F3",
            "linecolor": "#A2B1C6",
            "ticks": ""
           }
          },
          "title": {
           "x": 0.05
          },
          "xaxis": {
           "automargin": true,
           "gridcolor": "#EBF0F8",
           "linecolor": "#EBF0F8",
           "ticks": "",
           "title": {
            "standoff": 15
           },
           "zerolinecolor": "#EBF0F8",
           "zerolinewidth": 2
          },
          "yaxis": {
           "automargin": true,
           "gridcolor": "#EBF0F8",
           "linecolor": "#EBF0F8",
           "ticks": "",
           "title": {
            "standoff": 15
           },
           "zerolinecolor": "#EBF0F8",
           "zerolinewidth": 2
          }
         }
        },
        "title": {
         "text": "Profile Visits vs. Follows"
        },
        "xaxis": {
         "anchor": "y",
         "domain": [
          0,
          1
         ],
         "title": {
          "text": "Profile Visits"
         }
        },
        "yaxis": {
         "anchor": "x",
         "domain": [
          0,
          1
         ],
         "title": {
          "text": "Follows"
         }
        }
       }
      }
     },
     "metadata": {},
     "output_type": "display_data"
    }
   ],
   "source": [
    "import plotly.express as px\n",
    "\n",
    "fig = px.scatter(data,\n",
    "                 x='Profile Visits',\n",
    "                 y='Follows',\n",
    "                 trendline='ols',\n",
    "                 title='Profile Visits vs. Follows')\n",
    "\n",
    "fig.show()\n"
   ]
  },
  {
   "cell_type": "code",
   "execution_count": 21,
   "metadata": {},
   "outputs": [
    {
     "name": "stdout",
     "output_type": "stream",
     "text": [
      "Defaulting to user installation because normal site-packages is not writeable\n",
      "Collecting wordcloud\n",
      "  Downloading wordcloud-1.9.3-cp310-cp310-win_amd64.whl (299 kB)\n",
      "     -------------------------------------- 300.0/300.0 kB 4.7 MB/s eta 0:00:00\n",
      "Requirement already satisfied: matplotlib in c:\\programdata\\anaconda3\\lib\\site-packages (3.7.0)\n",
      "Requirement already satisfied: plotly in c:\\programdata\\anaconda3\\lib\\site-packages (5.9.0)\n",
      "Requirement already satisfied: pillow in c:\\programdata\\anaconda3\\lib\\site-packages (from wordcloud) (9.4.0)\n",
      "Requirement already satisfied: numpy>=1.6.1 in c:\\users\\prk\\appdata\\roaming\\python\\python310\\site-packages (from wordcloud) (1.25.2)\n",
      "Requirement already satisfied: cycler>=0.10 in c:\\programdata\\anaconda3\\lib\\site-packages (from matplotlib) (0.11.0)\n",
      "Requirement already satisfied: pyparsing>=2.3.1 in c:\\programdata\\anaconda3\\lib\\site-packages (from matplotlib) (3.0.9)\n",
      "Requirement already satisfied: kiwisolver>=1.0.1 in c:\\programdata\\anaconda3\\lib\\site-packages (from matplotlib) (1.4.4)\n",
      "Requirement already satisfied: packaging>=20.0 in c:\\programdata\\anaconda3\\lib\\site-packages (from matplotlib) (22.0)\n",
      "Requirement already satisfied: python-dateutil>=2.7 in c:\\programdata\\anaconda3\\lib\\site-packages (from matplotlib) (2.8.2)\n",
      "Requirement already satisfied: fonttools>=4.22.0 in c:\\programdata\\anaconda3\\lib\\site-packages (from matplotlib) (4.25.0)\n",
      "Requirement already satisfied: contourpy>=1.0.1 in c:\\programdata\\anaconda3\\lib\\site-packages (from matplotlib) (1.0.5)\n",
      "Requirement already satisfied: tenacity>=6.2.0 in c:\\programdata\\anaconda3\\lib\\site-packages (from plotly) (8.0.1)\n",
      "Requirement already satisfied: six>=1.5 in c:\\programdata\\anaconda3\\lib\\site-packages (from python-dateutil>=2.7->matplotlib) (1.16.0)\n",
      "Installing collected packages: wordcloud\n",
      "Successfully installed wordcloud-1.9.3\n",
      "Note: you may need to restart the kernel to use updated packages.\n"
     ]
    },
    {
     "name": "stderr",
     "output_type": "stream",
     "text": [
      "  WARNING: The script wordcloud_cli.exe is installed in 'C:\\Users\\prk\\AppData\\Roaming\\Python\\Python310\\Scripts' which is not on PATH.\n",
      "  Consider adding this directory to PATH or, if you prefer to suppress this warning, use --no-warn-script-location.\n"
     ]
    }
   ],
   "source": [
    "pip install wordcloud matplotlib plotly"
   ]
  },
  {
   "cell_type": "code",
   "execution_count": 22,
   "metadata": {},
   "outputs": [
    {
     "data": {
      "application/vnd.plotly.v1+json": {
       "config": {
        "plotlyServerURL": "https://plot.ly"
       },
       "data": [
        {
         "hovertemplate": "x: %{x}<br>y: %{y}<br>color: [%{z[0]}, %{z[1]}, %{z[2]}]<extra></extra>",
         "name": "0",
         "source": "data:image/png;base64,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",
         "type": "image",
         "xaxis": "x",
         "yaxis": "y"
        }
       ],
       "layout": {
        "template": {
         "data": {
          "bar": [
           {
            "error_x": {
             "color": "#2a3f5f"
            },
            "error_y": {
             "color": "#2a3f5f"
            },
            "marker": {
             "line": {
              "color": "white",
              "width": 0.5
             },
             "pattern": {
              "fillmode": "overlay",
              "size": 10,
              "solidity": 0.2
             }
            },
            "type": "bar"
           }
          ],
          "barpolar": [
           {
            "marker": {
             "line": {
              "color": "white",
              "width": 0.5
             },
             "pattern": {
              "fillmode": "overlay",
              "size": 10,
              "solidity": 0.2
             }
            },
            "type": "barpolar"
           }
          ],
          "carpet": [
           {
            "aaxis": {
             "endlinecolor": "#2a3f5f",
             "gridcolor": "#C8D4E3",
             "linecolor": "#C8D4E3",
             "minorgridcolor": "#C8D4E3",
             "startlinecolor": "#2a3f5f"
            },
            "baxis": {
             "endlinecolor": "#2a3f5f",
             "gridcolor": "#C8D4E3",
             "linecolor": "#C8D4E3",
             "minorgridcolor": "#C8D4E3",
             "startlinecolor": "#2a3f5f"
            },
            "type": "carpet"
           }
          ],
          "choropleth": [
           {
            "colorbar": {
             "outlinewidth": 0,
             "ticks": ""
            },
            "type": "choropleth"
           }
          ],
          "contour": [
           {
            "colorbar": {
             "outlinewidth": 0,
             "ticks": ""
            },
            "colorscale": [
             [
              0,
              "#0d0887"
             ],
             [
              0.1111111111111111,
              "#46039f"
             ],
             [
              0.2222222222222222,
              "#7201a8"
             ],
             [
              0.3333333333333333,
              "#9c179e"
             ],
             [
              0.4444444444444444,
              "#bd3786"
             ],
             [
              0.5555555555555556,
              "#d8576b"
             ],
             [
              0.6666666666666666,
              "#ed7953"
             ],
             [
              0.7777777777777778,
              "#fb9f3a"
             ],
             [
              0.8888888888888888,
              "#fdca26"
             ],
             [
              1,
              "#f0f921"
             ]
            ],
            "type": "contour"
           }
          ],
          "contourcarpet": [
           {
            "colorbar": {
             "outlinewidth": 0,
             "ticks": ""
            },
            "type": "contourcarpet"
           }
          ],
          "heatmap": [
           {
            "colorbar": {
             "outlinewidth": 0,
             "ticks": ""
            },
            "colorscale": [
             [
              0,
              "#0d0887"
             ],
             [
              0.1111111111111111,
              "#46039f"
             ],
             [
              0.2222222222222222,
              "#7201a8"
             ],
             [
              0.3333333333333333,
              "#9c179e"
             ],
             [
              0.4444444444444444,
              "#bd3786"
             ],
             [
              0.5555555555555556,
              "#d8576b"
             ],
             [
              0.6666666666666666,
              "#ed7953"
             ],
             [
              0.7777777777777778,
              "#fb9f3a"
             ],
             [
              0.8888888888888888,
              "#fdca26"
             ],
             [
              1,
              "#f0f921"
             ]
            ],
            "type": "heatmap"
           }
          ],
          "heatmapgl": [
           {
            "colorbar": {
             "outlinewidth": 0,
             "ticks": ""
            },
            "colorscale": [
             [
              0,
              "#0d0887"
             ],
             [
              0.1111111111111111,
              "#46039f"
             ],
             [
              0.2222222222222222,
              "#7201a8"
             ],
             [
              0.3333333333333333,
              "#9c179e"
             ],
             [
              0.4444444444444444,
              "#bd3786"
             ],
             [
              0.5555555555555556,
              "#d8576b"
             ],
             [
              0.6666666666666666,
              "#ed7953"
             ],
             [
              0.7777777777777778,
              "#fb9f3a"
             ],
             [
              0.8888888888888888,
              "#fdca26"
             ],
             [
              1,
              "#f0f921"
             ]
            ],
            "type": "heatmapgl"
           }
          ],
          "histogram": [
           {
            "marker": {
             "pattern": {
              "fillmode": "overlay",
              "size": 10,
              "solidity": 0.2
             }
            },
            "type": "histogram"
           }
          ],
          "histogram2d": [
           {
            "colorbar": {
             "outlinewidth": 0,
             "ticks": ""
            },
            "colorscale": [
             [
              0,
              "#0d0887"
             ],
             [
              0.1111111111111111,
              "#46039f"
             ],
             [
              0.2222222222222222,
              "#7201a8"
             ],
             [
              0.3333333333333333,
              "#9c179e"
             ],
             [
              0.4444444444444444,
              "#bd3786"
             ],
             [
              0.5555555555555556,
              "#d8576b"
             ],
             [
              0.6666666666666666,
              "#ed7953"
             ],
             [
              0.7777777777777778,
              "#fb9f3a"
             ],
             [
              0.8888888888888888,
              "#fdca26"
             ],
             [
              1,
              "#f0f921"
             ]
            ],
            "type": "histogram2d"
           }
          ],
          "histogram2dcontour": [
           {
            "colorbar": {
             "outlinewidth": 0,
             "ticks": ""
            },
            "colorscale": [
             [
              0,
              "#0d0887"
             ],
             [
              0.1111111111111111,
              "#46039f"
             ],
             [
              0.2222222222222222,
              "#7201a8"
             ],
             [
              0.3333333333333333,
              "#9c179e"
             ],
             [
              0.4444444444444444,
              "#bd3786"
             ],
             [
              0.5555555555555556,
              "#d8576b"
             ],
             [
              0.6666666666666666,
              "#ed7953"
             ],
             [
              0.7777777777777778,
              "#fb9f3a"
             ],
             [
              0.8888888888888888,
              "#fdca26"
             ],
             [
              1,
              "#f0f921"
             ]
            ],
            "type": "histogram2dcontour"
           }
          ],
          "mesh3d": [
           {
            "colorbar": {
             "outlinewidth": 0,
             "ticks": ""
            },
            "type": "mesh3d"
           }
          ],
          "parcoords": [
           {
            "line": {
             "colorbar": {
              "outlinewidth": 0,
              "ticks": ""
             }
            },
            "type": "parcoords"
           }
          ],
          "pie": [
           {
            "automargin": true,
            "type": "pie"
           }
          ],
          "scatter": [
           {
            "fillpattern": {
             "fillmode": "overlay",
             "size": 10,
             "solidity": 0.2
            },
            "type": "scatter"
           }
          ],
          "scatter3d": [
           {
            "line": {
             "colorbar": {
              "outlinewidth": 0,
              "ticks": ""
             }
            },
            "marker": {
             "colorbar": {
              "outlinewidth": 0,
              "ticks": ""
             }
            },
            "type": "scatter3d"
           }
          ],
          "scattercarpet": [
           {
            "marker": {
             "colorbar": {
              "outlinewidth": 0,
              "ticks": ""
             }
            },
            "type": "scattercarpet"
           }
          ],
          "scattergeo": [
           {
            "marker": {
             "colorbar": {
              "outlinewidth": 0,
              "ticks": ""
             }
            },
            "type": "scattergeo"
           }
          ],
          "scattergl": [
           {
            "marker": {
             "colorbar": {
              "outlinewidth": 0,
              "ticks": ""
             }
            },
            "type": "scattergl"
           }
          ],
          "scattermapbox": [
           {
            "marker": {
             "colorbar": {
              "outlinewidth": 0,
              "ticks": ""
             }
            },
            "type": "scattermapbox"
           }
          ],
          "scatterpolar": [
           {
            "marker": {
             "colorbar": {
              "outlinewidth": 0,
              "ticks": ""
             }
            },
            "type": "scatterpolar"
           }
          ],
          "scatterpolargl": [
           {
            "marker": {
             "colorbar": {
              "outlinewidth": 0,
              "ticks": ""
             }
            },
            "type": "scatterpolargl"
           }
          ],
          "scatterternary": [
           {
            "marker": {
             "colorbar": {
              "outlinewidth": 0,
              "ticks": ""
             }
            },
            "type": "scatterternary"
           }
          ],
          "surface": [
           {
            "colorbar": {
             "outlinewidth": 0,
             "ticks": ""
            },
            "colorscale": [
             [
              0,
              "#0d0887"
             ],
             [
              0.1111111111111111,
              "#46039f"
             ],
             [
              0.2222222222222222,
              "#7201a8"
             ],
             [
              0.3333333333333333,
              "#9c179e"
             ],
             [
              0.4444444444444444,
              "#bd3786"
             ],
             [
              0.5555555555555556,
              "#d8576b"
             ],
             [
              0.6666666666666666,
              "#ed7953"
             ],
             [
              0.7777777777777778,
              "#fb9f3a"
             ],
             [
              0.8888888888888888,
              "#fdca26"
             ],
             [
              1,
              "#f0f921"
             ]
            ],
            "type": "surface"
           }
          ],
          "table": [
           {
            "cells": {
             "fill": {
              "color": "#EBF0F8"
             },
             "line": {
              "color": "white"
             }
            },
            "header": {
             "fill": {
              "color": "#C8D4E3"
             },
             "line": {
              "color": "white"
             }
            },
            "type": "table"
           }
          ]
         },
         "layout": {
          "annotationdefaults": {
           "arrowcolor": "#2a3f5f",
           "arrowhead": 0,
           "arrowwidth": 1
          },
          "autotypenumbers": "strict",
          "coloraxis": {
           "colorbar": {
            "outlinewidth": 0,
            "ticks": ""
           }
          },
          "colorscale": {
           "diverging": [
            [
             0,
             "#8e0152"
            ],
            [
             0.1,
             "#c51b7d"
            ],
            [
             0.2,
             "#de77ae"
            ],
            [
             0.3,
             "#f1b6da"
            ],
            [
             0.4,
             "#fde0ef"
            ],
            [
             0.5,
             "#f7f7f7"
            ],
            [
             0.6,
             "#e6f5d0"
            ],
            [
             0.7,
             "#b8e186"
            ],
            [
             0.8,
             "#7fbc41"
            ],
            [
             0.9,
             "#4d9221"
            ],
            [
             1,
             "#276419"
            ]
           ],
           "sequential": [
            [
             0,
             "#0d0887"
            ],
            [
             0.1111111111111111,
             "#46039f"
            ],
            [
             0.2222222222222222,
             "#7201a8"
            ],
            [
             0.3333333333333333,
             "#9c179e"
            ],
            [
             0.4444444444444444,
             "#bd3786"
            ],
            [
             0.5555555555555556,
             "#d8576b"
            ],
            [
             0.6666666666666666,
             "#ed7953"
            ],
            [
             0.7777777777777778,
             "#fb9f3a"
            ],
            [
             0.8888888888888888,
             "#fdca26"
            ],
            [
             1,
             "#f0f921"
            ]
           ],
           "sequentialminus": [
            [
             0,
             "#0d0887"
            ],
            [
             0.1111111111111111,
             "#46039f"
            ],
            [
             0.2222222222222222,
             "#7201a8"
            ],
            [
             0.3333333333333333,
             "#9c179e"
            ],
            [
             0.4444444444444444,
             "#bd3786"
            ],
            [
             0.5555555555555556,
             "#d8576b"
            ],
            [
             0.6666666666666666,
             "#ed7953"
            ],
            [
             0.7777777777777778,
             "#fb9f3a"
            ],
            [
             0.8888888888888888,
             "#fdca26"
            ],
            [
             1,
             "#f0f921"
            ]
           ]
          },
          "colorway": [
           "#636efa",
           "#EF553B",
           "#00cc96",
           "#ab63fa",
           "#FFA15A",
           "#19d3f3",
           "#FF6692",
           "#B6E880",
           "#FF97FF",
           "#FECB52"
          ],
          "font": {
           "color": "#2a3f5f"
          },
          "geo": {
           "bgcolor": "white",
           "lakecolor": "white",
           "landcolor": "white",
           "showlakes": true,
           "showland": true,
           "subunitcolor": "#C8D4E3"
          },
          "hoverlabel": {
           "align": "left"
          },
          "hovermode": "closest",
          "mapbox": {
           "style": "light"
          },
          "paper_bgcolor": "white",
          "plot_bgcolor": "white",
          "polar": {
           "angularaxis": {
            "gridcolor": "#EBF0F8",
            "linecolor": "#EBF0F8",
            "ticks": ""
           },
           "bgcolor": "white",
           "radialaxis": {
            "gridcolor": "#EBF0F8",
            "linecolor": "#EBF0F8",
            "ticks": ""
           }
          },
          "scene": {
           "xaxis": {
            "backgroundcolor": "white",
            "gridcolor": "#DFE8F3",
            "gridwidth": 2,
            "linecolor": "#EBF0F8",
            "showbackground": true,
            "ticks": "",
            "zerolinecolor": "#EBF0F8"
           },
           "yaxis": {
            "backgroundcolor": "white",
            "gridcolor": "#DFE8F3",
            "gridwidth": 2,
            "linecolor": "#EBF0F8",
            "showbackground": true,
            "ticks": "",
            "zerolinecolor": "#EBF0F8"
           },
           "zaxis": {
            "backgroundcolor": "white",
            "gridcolor": "#DFE8F3",
            "gridwidth": 2,
            "linecolor": "#EBF0F8",
            "showbackground": true,
            "ticks": "",
            "zerolinecolor": "#EBF0F8"
           }
          },
          "shapedefaults": {
           "line": {
            "color": "#2a3f5f"
           }
          },
          "ternary": {
           "aaxis": {
            "gridcolor": "#DFE8F3",
            "linecolor": "#A2B1C6",
            "ticks": ""
           },
           "baxis": {
            "gridcolor": "#DFE8F3",
            "linecolor": "#A2B1C6",
            "ticks": ""
           },
           "bgcolor": "white",
           "caxis": {
            "gridcolor": "#DFE8F3",
            "linecolor": "#A2B1C6",
            "ticks": ""
           }
          },
          "title": {
           "x": 0.05
          },
          "xaxis": {
           "automargin": true,
           "gridcolor": "#EBF0F8",
           "linecolor": "#EBF0F8",
           "ticks": "",
           "title": {
            "standoff": 15
           },
           "zerolinecolor": "#EBF0F8",
           "zerolinewidth": 2
          },
          "yaxis": {
           "automargin": true,
           "gridcolor": "#EBF0F8",
           "linecolor": "#EBF0F8",
           "ticks": "",
           "title": {
            "standoff": 15
           },
           "zerolinecolor": "#EBF0F8",
           "zerolinewidth": 2
          }
         }
        },
        "title": {
         "text": "Hashtags Word Cloud"
        },
        "xaxis": {
         "anchor": "y",
         "domain": [
          0,
          1
         ]
        },
        "yaxis": {
         "anchor": "x",
         "domain": [
          0,
          1
         ]
        }
       }
      }
     },
     "metadata": {},
     "output_type": "display_data"
    }
   ],
   "source": [
    "from wordcloud import WordCloud\n",
    "\n",
    "hashtags = ' '.join(data['Hashtags'].astype(str))\n",
    "wordcloud = WordCloud().generate(hashtags)\n",
    "\n",
    "#fig, ax = plt.subplots(figsize=(8, 8))\n",
    "#ax.imshow(wordcloud, interpolation='bilinear')\n",
    "#ax.axis('off')\n",
    "\n",
    "fig = px.imshow(wordcloud, title='Hashtags Word Cloud')\n",
    "fig.show()\n"
   ]
  },
  {
   "cell_type": "code",
   "execution_count": 23,
   "metadata": {},
   "outputs": [
    {
     "name": "stderr",
     "output_type": "stream",
     "text": [
      "C:\\Users\\prk\\AppData\\Local\\Temp\\ipykernel_4560\\3323364438.py:3: FutureWarning:\n",
      "\n",
      "The default value of numeric_only in DataFrame.corr is deprecated. In a future version, it will default to False. Select only valid columns or specify the value of numeric_only to silence this warning.\n",
      "\n"
     ]
    },
    {
     "data": {
      "application/vnd.plotly.v1+json": {
       "config": {
        "plotlyServerURL": "https://plot.ly"
       },
       "data": [
        {
         "colorscale": [
          [
           0,
           "rgb(103,0,31)"
          ],
          [
           0.1,
           "rgb(178,24,43)"
          ],
          [
           0.2,
           "rgb(214,96,77)"
          ],
          [
           0.3,
           "rgb(244,165,130)"
          ],
          [
           0.4,
           "rgb(253,219,199)"
          ],
          [
           0.5,
           "rgb(247,247,247)"
          ],
          [
           0.6,
           "rgb(209,229,240)"
          ],
          [
           0.7,
           "rgb(146,197,222)"
          ],
          [
           0.8,
           "rgb(67,147,195)"
          ],
          [
           0.9,
           "rgb(33,102,172)"
          ],
          [
           1,
           "rgb(5,48,97)"
          ]
         ],
         "type": "heatmap",
         "x": [
          "Impressions",
          "From Home",
          "From Hashtags",
          "From Explore",
          "From Other",
          "Saves",
          "Comments",
          "Shares",
          "Likes",
          "Profile Visits",
          "Follows"
         ],
         "y": [
          "Impressions",
          "From Home",
          "From Hashtags",
          "From Explore",
          "From Other",
          "Saves",
          "Comments",
          "Shares",
          "Likes",
          "Profile Visits",
          "Follows"
         ],
         "z": [
          [
           1,
           0.8446984764644079,
           0.5607600444158378,
           0.8936074202433567,
           0.5929604758091378,
           0.7792314114268593,
           -0.028523933548663824,
           0.6346751252181763,
           0.8498353377178177,
           0.7609809286546657,
           0.8893634430344086
          ],
          [
           0.8446984764644079,
           1,
           0.1775156543309878,
           0.800573110578866,
           0.5556659551465412,
           0.768817005684724,
           0.012716248342545502,
           0.6749850448685393,
           0.698329637893805,
           0.531076205366268,
           0.6726750588858736
          ],
          [
           0.5607600444158378,
           0.1775156543309878,
           1,
           0.1904532189703739,
           0.2296233181732429,
           0.30592870314657494,
           0.1614388259073108,
           0.21951145515685286,
           0.6621242000877943,
           0.6913449048454711,
           0.5554854735531087
          ],
          [
           0.8936074202433567,
           0.800573110578866,
           0.1904532189703739,
           1,
           0.49568473618614567,
           0.7478028035868068,
           -0.15856537914498336,
           0.6157309658741993,
           0.653699336224973,
           0.5318502558055156,
           0.7960189422044351
          ],
          [
           0.5929604758091378,
           0.5556659551465412,
           0.2296233181732429,
           0.49568473618614567,
           1,
           0.3319068864386735,
           -0.1087029734222875,
           0.15683375635736396,
           0.3935104122090607,
           0.6330799446255249,
           0.5467370225356449
          ],
          [
           0.7792314114268593,
           0.768817005684724,
           0.30592870314657494,
           0.7478028035868068,
           0.3319068864386735,
           1,
           -0.026912263707560984,
           0.860324185158795,
           0.8456432932068351,
           0.36062821319868793,
           0.6284608823148304
          ],
          [
           -0.028523933548663824,
           0.012716248342545502,
           0.1614388259073108,
           -0.15856537914498336,
           -0.1087029734222875,
           -0.026912263707560984,
           1,
           0.016932532855360494,
           0.1235861027264814,
           0.09671424134518669,
           -0.060630774375331827
          ],
          [
           0.6346751252181763,
           0.6749850448685393,
           0.21951145515685286,
           0.6157309658741993,
           0.15683375635736396,
           0.860324185158795,
           0.016932532855360494,
           1,
           0.707794002688105,
           0.24536082330737743,
           0.4930698051158401
          ],
          [
           0.8498353377178177,
           0.698329637893805,
           0.6621242000877943,
           0.653699336224973,
           0.3935104122090607,
           0.8456432932068351,
           0.1235861027264814,
           0.707794002688105,
           1,
           0.6261070345218044,
           0.746333165592919
          ],
          [
           0.7609809286546657,
           0.531076205366268,
           0.6913449048454711,
           0.5318502558055156,
           0.6330799446255249,
           0.36062821319868793,
           0.09671424134518669,
           0.24536082330737743,
           0.6261070345218044,
           1,
           0.8531517459145104
          ],
          [
           0.8893634430344086,
           0.6726750588858736,
           0.5554854735531087,
           0.7960189422044351,
           0.5467370225356449,
           0.6284608823148304,
           -0.060630774375331827,
           0.4930698051158401,
           0.746333165592919,
           0.8531517459145104,
           1
          ]
         ],
         "zmax": 1,
         "zmin": -1
        }
       ],
       "layout": {
        "template": {
         "data": {
          "bar": [
           {
            "error_x": {
             "color": "#2a3f5f"
            },
            "error_y": {
             "color": "#2a3f5f"
            },
            "marker": {
             "line": {
              "color": "white",
              "width": 0.5
             },
             "pattern": {
              "fillmode": "overlay",
              "size": 10,
              "solidity": 0.2
             }
            },
            "type": "bar"
           }
          ],
          "barpolar": [
           {
            "marker": {
             "line": {
              "color": "white",
              "width": 0.5
             },
             "pattern": {
              "fillmode": "overlay",
              "size": 10,
              "solidity": 0.2
             }
            },
            "type": "barpolar"
           }
          ],
          "carpet": [
           {
            "aaxis": {
             "endlinecolor": "#2a3f5f",
             "gridcolor": "#C8D4E3",
             "linecolor": "#C8D4E3",
             "minorgridcolor": "#C8D4E3",
             "startlinecolor": "#2a3f5f"
            },
            "baxis": {
             "endlinecolor": "#2a3f5f",
             "gridcolor": "#C8D4E3",
             "linecolor": "#C8D4E3",
             "minorgridcolor": "#C8D4E3",
             "startlinecolor": "#2a3f5f"
            },
            "type": "carpet"
           }
          ],
          "choropleth": [
           {
            "colorbar": {
             "outlinewidth": 0,
             "ticks": ""
            },
            "type": "choropleth"
           }
          ],
          "contour": [
           {
            "colorbar": {
             "outlinewidth": 0,
             "ticks": ""
            },
            "colorscale": [
             [
              0,
              "#0d0887"
             ],
             [
              0.1111111111111111,
              "#46039f"
             ],
             [
              0.2222222222222222,
              "#7201a8"
             ],
             [
              0.3333333333333333,
              "#9c179e"
             ],
             [
              0.4444444444444444,
              "#bd3786"
             ],
             [
              0.5555555555555556,
              "#d8576b"
             ],
             [
              0.6666666666666666,
              "#ed7953"
             ],
             [
              0.7777777777777778,
              "#fb9f3a"
             ],
             [
              0.8888888888888888,
              "#fdca26"
             ],
             [
              1,
              "#f0f921"
             ]
            ],
            "type": "contour"
           }
          ],
          "contourcarpet": [
           {
            "colorbar": {
             "outlinewidth": 0,
             "ticks": ""
            },
            "type": "contourcarpet"
           }
          ],
          "heatmap": [
           {
            "colorbar": {
             "outlinewidth": 0,
             "ticks": ""
            },
            "colorscale": [
             [
              0,
              "#0d0887"
             ],
             [
              0.1111111111111111,
              "#46039f"
             ],
             [
              0.2222222222222222,
              "#7201a8"
             ],
             [
              0.3333333333333333,
              "#9c179e"
             ],
             [
              0.4444444444444444,
              "#bd3786"
             ],
             [
              0.5555555555555556,
              "#d8576b"
             ],
             [
              0.6666666666666666,
              "#ed7953"
             ],
             [
              0.7777777777777778,
              "#fb9f3a"
             ],
             [
              0.8888888888888888,
              "#fdca26"
             ],
             [
              1,
              "#f0f921"
             ]
            ],
            "type": "heatmap"
           }
          ],
          "heatmapgl": [
           {
            "colorbar": {
             "outlinewidth": 0,
             "ticks": ""
            },
            "colorscale": [
             [
              0,
              "#0d0887"
             ],
             [
              0.1111111111111111,
              "#46039f"
             ],
             [
              0.2222222222222222,
              "#7201a8"
             ],
             [
              0.3333333333333333,
              "#9c179e"
             ],
             [
              0.4444444444444444,
              "#bd3786"
             ],
             [
              0.5555555555555556,
              "#d8576b"
             ],
             [
              0.6666666666666666,
              "#ed7953"
             ],
             [
              0.7777777777777778,
              "#fb9f3a"
             ],
             [
              0.8888888888888888,
              "#fdca26"
             ],
             [
              1,
              "#f0f921"
             ]
            ],
            "type": "heatmapgl"
           }
          ],
          "histogram": [
           {
            "marker": {
             "pattern": {
              "fillmode": "overlay",
              "size": 10,
              "solidity": 0.2
             }
            },
            "type": "histogram"
           }
          ],
          "histogram2d": [
           {
            "colorbar": {
             "outlinewidth": 0,
             "ticks": ""
            },
            "colorscale": [
             [
              0,
              "#0d0887"
             ],
             [
              0.1111111111111111,
              "#46039f"
             ],
             [
              0.2222222222222222,
              "#7201a8"
             ],
             [
              0.3333333333333333,
              "#9c179e"
             ],
             [
              0.4444444444444444,
              "#bd3786"
             ],
             [
              0.5555555555555556,
              "#d8576b"
             ],
             [
              0.6666666666666666,
              "#ed7953"
             ],
             [
              0.7777777777777778,
              "#fb9f3a"
             ],
             [
              0.8888888888888888,
              "#fdca26"
             ],
             [
              1,
              "#f0f921"
             ]
            ],
            "type": "histogram2d"
           }
          ],
          "histogram2dcontour": [
           {
            "colorbar": {
             "outlinewidth": 0,
             "ticks": ""
            },
            "colorscale": [
             [
              0,
              "#0d0887"
             ],
             [
              0.1111111111111111,
              "#46039f"
             ],
             [
              0.2222222222222222,
              "#7201a8"
             ],
             [
              0.3333333333333333,
              "#9c179e"
             ],
             [
              0.4444444444444444,
              "#bd3786"
             ],
             [
              0.5555555555555556,
              "#d8576b"
             ],
             [
              0.6666666666666666,
              "#ed7953"
             ],
             [
              0.7777777777777778,
              "#fb9f3a"
             ],
             [
              0.8888888888888888,
              "#fdca26"
             ],
             [
              1,
              "#f0f921"
             ]
            ],
            "type": "histogram2dcontour"
           }
          ],
          "mesh3d": [
           {
            "colorbar": {
             "outlinewidth": 0,
             "ticks": ""
            },
            "type": "mesh3d"
           }
          ],
          "parcoords": [
           {
            "line": {
             "colorbar": {
              "outlinewidth": 0,
              "ticks": ""
             }
            },
            "type": "parcoords"
           }
          ],
          "pie": [
           {
            "automargin": true,
            "type": "pie"
           }
          ],
          "scatter": [
           {
            "fillpattern": {
             "fillmode": "overlay",
             "size": 10,
             "solidity": 0.2
            },
            "type": "scatter"
           }
          ],
          "scatter3d": [
           {
            "line": {
             "colorbar": {
              "outlinewidth": 0,
              "ticks": ""
             }
            },
            "marker": {
             "colorbar": {
              "outlinewidth": 0,
              "ticks": ""
             }
            },
            "type": "scatter3d"
           }
          ],
          "scattercarpet": [
           {
            "marker": {
             "colorbar": {
              "outlinewidth": 0,
              "ticks": ""
             }
            },
            "type": "scattercarpet"
           }
          ],
          "scattergeo": [
           {
            "marker": {
             "colorbar": {
              "outlinewidth": 0,
              "ticks": ""
             }
            },
            "type": "scattergeo"
           }
          ],
          "scattergl": [
           {
            "marker": {
             "colorbar": {
              "outlinewidth": 0,
              "ticks": ""
             }
            },
            "type": "scattergl"
           }
          ],
          "scattermapbox": [
           {
            "marker": {
             "colorbar": {
              "outlinewidth": 0,
              "ticks": ""
             }
            },
            "type": "scattermapbox"
           }
          ],
          "scatterpolar": [
           {
            "marker": {
             "colorbar": {
              "outlinewidth": 0,
              "ticks": ""
             }
            },
            "type": "scatterpolar"
           }
          ],
          "scatterpolargl": [
           {
            "marker": {
             "colorbar": {
              "outlinewidth": 0,
              "ticks": ""
             }
            },
            "type": "scatterpolargl"
           }
          ],
          "scatterternary": [
           {
            "marker": {
             "colorbar": {
              "outlinewidth": 0,
              "ticks": ""
             }
            },
            "type": "scatterternary"
           }
          ],
          "surface": [
           {
            "colorbar": {
             "outlinewidth": 0,
             "ticks": ""
            },
            "colorscale": [
             [
              0,
              "#0d0887"
             ],
             [
              0.1111111111111111,
              "#46039f"
             ],
             [
              0.2222222222222222,
              "#7201a8"
             ],
             [
              0.3333333333333333,
              "#9c179e"
             ],
             [
              0.4444444444444444,
              "#bd3786"
             ],
             [
              0.5555555555555556,
              "#d8576b"
             ],
             [
              0.6666666666666666,
              "#ed7953"
             ],
             [
              0.7777777777777778,
              "#fb9f3a"
             ],
             [
              0.8888888888888888,
              "#fdca26"
             ],
             [
              1,
              "#f0f921"
             ]
            ],
            "type": "surface"
           }
          ],
          "table": [
           {
            "cells": {
             "fill": {
              "color": "#EBF0F8"
             },
             "line": {
              "color": "white"
             }
            },
            "header": {
             "fill": {
              "color": "#C8D4E3"
             },
             "line": {
              "color": "white"
             }
            },
            "type": "table"
           }
          ]
         },
         "layout": {
          "annotationdefaults": {
           "arrowcolor": "#2a3f5f",
           "arrowhead": 0,
           "arrowwidth": 1
          },
          "autotypenumbers": "strict",
          "coloraxis": {
           "colorbar": {
            "outlinewidth": 0,
            "ticks": ""
           }
          },
          "colorscale": {
           "diverging": [
            [
             0,
             "#8e0152"
            ],
            [
             0.1,
             "#c51b7d"
            ],
            [
             0.2,
             "#de77ae"
            ],
            [
             0.3,
             "#f1b6da"
            ],
            [
             0.4,
             "#fde0ef"
            ],
            [
             0.5,
             "#f7f7f7"
            ],
            [
             0.6,
             "#e6f5d0"
            ],
            [
             0.7,
             "#b8e186"
            ],
            [
             0.8,
             "#7fbc41"
            ],
            [
             0.9,
             "#4d9221"
            ],
            [
             1,
             "#276419"
            ]
           ],
           "sequential": [
            [
             0,
             "#0d0887"
            ],
            [
             0.1111111111111111,
             "#46039f"
            ],
            [
             0.2222222222222222,
             "#7201a8"
            ],
            [
             0.3333333333333333,
             "#9c179e"
            ],
            [
             0.4444444444444444,
             "#bd3786"
            ],
            [
             0.5555555555555556,
             "#d8576b"
            ],
            [
             0.6666666666666666,
             "#ed7953"
            ],
            [
             0.7777777777777778,
             "#fb9f3a"
            ],
            [
             0.8888888888888888,
             "#fdca26"
            ],
            [
             1,
             "#f0f921"
            ]
           ],
           "sequentialminus": [
            [
             0,
             "#0d0887"
            ],
            [
             0.1111111111111111,
             "#46039f"
            ],
            [
             0.2222222222222222,
             "#7201a8"
            ],
            [
             0.3333333333333333,
             "#9c179e"
            ],
            [
             0.4444444444444444,
             "#bd3786"
            ],
            [
             0.5555555555555556,
             "#d8576b"
            ],
            [
             0.6666666666666666,
             "#ed7953"
            ],
            [
             0.7777777777777778,
             "#fb9f3a"
            ],
            [
             0.8888888888888888,
             "#fdca26"
            ],
            [
             1,
             "#f0f921"
            ]
           ]
          },
          "colorway": [
           "#636efa",
           "#EF553B",
           "#00cc96",
           "#ab63fa",
           "#FFA15A",
           "#19d3f3",
           "#FF6692",
           "#B6E880",
           "#FF97FF",
           "#FECB52"
          ],
          "font": {
           "color": "#2a3f5f"
          },
          "geo": {
           "bgcolor": "white",
           "lakecolor": "white",
           "landcolor": "white",
           "showlakes": true,
           "showland": true,
           "subunitcolor": "#C8D4E3"
          },
          "hoverlabel": {
           "align": "left"
          },
          "hovermode": "closest",
          "mapbox": {
           "style": "light"
          },
          "paper_bgcolor": "white",
          "plot_bgcolor": "white",
          "polar": {
           "angularaxis": {
            "gridcolor": "#EBF0F8",
            "linecolor": "#EBF0F8",
            "ticks": ""
           },
           "bgcolor": "white",
           "radialaxis": {
            "gridcolor": "#EBF0F8",
            "linecolor": "#EBF0F8",
            "ticks": ""
           }
          },
          "scene": {
           "xaxis": {
            "backgroundcolor": "white",
            "gridcolor": "#DFE8F3",
            "gridwidth": 2,
            "linecolor": "#EBF0F8",
            "showbackground": true,
            "ticks": "",
            "zerolinecolor": "#EBF0F8"
           },
           "yaxis": {
            "backgroundcolor": "white",
            "gridcolor": "#DFE8F3",
            "gridwidth": 2,
            "linecolor": "#EBF0F8",
            "showbackground": true,
            "ticks": "",
            "zerolinecolor": "#EBF0F8"
           },
           "zaxis": {
            "backgroundcolor": "white",
            "gridcolor": "#DFE8F3",
            "gridwidth": 2,
            "linecolor": "#EBF0F8",
            "showbackground": true,
            "ticks": "",
            "zerolinecolor": "#EBF0F8"
           }
          },
          "shapedefaults": {
           "line": {
            "color": "#2a3f5f"
           }
          },
          "ternary": {
           "aaxis": {
            "gridcolor": "#DFE8F3",
            "linecolor": "#A2B1C6",
            "ticks": ""
           },
           "baxis": {
            "gridcolor": "#DFE8F3",
            "linecolor": "#A2B1C6",
            "ticks": ""
           },
           "bgcolor": "white",
           "caxis": {
            "gridcolor": "#DFE8F3",
            "linecolor": "#A2B1C6",
            "ticks": ""
           }
          },
          "title": {
           "x": 0.05
          },
          "xaxis": {
           "automargin": true,
           "gridcolor": "#EBF0F8",
           "linecolor": "#EBF0F8",
           "ticks": "",
           "title": {
            "standoff": 15
           },
           "zerolinecolor": "#EBF0F8",
           "zerolinewidth": 2
          },
          "yaxis": {
           "automargin": true,
           "gridcolor": "#EBF0F8",
           "linecolor": "#EBF0F8",
           "ticks": "",
           "title": {
            "standoff": 15
           },
           "zerolinecolor": "#EBF0F8",
           "zerolinewidth": 2
          }
         }
        },
        "title": {
         "text": "Correlation Matrix"
        },
        "xaxis": {
         "title": {
          "text": "Features"
         }
        },
        "yaxis": {
         "title": {
          "text": "Features"
         }
        }
       }
      }
     },
     "metadata": {},
     "output_type": "display_data"
    }
   ],
   "source": [
    "import plotly.graph_objects as go\n",
    "\n",
    "corr_matrix = data.corr()\n",
    "\n",
    "fig = go.Figure(data=go.Heatmap(\n",
    "    z=corr_matrix.values,\n",
    "    x=corr_matrix.columns,\n",
    "    y=corr_matrix.index,\n",
    "    colorscale='RdBu',\n",
    "    zmin=-1,\n",
    "    zmax=1\n",
    "))\n",
    "\n",
    "fig.update_layout(title='Correlation Matrix', xaxis_title='Features', yaxis_title='Features')\n",
    "fig.show()\n"
   ]
  },
  {
   "cell_type": "code",
   "execution_count": 24,
   "metadata": {},
   "outputs": [
    {
     "name": "stdout",
     "output_type": "stream",
     "text": [
      "Defaulting to user installation because normal site-packages is not writeable\n",
      "Requirement already satisfied: pandas in c:\\programdata\\anaconda3\\lib\\site-packages (1.5.3)\n",
      "Requirement already satisfied: plotly in c:\\programdata\\anaconda3\\lib\\site-packages (5.9.0)\n",
      "Requirement already satisfied: python-dateutil>=2.8.1 in c:\\programdata\\anaconda3\\lib\\site-packages (from pandas) (2.8.2)\n",
      "Requirement already satisfied: numpy>=1.21.0 in c:\\users\\prk\\appdata\\roaming\\python\\python310\\site-packages (from pandas) (1.25.2)\n",
      "Requirement already satisfied: pytz>=2020.1 in c:\\programdata\\anaconda3\\lib\\site-packages (from pandas) (2022.7)\n",
      "Requirement already satisfied: tenacity>=6.2.0 in c:\\programdata\\anaconda3\\lib\\site-packages (from plotly) (8.0.1)\n",
      "Requirement already satisfied: six>=1.5 in c:\\programdata\\anaconda3\\lib\\site-packages (from python-dateutil>=2.8.1->pandas) (1.16.0)\n",
      "Note: you may need to restart the kernel to use updated packages.\n"
     ]
    }
   ],
   "source": [
    "pip install pandas plotly"
   ]
  },
  {
   "cell_type": "code",
   "execution_count": 25,
   "metadata": {},
   "outputs": [
    {
     "data": {
      "application/vnd.plotly.v1+json": {
       "config": {
        "plotlyServerURL": "https://plot.ly"
       },
       "data": [
        {
         "alignmentgroup": "True",
         "hovertemplate": "Hashtag=%{x}<br>Count=%{y}<extra></extra>",
         "legendgroup": "",
         "marker": {
          "color": "#636efa",
          "pattern": {
           "shape": ""
          }
         },
         "name": "",
         "offsetgroup": "",
         "orientation": "v",
         "showlegend": false,
         "textposition": "auto",
         "type": "bar",
         "x": [
          "#thecleverprogrammer",
          "#amankharwal",
          "#python",
          "#machinelearning",
          "#pythonprogramming",
          "#datascience",
          "#ai",
          "#pythonprojects",
          "#artificialintelligence",
          "#data",
          "#dataanalytics",
          "#datascientist",
          "#pythoncode",
          "#dataanalysis",
          "#deeplearning",
          "#datascienceprojects",
          "#machinelearningprojects",
          "#programming",
          "#technology",
          "#coding",
          "#tech",
          "#computerscience",
          "#bigdata",
          "#pythonlearning",
          "#pythoncoding",
          "#pythondeveloper",
          "#datavisualization",
          "#pythonprogrammer",
          "#analytics",
          "#business",
          "#statistics",
          "#machinelearningalgorithms",
          "#dataanalyst",
          "#webdevelopment",
          "#algorithm",
          "#software",
          "#naturallanguageprocessing",
          "#algorithms",
          "#nlp",
          "#neuralnetwork",
          "#ml",
          "#database",
          "#javascript",
          "#code",
          "#coder",
          "#programmer",
          "#java",
          "#softwaredeveloper",
          "#codinglife",
          "#sentimentanalysis",
          "#sentiment",
          "#webdeveloper",
          "#css",
          "#html",
          "#machinelearningmodels",
          "#developer",
          "#timeseriesanalysis",
          "#iot",
          "#analysis",
          "#timeseriesmalaysia",
          "#businessintelligence",
          "#datasciencejobs",
          "#datasciencetraining",
          "#datascienceeducation",
          "#datasciencecourse",
          "#datamining",
          "#time",
          "#timeseries",
          "#php",
          "#programminglife",
          "#hacking",
          "#programmingmemes",
          "#programmers",
          "#neuralnetworks",
          "#webdesign",
          "#dataviz",
          "#linux",
          "#casestudy",
          "#businessmodel",
          "#zomato",
          "#money",
          "#interview",
          "#finance",
          "#powerbi",
          "#tensorflow",
          "#job",
          "#artificialintelligenceai",
          "#investing",
          "#trading",
          "#stockmarket",
          "#healthcare",
          "#health",
          "#covid",
          "#investment",
          "#cryptocurrency",
          "#bitcoin",
          "#dataanalysisprojects",
          "#businessanalytics",
          "#python3",
          "#roadmap",
          "#codinginterview",
          "#pythonprogramminglanguage",
          "#otp",
          "#innovation",
          "#recommendationsystem",
          "#recommendations",
          "#recommended",
          "#otpverification",
          "#projects",
          "#casestudies",
          "#amazonfinds",
          "#security",
          "#cybersecurity",
          "#network",
          "#internet",
          "#cloud",
          "#recommendation",
          "#careergoals",
          "#jobsearch",
          "#work",
          "#tableau",
          "#stocks",
          "#forex",
          "#candlestick",
          "#candlestickcharts",
          "#career",
          "#jobs",
          "#stressdetection",
          "#education",
          "#success",
          "#motivation",
          "#clustering",
          "#careerdevelopment",
          "#careeradvice",
          "#digitalmarketing",
          "#media",
          "#socialmedia",
          "#IT",
          "#marketing",
          "#students",
          "#resume",
          "#goals",
          "#careers",
          "#stress",
          "#sql",
          "#pythonbooks",
          "#mysql",
          "#softskills",
          "#instagramreach",
          "#instagram",
          "#ukraine",
          "#pythonprogram",
          "#whatsapp",
          "@codergallery",
          "#google",
          "#news",
          "#flipkart",
          "#bookstagram",
          "#alexnet",
          "#bigdataanalytics",
          "#qrcodes",
          "#datascienceinterview",
          "#facebook",
          "#boxplots"
         ],
         "xaxis": "x",
         "y": [
          117,
          117,
          109,
          97,
          95,
          94,
          91,
          90,
          89,
          88,
          87,
          83,
          78,
          77,
          75,
          43,
          43,
          26,
          25,
          24,
          23,
          21,
          20,
          19,
          19,
          19,
          19,
          19,
          16,
          16,
          14,
          13,
          12,
          10,
          9,
          9,
          9,
          9,
          9,
          8,
          8,
          7,
          7,
          7,
          7,
          7,
          7,
          7,
          7,
          7,
          7,
          7,
          7,
          7,
          7,
          7,
          6,
          6,
          6,
          6,
          6,
          6,
          6,
          6,
          6,
          6,
          6,
          6,
          5,
          5,
          5,
          5,
          5,
          5,
          5,
          5,
          5,
          4,
          4,
          4,
          4,
          4,
          4,
          4,
          4,
          4,
          4,
          4,
          3,
          3,
          3,
          3,
          3,
          3,
          3,
          3,
          3,
          3,
          2,
          2,
          2,
          2,
          2,
          2,
          2,
          2,
          2,
          2,
          2,
          2,
          2,
          2,
          2,
          2,
          2,
          2,
          2,
          2,
          2,
          2,
          2,
          2,
          2,
          2,
          2,
          2,
          2,
          2,
          2,
          2,
          2,
          2,
          2,
          2,
          2,
          2,
          2,
          2,
          2,
          2,
          2,
          2,
          2,
          2,
          1,
          1,
          1,
          1,
          1,
          1,
          1,
          1,
          1,
          1,
          1,
          1,
          1,
          1,
          1,
          1,
          1,
          1,
          1,
          1
         ],
         "yaxis": "y"
        }
       ],
       "layout": {
        "barmode": "relative",
        "legend": {
         "tracegroupgap": 0
        },
        "template": {
         "data": {
          "bar": [
           {
            "error_x": {
             "color": "#2a3f5f"
            },
            "error_y": {
             "color": "#2a3f5f"
            },
            "marker": {
             "line": {
              "color": "white",
              "width": 0.5
             },
             "pattern": {
              "fillmode": "overlay",
              "size": 10,
              "solidity": 0.2
             }
            },
            "type": "bar"
           }
          ],
          "barpolar": [
           {
            "marker": {
             "line": {
              "color": "white",
              "width": 0.5
             },
             "pattern": {
              "fillmode": "overlay",
              "size": 10,
              "solidity": 0.2
             }
            },
            "type": "barpolar"
           }
          ],
          "carpet": [
           {
            "aaxis": {
             "endlinecolor": "#2a3f5f",
             "gridcolor": "#C8D4E3",
             "linecolor": "#C8D4E3",
             "minorgridcolor": "#C8D4E3",
             "startlinecolor": "#2a3f5f"
            },
            "baxis": {
             "endlinecolor": "#2a3f5f",
             "gridcolor": "#C8D4E3",
             "linecolor": "#C8D4E3",
             "minorgridcolor": "#C8D4E3",
             "startlinecolor": "#2a3f5f"
            },
            "type": "carpet"
           }
          ],
          "choropleth": [
           {
            "colorbar": {
             "outlinewidth": 0,
             "ticks": ""
            },
            "type": "choropleth"
           }
          ],
          "contour": [
           {
            "colorbar": {
             "outlinewidth": 0,
             "ticks": ""
            },
            "colorscale": [
             [
              0,
              "#0d0887"
             ],
             [
              0.1111111111111111,
              "#46039f"
             ],
             [
              0.2222222222222222,
              "#7201a8"
             ],
             [
              0.3333333333333333,
              "#9c179e"
             ],
             [
              0.4444444444444444,
              "#bd3786"
             ],
             [
              0.5555555555555556,
              "#d8576b"
             ],
             [
              0.6666666666666666,
              "#ed7953"
             ],
             [
              0.7777777777777778,
              "#fb9f3a"
             ],
             [
              0.8888888888888888,
              "#fdca26"
             ],
             [
              1,
              "#f0f921"
             ]
            ],
            "type": "contour"
           }
          ],
          "contourcarpet": [
           {
            "colorbar": {
             "outlinewidth": 0,
             "ticks": ""
            },
            "type": "contourcarpet"
           }
          ],
          "heatmap": [
           {
            "colorbar": {
             "outlinewidth": 0,
             "ticks": ""
            },
            "colorscale": [
             [
              0,
              "#0d0887"
             ],
             [
              0.1111111111111111,
              "#46039f"
             ],
             [
              0.2222222222222222,
              "#7201a8"
             ],
             [
              0.3333333333333333,
              "#9c179e"
             ],
             [
              0.4444444444444444,
              "#bd3786"
             ],
             [
              0.5555555555555556,
              "#d8576b"
             ],
             [
              0.6666666666666666,
              "#ed7953"
             ],
             [
              0.7777777777777778,
              "#fb9f3a"
             ],
             [
              0.8888888888888888,
              "#fdca26"
             ],
             [
              1,
              "#f0f921"
             ]
            ],
            "type": "heatmap"
           }
          ],
          "heatmapgl": [
           {
            "colorbar": {
             "outlinewidth": 0,
             "ticks": ""
            },
            "colorscale": [
             [
              0,
              "#0d0887"
             ],
             [
              0.1111111111111111,
              "#46039f"
             ],
             [
              0.2222222222222222,
              "#7201a8"
             ],
             [
              0.3333333333333333,
              "#9c179e"
             ],
             [
              0.4444444444444444,
              "#bd3786"
             ],
             [
              0.5555555555555556,
              "#d8576b"
             ],
             [
              0.6666666666666666,
              "#ed7953"
             ],
             [
              0.7777777777777778,
              "#fb9f3a"
             ],
             [
              0.8888888888888888,
              "#fdca26"
             ],
             [
              1,
              "#f0f921"
             ]
            ],
            "type": "heatmapgl"
           }
          ],
          "histogram": [
           {
            "marker": {
             "pattern": {
              "fillmode": "overlay",
              "size": 10,
              "solidity": 0.2
             }
            },
            "type": "histogram"
           }
          ],
          "histogram2d": [
           {
            "colorbar": {
             "outlinewidth": 0,
             "ticks": ""
            },
            "colorscale": [
             [
              0,
              "#0d0887"
             ],
             [
              0.1111111111111111,
              "#46039f"
             ],
             [
              0.2222222222222222,
              "#7201a8"
             ],
             [
              0.3333333333333333,
              "#9c179e"
             ],
             [
              0.4444444444444444,
              "#bd3786"
             ],
             [
              0.5555555555555556,
              "#d8576b"
             ],
             [
              0.6666666666666666,
              "#ed7953"
             ],
             [
              0.7777777777777778,
              "#fb9f3a"
             ],
             [
              0.8888888888888888,
              "#fdca26"
             ],
             [
              1,
              "#f0f921"
             ]
            ],
            "type": "histogram2d"
           }
          ],
          "histogram2dcontour": [
           {
            "colorbar": {
             "outlinewidth": 0,
             "ticks": ""
            },
            "colorscale": [
             [
              0,
              "#0d0887"
             ],
             [
              0.1111111111111111,
              "#46039f"
             ],
             [
              0.2222222222222222,
              "#7201a8"
             ],
             [
              0.3333333333333333,
              "#9c179e"
             ],
             [
              0.4444444444444444,
              "#bd3786"
             ],
             [
              0.5555555555555556,
              "#d8576b"
             ],
             [
              0.6666666666666666,
              "#ed7953"
             ],
             [
              0.7777777777777778,
              "#fb9f3a"
             ],
             [
              0.8888888888888888,
              "#fdca26"
             ],
             [
              1,
              "#f0f921"
             ]
            ],
            "type": "histogram2dcontour"
           }
          ],
          "mesh3d": [
           {
            "colorbar": {
             "outlinewidth": 0,
             "ticks": ""
            },
            "type": "mesh3d"
           }
          ],
          "parcoords": [
           {
            "line": {
             "colorbar": {
              "outlinewidth": 0,
              "ticks": ""
             }
            },
            "type": "parcoords"
           }
          ],
          "pie": [
           {
            "automargin": true,
            "type": "pie"
           }
          ],
          "scatter": [
           {
            "fillpattern": {
             "fillmode": "overlay",
             "size": 10,
             "solidity": 0.2
            },
            "type": "scatter"
           }
          ],
          "scatter3d": [
           {
            "line": {
             "colorbar": {
              "outlinewidth": 0,
              "ticks": ""
             }
            },
            "marker": {
             "colorbar": {
              "outlinewidth": 0,
              "ticks": ""
             }
            },
            "type": "scatter3d"
           }
          ],
          "scattercarpet": [
           {
            "marker": {
             "colorbar": {
              "outlinewidth": 0,
              "ticks": ""
             }
            },
            "type": "scattercarpet"
           }
          ],
          "scattergeo": [
           {
            "marker": {
             "colorbar": {
              "outlinewidth": 0,
              "ticks": ""
             }
            },
            "type": "scattergeo"
           }
          ],
          "scattergl": [
           {
            "marker": {
             "colorbar": {
              "outlinewidth": 0,
              "ticks": ""
             }
            },
            "type": "scattergl"
           }
          ],
          "scattermapbox": [
           {
            "marker": {
             "colorbar": {
              "outlinewidth": 0,
              "ticks": ""
             }
            },
            "type": "scattermapbox"
           }
          ],
          "scatterpolar": [
           {
            "marker": {
             "colorbar": {
              "outlinewidth": 0,
              "ticks": ""
             }
            },
            "type": "scatterpolar"
           }
          ],
          "scatterpolargl": [
           {
            "marker": {
             "colorbar": {
              "outlinewidth": 0,
              "ticks": ""
             }
            },
            "type": "scatterpolargl"
           }
          ],
          "scatterternary": [
           {
            "marker": {
             "colorbar": {
              "outlinewidth": 0,
              "ticks": ""
             }
            },
            "type": "scatterternary"
           }
          ],
          "surface": [
           {
            "colorbar": {
             "outlinewidth": 0,
             "ticks": ""
            },
            "colorscale": [
             [
              0,
              "#0d0887"
             ],
             [
              0.1111111111111111,
              "#46039f"
             ],
             [
              0.2222222222222222,
              "#7201a8"
             ],
             [
              0.3333333333333333,
              "#9c179e"
             ],
             [
              0.4444444444444444,
              "#bd3786"
             ],
             [
              0.5555555555555556,
              "#d8576b"
             ],
             [
              0.6666666666666666,
              "#ed7953"
             ],
             [
              0.7777777777777778,
              "#fb9f3a"
             ],
             [
              0.8888888888888888,
              "#fdca26"
             ],
             [
              1,
              "#f0f921"
             ]
            ],
            "type": "surface"
           }
          ],
          "table": [
           {
            "cells": {
             "fill": {
              "color": "#EBF0F8"
             },
             "line": {
              "color": "white"
             }
            },
            "header": {
             "fill": {
              "color": "#C8D4E3"
             },
             "line": {
              "color": "white"
             }
            },
            "type": "table"
           }
          ]
         },
         "layout": {
          "annotationdefaults": {
           "arrowcolor": "#2a3f5f",
           "arrowhead": 0,
           "arrowwidth": 1
          },
          "autotypenumbers": "strict",
          "coloraxis": {
           "colorbar": {
            "outlinewidth": 0,
            "ticks": ""
           }
          },
          "colorscale": {
           "diverging": [
            [
             0,
             "#8e0152"
            ],
            [
             0.1,
             "#c51b7d"
            ],
            [
             0.2,
             "#de77ae"
            ],
            [
             0.3,
             "#f1b6da"
            ],
            [
             0.4,
             "#fde0ef"
            ],
            [
             0.5,
             "#f7f7f7"
            ],
            [
             0.6,
             "#e6f5d0"
            ],
            [
             0.7,
             "#b8e186"
            ],
            [
             0.8,
             "#7fbc41"
            ],
            [
             0.9,
             "#4d9221"
            ],
            [
             1,
             "#276419"
            ]
           ],
           "sequential": [
            [
             0,
             "#0d0887"
            ],
            [
             0.1111111111111111,
             "#46039f"
            ],
            [
             0.2222222222222222,
             "#7201a8"
            ],
            [
             0.3333333333333333,
             "#9c179e"
            ],
            [
             0.4444444444444444,
             "#bd3786"
            ],
            [
             0.5555555555555556,
             "#d8576b"
            ],
            [
             0.6666666666666666,
             "#ed7953"
            ],
            [
             0.7777777777777778,
             "#fb9f3a"
            ],
            [
             0.8888888888888888,
             "#fdca26"
            ],
            [
             1,
             "#f0f921"
            ]
           ],
           "sequentialminus": [
            [
             0,
             "#0d0887"
            ],
            [
             0.1111111111111111,
             "#46039f"
            ],
            [
             0.2222222222222222,
             "#7201a8"
            ],
            [
             0.3333333333333333,
             "#9c179e"
            ],
            [
             0.4444444444444444,
             "#bd3786"
            ],
            [
             0.5555555555555556,
             "#d8576b"
            ],
            [
             0.6666666666666666,
             "#ed7953"
            ],
            [
             0.7777777777777778,
             "#fb9f3a"
            ],
            [
             0.8888888888888888,
             "#fdca26"
            ],
            [
             1,
             "#f0f921"
            ]
           ]
          },
          "colorway": [
           "#636efa",
           "#EF553B",
           "#00cc96",
           "#ab63fa",
           "#FFA15A",
           "#19d3f3",
           "#FF6692",
           "#B6E880",
           "#FF97FF",
           "#FECB52"
          ],
          "font": {
           "color": "#2a3f5f"
          },
          "geo": {
           "bgcolor": "white",
           "lakecolor": "white",
           "landcolor": "white",
           "showlakes": true,
           "showland": true,
           "subunitcolor": "#C8D4E3"
          },
          "hoverlabel": {
           "align": "left"
          },
          "hovermode": "closest",
          "mapbox": {
           "style": "light"
          },
          "paper_bgcolor": "white",
          "plot_bgcolor": "white",
          "polar": {
           "angularaxis": {
            "gridcolor": "#EBF0F8",
            "linecolor": "#EBF0F8",
            "ticks": ""
           },
           "bgcolor": "white",
           "radialaxis": {
            "gridcolor": "#EBF0F8",
            "linecolor": "#EBF0F8",
            "ticks": ""
           }
          },
          "scene": {
           "xaxis": {
            "backgroundcolor": "white",
            "gridcolor": "#DFE8F3",
            "gridwidth": 2,
            "linecolor": "#EBF0F8",
            "showbackground": true,
            "ticks": "",
            "zerolinecolor": "#EBF0F8"
           },
           "yaxis": {
            "backgroundcolor": "white",
            "gridcolor": "#DFE8F3",
            "gridwidth": 2,
            "linecolor": "#EBF0F8",
            "showbackground": true,
            "ticks": "",
            "zerolinecolor": "#EBF0F8"
           },
           "zaxis": {
            "backgroundcolor": "white",
            "gridcolor": "#DFE8F3",
            "gridwidth": 2,
            "linecolor": "#EBF0F8",
            "showbackground": true,
            "ticks": "",
            "zerolinecolor": "#EBF0F8"
           }
          },
          "shapedefaults": {
           "line": {
            "color": "#2a3f5f"
           }
          },
          "ternary": {
           "aaxis": {
            "gridcolor": "#DFE8F3",
            "linecolor": "#A2B1C6",
            "ticks": ""
           },
           "baxis": {
            "gridcolor": "#DFE8F3",
            "linecolor": "#A2B1C6",
            "ticks": ""
           },
           "bgcolor": "white",
           "caxis": {
            "gridcolor": "#DFE8F3",
            "linecolor": "#A2B1C6",
            "ticks": ""
           }
          },
          "title": {
           "x": 0.05
          },
          "xaxis": {
           "automargin": true,
           "gridcolor": "#EBF0F8",
           "linecolor": "#EBF0F8",
           "ticks": "",
           "title": {
            "standoff": 15
           },
           "zerolinecolor": "#EBF0F8",
           "zerolinewidth": 2
          },
          "yaxis": {
           "automargin": true,
           "gridcolor": "#EBF0F8",
           "linecolor": "#EBF0F8",
           "ticks": "",
           "title": {
            "standoff": 15
           },
           "zerolinecolor": "#EBF0F8",
           "zerolinewidth": 2
          }
         }
        },
        "title": {
         "text": "Distribution of Hashtags"
        },
        "xaxis": {
         "anchor": "y",
         "domain": [
          0,
          1
         ],
         "title": {
          "text": "Hashtag"
         }
        },
        "yaxis": {
         "anchor": "x",
         "domain": [
          0,
          1
         ],
         "title": {
          "text": "Count"
         }
        }
       }
      }
     },
     "metadata": {},
     "output_type": "display_data"
    }
   ],
   "source": [
    "import pandas as pd\n",
    "import plotly.express as px\n",
    "\n",
    "# Create a list to store all hashtags\n",
    "all_hashtags = []\n",
    "\n",
    "# Iterate through each row in the 'Hashtags' column\n",
    "for row in data['Hashtags']:\n",
    "    hashtags = str(row).split()\n",
    "    hashtags = [tag.strip() for tag in hashtags]\n",
    "    all_hashtags.extend(hashtags)\n",
    "\n",
    "# Create a pandas DataFrame to store the hashtag distribution\n",
    "hashtag_distribution = pd.Series(all_hashtags).value_counts().reset_index()\n",
    "hashtag_distribution.columns = ['Hashtag', 'Count']\n",
    "\n",
    "# Plot the distribution of hashtags using Plotly Express\n",
    "fig = px.bar(hashtag_distribution, x='Hashtag', y='Count', title='Distribution of Hashtags')\n",
    "fig.show()\n"
   ]
  },
  {
   "cell_type": "code",
   "execution_count": 26,
   "metadata": {},
   "outputs": [
    {
     "data": {
      "application/vnd.plotly.v1+json": {
       "config": {
        "plotlyServerURL": "https://plot.ly"
       },
       "data": [
        {
         "alignmentgroup": "True",
         "hovertemplate": "Hashtag=%{x}<br>Likes=%{y}<extra></extra>",
         "legendgroup": "",
         "marker": {
          "color": "#636efa",
          "pattern": {
           "shape": ""
          }
         },
         "name": "",
         "offsetgroup": "",
         "orientation": "v",
         "showlegend": false,
         "textposition": "auto",
         "type": "bar",
         "x": [
          "#finance",
          "#money",
          "#business",
          "#investing",
          "#investment",
          "#trading",
          "#stockmarket",
          "#data",
          "#datascience",
          "#dataanalysis",
          "#dataanalytics",
          "#datascientist",
          "#machinelearning",
          "#python",
          "#pythonprogramming",
          "#pythonprojects",
          "#pythoncode",
          "#artificialintelligence",
          "#ai",
          "#dataanalyst",
          "#amankharwal",
          "#thecleverprogrammer",
          "#healthcare",
          "#health",
          "#covid",
          "#deeplearning",
          "#machinelearningprojects",
          "#datascienceprojects",
          "#machinelearningmodels",
          "#pythonlearning",
          "#pythondeveloper",
          "#pythoncoding",
          "#pythonprogrammer",
          "#datavisualization",
          "#bigdata",
          "#dataviz",
          "#analytics",
          "#technology",
          "#programming",
          "#statistics",
          "#coding",
          "#businessintelligence",
          "#datamining",
          "#tech",
          "#computerscience",
          "#tableau",
          "#database",
          "#algorithm",
          "#algorithms",
          "#machinelearningalgorithms",
          "#ml",
          "#softskills",
          "#stocks",
          "#forex",
          "#candlestick",
          "#candlestickcharts",
          "#pythonbooks",
          "#bookstagram",
          "#powerbi",
          "#dataanalysisprojects",
          "#businessanalytics",
          "#neuralnetwork",
          "#neuralnetworks",
          "#tensorflow",
          "#artificialintelligenceai",
          "#alexnet",
          "#sentimentanalysis",
          "#sentiment",
          "#nlp",
          "#naturallanguageprocessing",
          "#timeseries",
          "#time",
          "#timeseriesanalysis",
          "#iot",
          "#analysis",
          "#timeseriesmalaysia",
          "#career",
          "#job",
          "#jobs",
          "#jobsearch",
          "#education",
          "#success",
          "#careergoals",
          "#motivation",
          "#work",
          "#careerdevelopment",
          "#careers",
          "#goals",
          "#resume",
          "#students",
          "#careeradvice",
          "#marketing",
          "#digitalmarketing",
          "#media",
          "#socialmedia",
          "#IT",
          "#webdevelopment",
          "#stress",
          "#stressdetection",
          "#zomato",
          "#casestudy",
          "#businessmodel",
          "#boxplots",
          "#programmer",
          "#developer",
          "#javascript",
          "#code",
          "#coder",
          "#java",
          "#html",
          "#css",
          "#webdeveloper",
          "#software",
          "#codinglife",
          "#softwaredeveloper",
          "#linux",
          "#programmingmemes",
          "#webdesign",
          "#programmers",
          "#php",
          "#programminglife",
          "#hacking",
          "#bitcoin",
          "#cryptocurrency",
          "#projects",
          "#casestudies",
          "#amazonfinds",
          "#security",
          "#cybersecurity",
          "#network",
          "#internet",
          "#cloud",
          "#innovation",
          "#google",
          "#facebook",
          "#interview",
          "#datascienceinterview",
          "#otp",
          "#otpverification",
          "#qrcodes",
          "#bigdataanalytics",
          "#recommended",
          "#recommendations",
          "#recommendationsystem",
          "#recommendation",
          "#codinginterview",
          "#flipkart",
          "#news",
          "#pythonprogram",
          "@codergallery",
          "#whatsapp",
          "#roadmap",
          "#ukraine",
          "#instagram",
          "#instagramreach",
          "#datasciencejobs",
          "#datasciencetraining",
          "#datascienceeducation",
          "#datasciencecourse",
          "#sql",
          "#mysql",
          "#python3",
          "#pythonprogramminglanguage",
          "#clustering"
         ],
         "xaxis": "x",
         "y": [
          529,
          529,
          2012,
          529,
          380,
          380,
          380,
          15077,
          16311,
          13801,
          15283,
          14703,
          16509,
          18238,
          16251,
          16818,
          14239,
          15515,
          15733,
          1845,
          20462,
          20462,
          729,
          729,
          729,
          13204,
          8458,
          8458,
          761,
          3659,
          3659,
          3659,
          3659,
          2382,
          2671,
          567,
          2001,
          3187,
          3355,
          1766,
          3129,
          728,
          728,
          2961,
          2818,
          265,
          887,
          1615,
          1615,
          2065,
          1058,
          144,
          218,
          218,
          218,
          218,
          124,
          124,
          529,
          387,
          387,
          1120,
          600,
          450,
          450,
          81,
          1057,
          1057,
          1238,
          1238,
          812,
          812,
          812,
          812,
          812,
          812,
          410,
          680,
          410,
          410,
          410,
          410,
          410,
          410,
          410,
          410,
          410,
          410,
          410,
          410,
          410,
          410,
          410,
          410,
          410,
          410,
          1456,
          302,
          302,
          328,
          328,
          328,
          76,
          878,
          878,
          878,
          878,
          878,
          878,
          878,
          878,
          878,
          1113,
          878,
          878,
          608,
          608,
          608,
          608,
          608,
          608,
          608,
          390,
          390,
          302,
          302,
          184,
          235,
          235,
          235,
          235,
          235,
          235,
          150,
          85,
          600,
          180,
          272,
          272,
          167,
          142,
          373,
          373,
          373,
          373,
          270,
          94,
          96,
          118,
          118,
          178,
          525,
          203,
          171,
          171,
          1814,
          1814,
          1814,
          1814,
          308,
          308,
          296,
          296,
          240
         ],
         "yaxis": "y"
        }
       ],
       "layout": {
        "barmode": "relative",
        "legend": {
         "tracegroupgap": 0
        },
        "template": {
         "data": {
          "bar": [
           {
            "error_x": {
             "color": "#2a3f5f"
            },
            "error_y": {
             "color": "#2a3f5f"
            },
            "marker": {
             "line": {
              "color": "white",
              "width": 0.5
             },
             "pattern": {
              "fillmode": "overlay",
              "size": 10,
              "solidity": 0.2
             }
            },
            "type": "bar"
           }
          ],
          "barpolar": [
           {
            "marker": {
             "line": {
              "color": "white",
              "width": 0.5
             },
             "pattern": {
              "fillmode": "overlay",
              "size": 10,
              "solidity": 0.2
             }
            },
            "type": "barpolar"
           }
          ],
          "carpet": [
           {
            "aaxis": {
             "endlinecolor": "#2a3f5f",
             "gridcolor": "#C8D4E3",
             "linecolor": "#C8D4E3",
             "minorgridcolor": "#C8D4E3",
             "startlinecolor": "#2a3f5f"
            },
            "baxis": {
             "endlinecolor": "#2a3f5f",
             "gridcolor": "#C8D4E3",
             "linecolor": "#C8D4E3",
             "minorgridcolor": "#C8D4E3",
             "startlinecolor": "#2a3f5f"
            },
            "type": "carpet"
           }
          ],
          "choropleth": [
           {
            "colorbar": {
             "outlinewidth": 0,
             "ticks": ""
            },
            "type": "choropleth"
           }
          ],
          "contour": [
           {
            "colorbar": {
             "outlinewidth": 0,
             "ticks": ""
            },
            "colorscale": [
             [
              0,
              "#0d0887"
             ],
             [
              0.1111111111111111,
              "#46039f"
             ],
             [
              0.2222222222222222,
              "#7201a8"
             ],
             [
              0.3333333333333333,
              "#9c179e"
             ],
             [
              0.4444444444444444,
              "#bd3786"
             ],
             [
              0.5555555555555556,
              "#d8576b"
             ],
             [
              0.6666666666666666,
              "#ed7953"
             ],
             [
              0.7777777777777778,
              "#fb9f3a"
             ],
             [
              0.8888888888888888,
              "#fdca26"
             ],
             [
              1,
              "#f0f921"
             ]
            ],
            "type": "contour"
           }
          ],
          "contourcarpet": [
           {
            "colorbar": {
             "outlinewidth": 0,
             "ticks": ""
            },
            "type": "contourcarpet"
           }
          ],
          "heatmap": [
           {
            "colorbar": {
             "outlinewidth": 0,
             "ticks": ""
            },
            "colorscale": [
             [
              0,
              "#0d0887"
             ],
             [
              0.1111111111111111,
              "#46039f"
             ],
             [
              0.2222222222222222,
              "#7201a8"
             ],
             [
              0.3333333333333333,
              "#9c179e"
             ],
             [
              0.4444444444444444,
              "#bd3786"
             ],
             [
              0.5555555555555556,
              "#d8576b"
             ],
             [
              0.6666666666666666,
              "#ed7953"
             ],
             [
              0.7777777777777778,
              "#fb9f3a"
             ],
             [
              0.8888888888888888,
              "#fdca26"
             ],
             [
              1,
              "#f0f921"
             ]
            ],
            "type": "heatmap"
           }
          ],
          "heatmapgl": [
           {
            "colorbar": {
             "outlinewidth": 0,
             "ticks": ""
            },
            "colorscale": [
             [
              0,
              "#0d0887"
             ],
             [
              0.1111111111111111,
              "#46039f"
             ],
             [
              0.2222222222222222,
              "#7201a8"
             ],
             [
              0.3333333333333333,
              "#9c179e"
             ],
             [
              0.4444444444444444,
              "#bd3786"
             ],
             [
              0.5555555555555556,
              "#d8576b"
             ],
             [
              0.6666666666666666,
              "#ed7953"
             ],
             [
              0.7777777777777778,
              "#fb9f3a"
             ],
             [
              0.8888888888888888,
              "#fdca26"
             ],
             [
              1,
              "#f0f921"
             ]
            ],
            "type": "heatmapgl"
           }
          ],
          "histogram": [
           {
            "marker": {
             "pattern": {
              "fillmode": "overlay",
              "size": 10,
              "solidity": 0.2
             }
            },
            "type": "histogram"
           }
          ],
          "histogram2d": [
           {
            "colorbar": {
             "outlinewidth": 0,
             "ticks": ""
            },
            "colorscale": [
             [
              0,
              "#0d0887"
             ],
             [
              0.1111111111111111,
              "#46039f"
             ],
             [
              0.2222222222222222,
              "#7201a8"
             ],
             [
              0.3333333333333333,
              "#9c179e"
             ],
             [
              0.4444444444444444,
              "#bd3786"
             ],
             [
              0.5555555555555556,
              "#d8576b"
             ],
             [
              0.6666666666666666,
              "#ed7953"
             ],
             [
              0.7777777777777778,
              "#fb9f3a"
             ],
             [
              0.8888888888888888,
              "#fdca26"
             ],
             [
              1,
              "#f0f921"
             ]
            ],
            "type": "histogram2d"
           }
          ],
          "histogram2dcontour": [
           {
            "colorbar": {
             "outlinewidth": 0,
             "ticks": ""
            },
            "colorscale": [
             [
              0,
              "#0d0887"
             ],
             [
              0.1111111111111111,
              "#46039f"
             ],
             [
              0.2222222222222222,
              "#7201a8"
             ],
             [
              0.3333333333333333,
              "#9c179e"
             ],
             [
              0.4444444444444444,
              "#bd3786"
             ],
             [
              0.5555555555555556,
              "#d8576b"
             ],
             [
              0.6666666666666666,
              "#ed7953"
             ],
             [
              0.7777777777777778,
              "#fb9f3a"
             ],
             [
              0.8888888888888888,
              "#fdca26"
             ],
             [
              1,
              "#f0f921"
             ]
            ],
            "type": "histogram2dcontour"
           }
          ],
          "mesh3d": [
           {
            "colorbar": {
             "outlinewidth": 0,
             "ticks": ""
            },
            "type": "mesh3d"
           }
          ],
          "parcoords": [
           {
            "line": {
             "colorbar": {
              "outlinewidth": 0,
              "ticks": ""
             }
            },
            "type": "parcoords"
           }
          ],
          "pie": [
           {
            "automargin": true,
            "type": "pie"
           }
          ],
          "scatter": [
           {
            "fillpattern": {
             "fillmode": "overlay",
             "size": 10,
             "solidity": 0.2
            },
            "type": "scatter"
           }
          ],
          "scatter3d": [
           {
            "line": {
             "colorbar": {
              "outlinewidth": 0,
              "ticks": ""
             }
            },
            "marker": {
             "colorbar": {
              "outlinewidth": 0,
              "ticks": ""
             }
            },
            "type": "scatter3d"
           }
          ],
          "scattercarpet": [
           {
            "marker": {
             "colorbar": {
              "outlinewidth": 0,
              "ticks": ""
             }
            },
            "type": "scattercarpet"
           }
          ],
          "scattergeo": [
           {
            "marker": {
             "colorbar": {
              "outlinewidth": 0,
              "ticks": ""
             }
            },
            "type": "scattergeo"
           }
          ],
          "scattergl": [
           {
            "marker": {
             "colorbar": {
              "outlinewidth": 0,
              "ticks": ""
             }
            },
            "type": "scattergl"
           }
          ],
          "scattermapbox": [
           {
            "marker": {
             "colorbar": {
              "outlinewidth": 0,
              "ticks": ""
             }
            },
            "type": "scattermapbox"
           }
          ],
          "scatterpolar": [
           {
            "marker": {
             "colorbar": {
              "outlinewidth": 0,
              "ticks": ""
             }
            },
            "type": "scatterpolar"
           }
          ],
          "scatterpolargl": [
           {
            "marker": {
             "colorbar": {
              "outlinewidth": 0,
              "ticks": ""
             }
            },
            "type": "scatterpolargl"
           }
          ],
          "scatterternary": [
           {
            "marker": {
             "colorbar": {
              "outlinewidth": 0,
              "ticks": ""
             }
            },
            "type": "scatterternary"
           }
          ],
          "surface": [
           {
            "colorbar": {
             "outlinewidth": 0,
             "ticks": ""
            },
            "colorscale": [
             [
              0,
              "#0d0887"
             ],
             [
              0.1111111111111111,
              "#46039f"
             ],
             [
              0.2222222222222222,
              "#7201a8"
             ],
             [
              0.3333333333333333,
              "#9c179e"
             ],
             [
              0.4444444444444444,
              "#bd3786"
             ],
             [
              0.5555555555555556,
              "#d8576b"
             ],
             [
              0.6666666666666666,
              "#ed7953"
             ],
             [
              0.7777777777777778,
              "#fb9f3a"
             ],
             [
              0.8888888888888888,
              "#fdca26"
             ],
             [
              1,
              "#f0f921"
             ]
            ],
            "type": "surface"
           }
          ],
          "table": [
           {
            "cells": {
             "fill": {
              "color": "#EBF0F8"
             },
             "line": {
              "color": "white"
             }
            },
            "header": {
             "fill": {
              "color": "#C8D4E3"
             },
             "line": {
              "color": "white"
             }
            },
            "type": "table"
           }
          ]
         },
         "layout": {
          "annotationdefaults": {
           "arrowcolor": "#2a3f5f",
           "arrowhead": 0,
           "arrowwidth": 1
          },
          "autotypenumbers": "strict",
          "coloraxis": {
           "colorbar": {
            "outlinewidth": 0,
            "ticks": ""
           }
          },
          "colorscale": {
           "diverging": [
            [
             0,
             "#8e0152"
            ],
            [
             0.1,
             "#c51b7d"
            ],
            [
             0.2,
             "#de77ae"
            ],
            [
             0.3,
             "#f1b6da"
            ],
            [
             0.4,
             "#fde0ef"
            ],
            [
             0.5,
             "#f7f7f7"
            ],
            [
             0.6,
             "#e6f5d0"
            ],
            [
             0.7,
             "#b8e186"
            ],
            [
             0.8,
             "#7fbc41"
            ],
            [
             0.9,
             "#4d9221"
            ],
            [
             1,
             "#276419"
            ]
           ],
           "sequential": [
            [
             0,
             "#0d0887"
            ],
            [
             0.1111111111111111,
             "#46039f"
            ],
            [
             0.2222222222222222,
             "#7201a8"
            ],
            [
             0.3333333333333333,
             "#9c179e"
            ],
            [
             0.4444444444444444,
             "#bd3786"
            ],
            [
             0.5555555555555556,
             "#d8576b"
            ],
            [
             0.6666666666666666,
             "#ed7953"
            ],
            [
             0.7777777777777778,
             "#fb9f3a"
            ],
            [
             0.8888888888888888,
             "#fdca26"
            ],
            [
             1,
             "#f0f921"
            ]
           ],
           "sequentialminus": [
            [
             0,
             "#0d0887"
            ],
            [
             0.1111111111111111,
             "#46039f"
            ],
            [
             0.2222222222222222,
             "#7201a8"
            ],
            [
             0.3333333333333333,
             "#9c179e"
            ],
            [
             0.4444444444444444,
             "#bd3786"
            ],
            [
             0.5555555555555556,
             "#d8576b"
            ],
            [
             0.6666666666666666,
             "#ed7953"
            ],
            [
             0.7777777777777778,
             "#fb9f3a"
            ],
            [
             0.8888888888888888,
             "#fdca26"
            ],
            [
             1,
             "#f0f921"
            ]
           ]
          },
          "colorway": [
           "#636efa",
           "#EF553B",
           "#00cc96",
           "#ab63fa",
           "#FFA15A",
           "#19d3f3",
           "#FF6692",
           "#B6E880",
           "#FF97FF",
           "#FECB52"
          ],
          "font": {
           "color": "#2a3f5f"
          },
          "geo": {
           "bgcolor": "white",
           "lakecolor": "white",
           "landcolor": "white",
           "showlakes": true,
           "showland": true,
           "subunitcolor": "#C8D4E3"
          },
          "hoverlabel": {
           "align": "left"
          },
          "hovermode": "closest",
          "mapbox": {
           "style": "light"
          },
          "paper_bgcolor": "white",
          "plot_bgcolor": "white",
          "polar": {
           "angularaxis": {
            "gridcolor": "#EBF0F8",
            "linecolor": "#EBF0F8",
            "ticks": ""
           },
           "bgcolor": "white",
           "radialaxis": {
            "gridcolor": "#EBF0F8",
            "linecolor": "#EBF0F8",
            "ticks": ""
           }
          },
          "scene": {
           "xaxis": {
            "backgroundcolor": "white",
            "gridcolor": "#DFE8F3",
            "gridwidth": 2,
            "linecolor": "#EBF0F8",
            "showbackground": true,
            "ticks": "",
            "zerolinecolor": "#EBF0F8"
           },
           "yaxis": {
            "backgroundcolor": "white",
            "gridcolor": "#DFE8F3",
            "gridwidth": 2,
            "linecolor": "#EBF0F8",
            "showbackground": true,
            "ticks": "",
            "zerolinecolor": "#EBF0F8"
           },
           "zaxis": {
            "backgroundcolor": "white",
            "gridcolor": "#DFE8F3",
            "gridwidth": 2,
            "linecolor": "#EBF0F8",
            "showbackground": true,
            "ticks": "",
            "zerolinecolor": "#EBF0F8"
           }
          },
          "shapedefaults": {
           "line": {
            "color": "#2a3f5f"
           }
          },
          "ternary": {
           "aaxis": {
            "gridcolor": "#DFE8F3",
            "linecolor": "#A2B1C6",
            "ticks": ""
           },
           "baxis": {
            "gridcolor": "#DFE8F3",
            "linecolor": "#A2B1C6",
            "ticks": ""
           },
           "bgcolor": "white",
           "caxis": {
            "gridcolor": "#DFE8F3",
            "linecolor": "#A2B1C6",
            "ticks": ""
           }
          },
          "title": {
           "x": 0.05
          },
          "xaxis": {
           "automargin": true,
           "gridcolor": "#EBF0F8",
           "linecolor": "#EBF0F8",
           "ticks": "",
           "title": {
            "standoff": 15
           },
           "zerolinecolor": "#EBF0F8",
           "zerolinewidth": 2
          },
          "yaxis": {
           "automargin": true,
           "gridcolor": "#EBF0F8",
           "linecolor": "#EBF0F8",
           "ticks": "",
           "title": {
            "standoff": 15
           },
           "zerolinecolor": "#EBF0F8",
           "zerolinewidth": 2
          }
         }
        },
        "title": {
         "text": "Likes Distribution for Each Hashtag"
        },
        "xaxis": {
         "anchor": "y",
         "domain": [
          0,
          1
         ],
         "title": {
          "text": "Hashtag"
         }
        },
        "yaxis": {
         "anchor": "x",
         "domain": [
          0,
          1
         ],
         "title": {
          "text": "Likes"
         }
        }
       }
      }
     },
     "metadata": {},
     "output_type": "display_data"
    },
    {
     "data": {
      "application/vnd.plotly.v1+json": {
       "config": {
        "plotlyServerURL": "https://plot.ly"
       },
       "data": [
        {
         "alignmentgroup": "True",
         "hovertemplate": "Hashtag=%{x}<br>Impressions=%{y}<extra></extra>",
         "legendgroup": "",
         "marker": {
          "color": "#636efa",
          "pattern": {
           "shape": ""
          }
         },
         "name": "",
         "offsetgroup": "",
         "orientation": "v",
         "showlegend": false,
         "textposition": "auto",
         "type": "bar",
         "x": [
          "#finance",
          "#money",
          "#business",
          "#investing",
          "#investment",
          "#trading",
          "#stockmarket",
          "#data",
          "#datascience",
          "#dataanalysis",
          "#dataanalytics",
          "#datascientist",
          "#machinelearning",
          "#python",
          "#pythonprogramming",
          "#pythonprojects",
          "#pythoncode",
          "#artificialintelligence",
          "#ai",
          "#dataanalyst",
          "#amankharwal",
          "#thecleverprogrammer",
          "#healthcare",
          "#health",
          "#covid",
          "#deeplearning",
          "#machinelearningprojects",
          "#datascienceprojects",
          "#machinelearningmodels",
          "#pythonlearning",
          "#pythondeveloper",
          "#pythoncoding",
          "#pythonprogrammer",
          "#datavisualization",
          "#bigdata",
          "#dataviz",
          "#analytics",
          "#technology",
          "#programming",
          "#statistics",
          "#coding",
          "#businessintelligence",
          "#datamining",
          "#tech",
          "#computerscience",
          "#tableau",
          "#database",
          "#algorithm",
          "#algorithms",
          "#machinelearningalgorithms",
          "#ml",
          "#softskills",
          "#stocks",
          "#forex",
          "#candlestick",
          "#candlestickcharts",
          "#pythonbooks",
          "#bookstagram",
          "#powerbi",
          "#dataanalysisprojects",
          "#businessanalytics",
          "#neuralnetwork",
          "#neuralnetworks",
          "#tensorflow",
          "#artificialintelligenceai",
          "#alexnet",
          "#sentimentanalysis",
          "#sentiment",
          "#nlp",
          "#naturallanguageprocessing",
          "#timeseries",
          "#time",
          "#timeseriesanalysis",
          "#iot",
          "#analysis",
          "#timeseriesmalaysia",
          "#career",
          "#job",
          "#jobs",
          "#jobsearch",
          "#education",
          "#success",
          "#careergoals",
          "#motivation",
          "#work",
          "#careerdevelopment",
          "#careers",
          "#goals",
          "#resume",
          "#students",
          "#careeradvice",
          "#marketing",
          "#digitalmarketing",
          "#media",
          "#socialmedia",
          "#IT",
          "#webdevelopment",
          "#stress",
          "#stressdetection",
          "#zomato",
          "#casestudy",
          "#businessmodel",
          "#boxplots",
          "#programmer",
          "#developer",
          "#javascript",
          "#code",
          "#coder",
          "#java",
          "#html",
          "#css",
          "#webdeveloper",
          "#software",
          "#codinglife",
          "#softwaredeveloper",
          "#linux",
          "#programmingmemes",
          "#webdesign",
          "#programmers",
          "#php",
          "#programminglife",
          "#hacking",
          "#bitcoin",
          "#cryptocurrency",
          "#projects",
          "#casestudies",
          "#amazonfinds",
          "#security",
          "#cybersecurity",
          "#network",
          "#internet",
          "#cloud",
          "#innovation",
          "#google",
          "#facebook",
          "#interview",
          "#datascienceinterview",
          "#otp",
          "#otpverification",
          "#qrcodes",
          "#bigdataanalytics",
          "#recommended",
          "#recommendations",
          "#recommendationsystem",
          "#recommendation",
          "#codinginterview",
          "#flipkart",
          "#news",
          "#pythonprogram",
          "@codergallery",
          "#whatsapp",
          "#roadmap",
          "#ukraine",
          "#instagram",
          "#instagramreach",
          "#datasciencejobs",
          "#datasciencetraining",
          "#datascienceeducation",
          "#datasciencecourse",
          "#sql",
          "#mysql",
          "#python3",
          "#pythonprogramminglanguage",
          "#clustering"
         ],
         "xaxis": "x",
         "y": [
          14224,
          14224,
          51387,
          14224,
          9757,
          9757,
          9757,
          484761,
          524640,
          457923,
          497787,
          483746,
          532627,
          578243,
          525346,
          567608,
          470276,
          506190,
          512027,
          47051,
          672166,
          672166,
          18292,
          18292,
          18292,
          445317,
          297427,
          297427,
          27201,
          135901,
          135901,
          135901,
          135901,
          64864,
          70884,
          15438,
          53464,
          85523,
          90132,
          47283,
          83264,
          17971,
          17971,
          78655,
          75019,
          6506,
          22088,
          57289,
          57289,
          71529,
          30316,
          3884,
          5837,
          5837,
          5837,
          5837,
          3541,
          3541,
          13389,
          9401,
          9401,
          31660,
          18529,
          14240,
          14240,
          2218,
          34102,
          34102,
          42567,
          42567,
          22444,
          22444,
          22444,
          22444,
          22444,
          22444,
          8004,
          14856,
          8004,
          8004,
          8004,
          8004,
          8004,
          8004,
          8004,
          8004,
          8004,
          8004,
          8004,
          8004,
          8004,
          8004,
          8004,
          8004,
          8004,
          8004,
          35456,
          12336,
          12336,
          10844,
          10844,
          10844,
          2064,
          22843,
          22843,
          22843,
          22843,
          22843,
          22843,
          22843,
          22843,
          22843,
          29024,
          22843,
          22843,
          15991,
          15991,
          15991,
          15991,
          15991,
          15991,
          15991,
          14121,
          14121,
          7848,
          7848,
          6030,
          6181,
          6181,
          6181,
          6181,
          6181,
          6181,
          3854,
          2327,
          16139,
          4998,
          8030,
          8030,
          3786,
          3988,
          10036,
          10036,
          10036,
          10036,
          6852,
          3601,
          3525,
          2957,
          2957,
          5538,
          10682,
          8001,
          7231,
          7231,
          86691,
          86691,
          86691,
          86691,
          17713,
          17713,
          15991,
          15991,
          9870
         ],
         "yaxis": "y"
        }
       ],
       "layout": {
        "barmode": "relative",
        "legend": {
         "tracegroupgap": 0
        },
        "template": {
         "data": {
          "bar": [
           {
            "error_x": {
             "color": "#2a3f5f"
            },
            "error_y": {
             "color": "#2a3f5f"
            },
            "marker": {
             "line": {
              "color": "white",
              "width": 0.5
             },
             "pattern": {
              "fillmode": "overlay",
              "size": 10,
              "solidity": 0.2
             }
            },
            "type": "bar"
           }
          ],
          "barpolar": [
           {
            "marker": {
             "line": {
              "color": "white",
              "width": 0.5
             },
             "pattern": {
              "fillmode": "overlay",
              "size": 10,
              "solidity": 0.2
             }
            },
            "type": "barpolar"
           }
          ],
          "carpet": [
           {
            "aaxis": {
             "endlinecolor": "#2a3f5f",
             "gridcolor": "#C8D4E3",
             "linecolor": "#C8D4E3",
             "minorgridcolor": "#C8D4E3",
             "startlinecolor": "#2a3f5f"
            },
            "baxis": {
             "endlinecolor": "#2a3f5f",
             "gridcolor": "#C8D4E3",
             "linecolor": "#C8D4E3",
             "minorgridcolor": "#C8D4E3",
             "startlinecolor": "#2a3f5f"
            },
            "type": "carpet"
           }
          ],
          "choropleth": [
           {
            "colorbar": {
             "outlinewidth": 0,
             "ticks": ""
            },
            "type": "choropleth"
           }
          ],
          "contour": [
           {
            "colorbar": {
             "outlinewidth": 0,
             "ticks": ""
            },
            "colorscale": [
             [
              0,
              "#0d0887"
             ],
             [
              0.1111111111111111,
              "#46039f"
             ],
             [
              0.2222222222222222,
              "#7201a8"
             ],
             [
              0.3333333333333333,
              "#9c179e"
             ],
             [
              0.4444444444444444,
              "#bd3786"
             ],
             [
              0.5555555555555556,
              "#d8576b"
             ],
             [
              0.6666666666666666,
              "#ed7953"
             ],
             [
              0.7777777777777778,
              "#fb9f3a"
             ],
             [
              0.8888888888888888,
              "#fdca26"
             ],
             [
              1,
              "#f0f921"
             ]
            ],
            "type": "contour"
           }
          ],
          "contourcarpet": [
           {
            "colorbar": {
             "outlinewidth": 0,
             "ticks": ""
            },
            "type": "contourcarpet"
           }
          ],
          "heatmap": [
           {
            "colorbar": {
             "outlinewidth": 0,
             "ticks": ""
            },
            "colorscale": [
             [
              0,
              "#0d0887"
             ],
             [
              0.1111111111111111,
              "#46039f"
             ],
             [
              0.2222222222222222,
              "#7201a8"
             ],
             [
              0.3333333333333333,
              "#9c179e"
             ],
             [
              0.4444444444444444,
              "#bd3786"
             ],
             [
              0.5555555555555556,
              "#d8576b"
             ],
             [
              0.6666666666666666,
              "#ed7953"
             ],
             [
              0.7777777777777778,
              "#fb9f3a"
             ],
             [
              0.8888888888888888,
              "#fdca26"
             ],
             [
              1,
              "#f0f921"
             ]
            ],
            "type": "heatmap"
           }
          ],
          "heatmapgl": [
           {
            "colorbar": {
             "outlinewidth": 0,
             "ticks": ""
            },
            "colorscale": [
             [
              0,
              "#0d0887"
             ],
             [
              0.1111111111111111,
              "#46039f"
             ],
             [
              0.2222222222222222,
              "#7201a8"
             ],
             [
              0.3333333333333333,
              "#9c179e"
             ],
             [
              0.4444444444444444,
              "#bd3786"
             ],
             [
              0.5555555555555556,
              "#d8576b"
             ],
             [
              0.6666666666666666,
              "#ed7953"
             ],
             [
              0.7777777777777778,
              "#fb9f3a"
             ],
             [
              0.8888888888888888,
              "#fdca26"
             ],
             [
              1,
              "#f0f921"
             ]
            ],
            "type": "heatmapgl"
           }
          ],
          "histogram": [
           {
            "marker": {
             "pattern": {
              "fillmode": "overlay",
              "size": 10,
              "solidity": 0.2
             }
            },
            "type": "histogram"
           }
          ],
          "histogram2d": [
           {
            "colorbar": {
             "outlinewidth": 0,
             "ticks": ""
            },
            "colorscale": [
             [
              0,
              "#0d0887"
             ],
             [
              0.1111111111111111,
              "#46039f"
             ],
             [
              0.2222222222222222,
              "#7201a8"
             ],
             [
              0.3333333333333333,
              "#9c179e"
             ],
             [
              0.4444444444444444,
              "#bd3786"
             ],
             [
              0.5555555555555556,
              "#d8576b"
             ],
             [
              0.6666666666666666,
              "#ed7953"
             ],
             [
              0.7777777777777778,
              "#fb9f3a"
             ],
             [
              0.8888888888888888,
              "#fdca26"
             ],
             [
              1,
              "#f0f921"
             ]
            ],
            "type": "histogram2d"
           }
          ],
          "histogram2dcontour": [
           {
            "colorbar": {
             "outlinewidth": 0,
             "ticks": ""
            },
            "colorscale": [
             [
              0,
              "#0d0887"
             ],
             [
              0.1111111111111111,
              "#46039f"
             ],
             [
              0.2222222222222222,
              "#7201a8"
             ],
             [
              0.3333333333333333,
              "#9c179e"
             ],
             [
              0.4444444444444444,
              "#bd3786"
             ],
             [
              0.5555555555555556,
              "#d8576b"
             ],
             [
              0.6666666666666666,
              "#ed7953"
             ],
             [
              0.7777777777777778,
              "#fb9f3a"
             ],
             [
              0.8888888888888888,
              "#fdca26"
             ],
             [
              1,
              "#f0f921"
             ]
            ],
            "type": "histogram2dcontour"
           }
          ],
          "mesh3d": [
           {
            "colorbar": {
             "outlinewidth": 0,
             "ticks": ""
            },
            "type": "mesh3d"
           }
          ],
          "parcoords": [
           {
            "line": {
             "colorbar": {
              "outlinewidth": 0,
              "ticks": ""
             }
            },
            "type": "parcoords"
           }
          ],
          "pie": [
           {
            "automargin": true,
            "type": "pie"
           }
          ],
          "scatter": [
           {
            "fillpattern": {
             "fillmode": "overlay",
             "size": 10,
             "solidity": 0.2
            },
            "type": "scatter"
           }
          ],
          "scatter3d": [
           {
            "line": {
             "colorbar": {
              "outlinewidth": 0,
              "ticks": ""
             }
            },
            "marker": {
             "colorbar": {
              "outlinewidth": 0,
              "ticks": ""
             }
            },
            "type": "scatter3d"
           }
          ],
          "scattercarpet": [
           {
            "marker": {
             "colorbar": {
              "outlinewidth": 0,
              "ticks": ""
             }
            },
            "type": "scattercarpet"
           }
          ],
          "scattergeo": [
           {
            "marker": {
             "colorbar": {
              "outlinewidth": 0,
              "ticks": ""
             }
            },
            "type": "scattergeo"
           }
          ],
          "scattergl": [
           {
            "marker": {
             "colorbar": {
              "outlinewidth": 0,
              "ticks": ""
             }
            },
            "type": "scattergl"
           }
          ],
          "scattermapbox": [
           {
            "marker": {
             "colorbar": {
              "outlinewidth": 0,
              "ticks": ""
             }
            },
            "type": "scattermapbox"
           }
          ],
          "scatterpolar": [
           {
            "marker": {
             "colorbar": {
              "outlinewidth": 0,
              "ticks": ""
             }
            },
            "type": "scatterpolar"
           }
          ],
          "scatterpolargl": [
           {
            "marker": {
             "colorbar": {
              "outlinewidth": 0,
              "ticks": ""
             }
            },
            "type": "scatterpolargl"
           }
          ],
          "scatterternary": [
           {
            "marker": {
             "colorbar": {
              "outlinewidth": 0,
              "ticks": ""
             }
            },
            "type": "scatterternary"
           }
          ],
          "surface": [
           {
            "colorbar": {
             "outlinewidth": 0,
             "ticks": ""
            },
            "colorscale": [
             [
              0,
              "#0d0887"
             ],
             [
              0.1111111111111111,
              "#46039f"
             ],
             [
              0.2222222222222222,
              "#7201a8"
             ],
             [
              0.3333333333333333,
              "#9c179e"
             ],
             [
              0.4444444444444444,
              "#bd3786"
             ],
             [
              0.5555555555555556,
              "#d8576b"
             ],
             [
              0.6666666666666666,
              "#ed7953"
             ],
             [
              0.7777777777777778,
              "#fb9f3a"
             ],
             [
              0.8888888888888888,
              "#fdca26"
             ],
             [
              1,
              "#f0f921"
             ]
            ],
            "type": "surface"
           }
          ],
          "table": [
           {
            "cells": {
             "fill": {
              "color": "#EBF0F8"
             },
             "line": {
              "color": "white"
             }
            },
            "header": {
             "fill": {
              "color": "#C8D4E3"
             },
             "line": {
              "color": "white"
             }
            },
            "type": "table"
           }
          ]
         },
         "layout": {
          "annotationdefaults": {
           "arrowcolor": "#2a3f5f",
           "arrowhead": 0,
           "arrowwidth": 1
          },
          "autotypenumbers": "strict",
          "coloraxis": {
           "colorbar": {
            "outlinewidth": 0,
            "ticks": ""
           }
          },
          "colorscale": {
           "diverging": [
            [
             0,
             "#8e0152"
            ],
            [
             0.1,
             "#c51b7d"
            ],
            [
             0.2,
             "#de77ae"
            ],
            [
             0.3,
             "#f1b6da"
            ],
            [
             0.4,
             "#fde0ef"
            ],
            [
             0.5,
             "#f7f7f7"
            ],
            [
             0.6,
             "#e6f5d0"
            ],
            [
             0.7,
             "#b8e186"
            ],
            [
             0.8,
             "#7fbc41"
            ],
            [
             0.9,
             "#4d9221"
            ],
            [
             1,
             "#276419"
            ]
           ],
           "sequential": [
            [
             0,
             "#0d0887"
            ],
            [
             0.1111111111111111,
             "#46039f"
            ],
            [
             0.2222222222222222,
             "#7201a8"
            ],
            [
             0.3333333333333333,
             "#9c179e"
            ],
            [
             0.4444444444444444,
             "#bd3786"
            ],
            [
             0.5555555555555556,
             "#d8576b"
            ],
            [
             0.6666666666666666,
             "#ed7953"
            ],
            [
             0.7777777777777778,
             "#fb9f3a"
            ],
            [
             0.8888888888888888,
             "#fdca26"
            ],
            [
             1,
             "#f0f921"
            ]
           ],
           "sequentialminus": [
            [
             0,
             "#0d0887"
            ],
            [
             0.1111111111111111,
             "#46039f"
            ],
            [
             0.2222222222222222,
             "#7201a8"
            ],
            [
             0.3333333333333333,
             "#9c179e"
            ],
            [
             0.4444444444444444,
             "#bd3786"
            ],
            [
             0.5555555555555556,
             "#d8576b"
            ],
            [
             0.6666666666666666,
             "#ed7953"
            ],
            [
             0.7777777777777778,
             "#fb9f3a"
            ],
            [
             0.8888888888888888,
             "#fdca26"
            ],
            [
             1,
             "#f0f921"
            ]
           ]
          },
          "colorway": [
           "#636efa",
           "#EF553B",
           "#00cc96",
           "#ab63fa",
           "#FFA15A",
           "#19d3f3",
           "#FF6692",
           "#B6E880",
           "#FF97FF",
           "#FECB52"
          ],
          "font": {
           "color": "#2a3f5f"
          },
          "geo": {
           "bgcolor": "white",
           "lakecolor": "white",
           "landcolor": "white",
           "showlakes": true,
           "showland": true,
           "subunitcolor": "#C8D4E3"
          },
          "hoverlabel": {
           "align": "left"
          },
          "hovermode": "closest",
          "mapbox": {
           "style": "light"
          },
          "paper_bgcolor": "white",
          "plot_bgcolor": "white",
          "polar": {
           "angularaxis": {
            "gridcolor": "#EBF0F8",
            "linecolor": "#EBF0F8",
            "ticks": ""
           },
           "bgcolor": "white",
           "radialaxis": {
            "gridcolor": "#EBF0F8",
            "linecolor": "#EBF0F8",
            "ticks": ""
           }
          },
          "scene": {
           "xaxis": {
            "backgroundcolor": "white",
            "gridcolor": "#DFE8F3",
            "gridwidth": 2,
            "linecolor": "#EBF0F8",
            "showbackground": true,
            "ticks": "",
            "zerolinecolor": "#EBF0F8"
           },
           "yaxis": {
            "backgroundcolor": "white",
            "gridcolor": "#DFE8F3",
            "gridwidth": 2,
            "linecolor": "#EBF0F8",
            "showbackground": true,
            "ticks": "",
            "zerolinecolor": "#EBF0F8"
           },
           "zaxis": {
            "backgroundcolor": "white",
            "gridcolor": "#DFE8F3",
            "gridwidth": 2,
            "linecolor": "#EBF0F8",
            "showbackground": true,
            "ticks": "",
            "zerolinecolor": "#EBF0F8"
           }
          },
          "shapedefaults": {
           "line": {
            "color": "#2a3f5f"
           }
          },
          "ternary": {
           "aaxis": {
            "gridcolor": "#DFE8F3",
            "linecolor": "#A2B1C6",
            "ticks": ""
           },
           "baxis": {
            "gridcolor": "#DFE8F3",
            "linecolor": "#A2B1C6",
            "ticks": ""
           },
           "bgcolor": "white",
           "caxis": {
            "gridcolor": "#DFE8F3",
            "linecolor": "#A2B1C6",
            "ticks": ""
           }
          },
          "title": {
           "x": 0.05
          },
          "xaxis": {
           "automargin": true,
           "gridcolor": "#EBF0F8",
           "linecolor": "#EBF0F8",
           "ticks": "",
           "title": {
            "standoff": 15
           },
           "zerolinecolor": "#EBF0F8",
           "zerolinewidth": 2
          },
          "yaxis": {
           "automargin": true,
           "gridcolor": "#EBF0F8",
           "linecolor": "#EBF0F8",
           "ticks": "",
           "title": {
            "standoff": 15
           },
           "zerolinecolor": "#EBF0F8",
           "zerolinewidth": 2
          }
         }
        },
        "title": {
         "text": "Impressions Distribution for Each Hashtag"
        },
        "xaxis": {
         "anchor": "y",
         "domain": [
          0,
          1
         ],
         "title": {
          "text": "Hashtag"
         }
        },
        "yaxis": {
         "anchor": "x",
         "domain": [
          0,
          1
         ],
         "title": {
          "text": "Impressions"
         }
        }
       }
      }
     },
     "metadata": {},
     "output_type": "display_data"
    }
   ],
   "source": [
    "import pandas as pd\n",
    "import plotly.express as px\n",
    "\n",
    "# Create dictionaries to store likes and impressions for each hashtag\n",
    "hashtag_likes = {}\n",
    "hashtag_impressions = {}\n",
    "\n",
    "# Iterate through each row in the dataset\n",
    "for index, row in data.iterrows():\n",
    "    hashtags = str(row['Hashtags']).split()\n",
    "    for hashtag in hashtags:\n",
    "        hashtag = hashtag.strip()  # Remove leading and trailing whitespaces\n",
    "        if hashtag not in hashtag_likes:\n",
    "            hashtag_likes[hashtag] = 0\n",
    "            hashtag_impressions[hashtag] = 0\n",
    "\n",
    "        hashtag_likes[hashtag] += row['Likes']\n",
    "        hashtag_impressions[hashtag] += row['Impressions']\n",
    "\n",
    "# Create DataFrames for Likes and Impressions distribution\n",
    "likes_distribution = pd.DataFrame(list(hashtag_likes.items()), columns=['Hashtag', 'Likes'])\n",
    "impressions_distribution = pd.DataFrame(list(hashtag_impressions.items()), columns=['Hashtag', 'Impressions'])\n",
    "\n",
    "# Plot the distribution of likes for each hashtag\n",
    "fig_likes = px.bar(likes_distribution, x='Hashtag', y='Likes', title='Likes Distribution for Each Hashtag')\n",
    "fig_likes.show()\n",
    "\n",
    "# Plot the distribution of impressions for each hashtag\n",
    "fig_impressions = px.bar(impressions_distribution, x='Hashtag', y='Impressions', title='Impressions Distribution for Each Hashtag')\n",
    "fig_impressions.show()\n"
   ]
  }
 ],
 "metadata": {
  "kernelspec": {
   "display_name": "base",
   "language": "python",
   "name": "python3"
  },
  "language_info": {
   "codemirror_mode": {
    "name": "ipython",
    "version": 3
   },
   "file_extension": ".py",
   "mimetype": "text/x-python",
   "name": "python",
   "nbconvert_exporter": "python",
   "pygments_lexer": "ipython3",
   "version": "3.10.9"
  },
  "orig_nbformat": 4
 },
 "nbformat": 4,
 "nbformat_minor": 2
}
